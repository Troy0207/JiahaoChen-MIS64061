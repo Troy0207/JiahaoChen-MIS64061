{
  "nbformat": 4,
  "nbformat_minor": 0,
  "metadata": {
    "colab": {
      "name": "Assignment2.ipynb",
      "provenance": [],
      "collapsed_sections": [],
      "toc_visible": true,
      "authorship_tag": "ABX9TyMuImN8nZYkrXX5yzOA7j6k",
      "include_colab_link": true
    },
    "kernelspec": {
      "name": "python3",
      "display_name": "Python 3"
    },
    "language_info": {
      "name": "python"
    },
    "accelerator": "GPU"
  },
  "cells": [
    {
      "cell_type": "markdown",
      "metadata": {
        "id": "view-in-github",
        "colab_type": "text"
      },
      "source": [
        "<a href=\"https://colab.research.google.com/github/Troy0207/JiahaoChen-MIS64061/blob/main/Assignment2.ipynb\" target=\"_parent\"><img src=\"https://colab.research.google.com/assets/colab-badge.svg\" alt=\"Open In Colab\"/></a>"
      ]
    },
    {
      "cell_type": "markdown",
      "source": [
        "# Assignment 2"
      ],
      "metadata": {
        "id": "qDfrU6yA7rsZ"
      }
    },
    {
      "cell_type": "markdown",
      "source": [
        "##1 Build the Model from Scratch"
      ],
      "metadata": {
        "id": "vRkRAx6V_zpR"
      }
    },
    {
      "cell_type": "markdown",
      "source": [
        "### 1)Download Data"
      ],
      "metadata": {
        "id": "DuXQglK07x4P"
      }
    },
    {
      "cell_type": "code",
      "source": [
        "from google.colab import files\n",
        "files.upload()"
      ],
      "metadata": {
        "id": "3KrR7niC7vvY",
        "colab": {
          "resources": {
            "http://localhost:8080/nbextensions/google.colab/files.js": {
              "data": "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",
              "ok": true,
              "headers": [
                [
                  "content-type",
                  "application/javascript"
                ]
              ],
              "status": 200,
              "status_text": ""
            }
          },
          "base_uri": "https://localhost:8080/",
          "height": 94
        },
        "outputId": "c4b31419-a311-4ab4-f3fd-dd4ede546901"
      },
      "execution_count": 2,
      "outputs": [
        {
          "output_type": "display_data",
          "data": {
            "text/plain": [
              "<IPython.core.display.HTML object>"
            ],
            "text/html": [
              "\n",
              "     <input type=\"file\" id=\"files-b7dc262d-47d7-4461-babe-a2e33b0feb50\" name=\"files[]\" multiple disabled\n",
              "        style=\"border:none\" />\n",
              "     <output id=\"result-b7dc262d-47d7-4461-babe-a2e33b0feb50\">\n",
              "      Upload widget is only available when the cell has been executed in the\n",
              "      current browser session. Please rerun this cell to enable.\n",
              "      </output>\n",
              "      <script src=\"/nbextensions/google.colab/files.js\"></script> "
            ]
          },
          "metadata": {}
        },
        {
          "output_type": "stream",
          "name": "stdout",
          "text": [
            "Saving kaggle.json to kaggle.json\n"
          ]
        },
        {
          "output_type": "execute_result",
          "data": {
            "text/plain": [
              "{'kaggle.json': b'{\"username\":\"jiahaochen123\",\"key\":\"5cc6a37d1d20508274a6ded0f45fcf3a\"}'}"
            ]
          },
          "metadata": {},
          "execution_count": 2
        }
      ]
    },
    {
      "cell_type": "code",
      "source": [
        "!mkdir ~/.kaggle\n",
        "!cp kaggle.json ~/.kaggle/\n",
        "!chmod 600 ~/.kaggle/kaggle.json"
      ],
      "metadata": {
        "id": "WmKcU6nt9h4_"
      },
      "execution_count": 3,
      "outputs": []
    },
    {
      "cell_type": "code",
      "source": [
        "!kaggle competitions download -c dogs-vs-cats\n",
        "!unzip -qq dogs-vs-cats.zip"
      ],
      "metadata": {
        "id": "92eB53tj9qy0",
        "colab": {
          "base_uri": "https://localhost:8080/"
        },
        "outputId": "30969558-026f-4004-9029-5cb696e0b6e0"
      },
      "execution_count": 4,
      "outputs": [
        {
          "output_type": "stream",
          "name": "stdout",
          "text": [
            "Downloading dogs-vs-cats.zip to /content\n",
            " 98% 792M/812M [00:03<00:00, 249MB/s]\n",
            "100% 812M/812M [00:03<00:00, 230MB/s]\n"
          ]
        }
      ]
    },
    {
      "cell_type": "code",
      "source": [
        "!unzip -qq train.zip"
      ],
      "metadata": {
        "id": "QTAqKyfc9yFc"
      },
      "execution_count": 5,
      "outputs": []
    },
    {
      "cell_type": "markdown",
      "source": [
        "### 2)Data Preparation"
      ],
      "metadata": {
        "id": "jmiH4Yd_--_z"
      }
    },
    {
      "cell_type": "code",
      "source": [
        "import os, shutil, pathlib\n",
        "\n",
        "original_dir = pathlib.Path(\"train\")\n",
        "new_base_dir = pathlib.Path(\"cats_vs_dogs_small\")\n",
        "\n",
        "def make_subset(subset_name, start_index, end_index):\n",
        "    for category in (\"cat\", \"dog\"):\n",
        "        dir = new_base_dir / subset_name / category\n",
        "        os.makedirs(dir)\n",
        "        fnames = [f\"{category}.{i}.jpg\" for i in range(start_index, end_index)]\n",
        "        for fname in fnames:\n",
        "            shutil.copyfile(src=original_dir / fname,\n",
        "                            dst=dir / fname)\n",
        "\n",
        "make_subset(\"train\", start_index=0, end_index=1000)\n",
        "make_subset(\"validation\", start_index=1000, end_index=1500)\n",
        "make_subset(\"test\", start_index=1500, end_index=2000)"
      ],
      "metadata": {
        "id": "KpeQtWZ2-p23"
      },
      "execution_count": 6,
      "outputs": []
    },
    {
      "cell_type": "markdown",
      "source": [
        "### 3) Model Build"
      ],
      "metadata": {
        "id": "h2RC5GZXBNlv"
      }
    },
    {
      "cell_type": "code",
      "source": [
        "\n",
        "from tensorflow import keras\n",
        "from tensorflow.keras import layers\n",
        "\n",
        "inputs = keras.Input(shape=(180, 180, 3))\n",
        "x = layers.Rescaling(1./255)(inputs)\n",
        "x = layers.Conv2D(filters=32, kernel_size=3, activation=\"relu\")(x)\n",
        "x = layers.MaxPooling2D(pool_size=2)(x)\n",
        "x = layers.Conv2D(filters=64, kernel_size=3, activation=\"relu\")(x)\n",
        "x = layers.MaxPooling2D(pool_size=2)(x)\n",
        "x = layers.Conv2D(filters=128, kernel_size=3, activation=\"relu\")(x)\n",
        "x = layers.MaxPooling2D(pool_size=2)(x)\n",
        "x = layers.Conv2D(filters=128, kernel_size=3, activation=\"relu\")(x)\n",
        "x = layers.MaxPooling2D(pool_size=2)(x)\n",
        "x = layers.Conv2D(filters=256, kernel_size=3, activation=\"relu\")(x)\n",
        "x = layers.Flatten()(x)\n",
        "x = layers.Dropout(0.5)(x)\n",
        "outputs = layers.Dense(1, activation=\"sigmoid\")(x)\n",
        "model = keras.Model(inputs=inputs, outputs=outputs)\n",
        "\n",
        "model.compile(loss=\"binary_crossentropy\",\n",
        "              optimizer=\"rmsprop\",\n",
        "              metrics=[\"accuracy\"])"
      ],
      "metadata": {
        "id": "qvh0QuRMBSta"
      },
      "execution_count": 7,
      "outputs": []
    },
    {
      "cell_type": "markdown",
      "source": [
        "### 4)Data Preprocessing"
      ],
      "metadata": {
        "id": "vCllbc26DRiJ"
      }
    },
    {
      "cell_type": "code",
      "source": [
        "from tensorflow.keras.utils import image_dataset_from_directory\n",
        "\n",
        "train_dataset = image_dataset_from_directory(\n",
        "    new_base_dir / \"train\",\n",
        "    image_size=(180, 180),\n",
        "    batch_size=32)\n",
        "validation_dataset = image_dataset_from_directory(\n",
        "    new_base_dir / \"validation\",\n",
        "    image_size=(180, 180),\n",
        "    batch_size=32)\n",
        "test_dataset = image_dataset_from_directory(\n",
        "    new_base_dir / \"test\",\n",
        "    image_size=(180, 180),\n",
        "    batch_size=32)"
      ],
      "metadata": {
        "id": "wEKoMnBNAReW",
        "colab": {
          "base_uri": "https://localhost:8080/"
        },
        "outputId": "bc8c6ac8-3a82-4c30-b2fc-cf8e169d564e"
      },
      "execution_count": null,
      "outputs": [
        {
          "output_type": "stream",
          "name": "stdout",
          "text": [
            "Found 2000 files belonging to 2 classes.\n",
            "Found 1000 files belonging to 2 classes.\n",
            "Found 1000 files belonging to 2 classes.\n"
          ]
        }
      ]
    },
    {
      "cell_type": "code",
      "execution_count": null,
      "metadata": {
        "id": "nEAmyd5a9Paq",
        "colab": {
          "base_uri": "https://localhost:8080/"
        },
        "outputId": "b202905d-abfe-4ded-e5e5-ec7bbd58e232"
      },
      "outputs": [
        {
          "output_type": "stream",
          "name": "stdout",
          "text": [
            "data batch shape: (32, 180, 180, 3)\n",
            "labels batch shape: (32,)\n"
          ]
        }
      ],
      "source": [
        "for data_batch, labels_batch in train_dataset:\n",
        "    print(\"data batch shape:\", data_batch.shape)\n",
        "    print(\"labels batch shape:\", labels_batch.shape)\n",
        "    break"
      ]
    },
    {
      "cell_type": "markdown",
      "source": [
        "### 5）Model Fit"
      ],
      "metadata": {
        "id": "lYzX-jRYHKRl"
      }
    },
    {
      "cell_type": "code",
      "execution_count": null,
      "metadata": {
        "id": "d9RpfllW9Paq",
        "colab": {
          "base_uri": "https://localhost:8080/"
        },
        "outputId": "d5351ba8-6744-4dbb-91f4-e67b745662bb"
      },
      "outputs": [
        {
          "output_type": "stream",
          "name": "stdout",
          "text": [
            "Epoch 1/30\n",
            "63/63 [==============================] - 20s 142ms/step - loss: 0.7044 - accuracy: 0.4925 - val_loss: 0.7084 - val_accuracy: 0.5000\n",
            "Epoch 2/30\n",
            "63/63 [==============================] - 8s 125ms/step - loss: 0.6904 - accuracy: 0.5410 - val_loss: 3.7522 - val_accuracy: 0.5000\n",
            "Epoch 3/30\n",
            "63/63 [==============================] - 8s 126ms/step - loss: 0.7168 - accuracy: 0.6190 - val_loss: 0.6446 - val_accuracy: 0.6200\n",
            "Epoch 4/30\n",
            "63/63 [==============================] - 8s 125ms/step - loss: 0.6351 - accuracy: 0.6435 - val_loss: 0.6067 - val_accuracy: 0.6680\n",
            "Epoch 5/30\n",
            "63/63 [==============================] - 8s 127ms/step - loss: 0.5976 - accuracy: 0.6890 - val_loss: 0.6009 - val_accuracy: 0.6650\n",
            "Epoch 6/30\n",
            "63/63 [==============================] - 8s 126ms/step - loss: 0.5745 - accuracy: 0.7070 - val_loss: 0.5713 - val_accuracy: 0.6920\n",
            "Epoch 7/30\n",
            "63/63 [==============================] - 8s 124ms/step - loss: 0.5358 - accuracy: 0.7375 - val_loss: 0.6419 - val_accuracy: 0.6810\n",
            "Epoch 8/30\n",
            "63/63 [==============================] - 8s 125ms/step - loss: 0.5077 - accuracy: 0.7630 - val_loss: 0.6393 - val_accuracy: 0.7050\n",
            "Epoch 9/30\n",
            "63/63 [==============================] - 8s 124ms/step - loss: 0.4807 - accuracy: 0.7675 - val_loss: 0.6277 - val_accuracy: 0.6780\n",
            "Epoch 10/30\n",
            "63/63 [==============================] - 8s 126ms/step - loss: 0.4278 - accuracy: 0.7985 - val_loss: 0.5626 - val_accuracy: 0.7230\n",
            "Epoch 11/30\n",
            "63/63 [==============================] - 8s 125ms/step - loss: 0.4155 - accuracy: 0.8015 - val_loss: 0.6143 - val_accuracy: 0.7010\n",
            "Epoch 12/30\n",
            "63/63 [==============================] - 8s 126ms/step - loss: 0.3767 - accuracy: 0.8375 - val_loss: 0.5307 - val_accuracy: 0.7470\n",
            "Epoch 13/30\n",
            "63/63 [==============================] - 8s 125ms/step - loss: 0.3235 - accuracy: 0.8580 - val_loss: 0.5991 - val_accuracy: 0.7380\n",
            "Epoch 14/30\n",
            "63/63 [==============================] - 8s 126ms/step - loss: 0.2872 - accuracy: 0.8745 - val_loss: 0.7299 - val_accuracy: 0.7240\n",
            "Epoch 15/30\n",
            "63/63 [==============================] - 8s 125ms/step - loss: 0.2560 - accuracy: 0.8975 - val_loss: 0.7713 - val_accuracy: 0.7330\n",
            "Epoch 16/30\n",
            "63/63 [==============================] - 8s 125ms/step - loss: 0.2192 - accuracy: 0.9010 - val_loss: 0.7261 - val_accuracy: 0.7400\n",
            "Epoch 17/30\n",
            "63/63 [==============================] - 8s 126ms/step - loss: 0.1898 - accuracy: 0.9145 - val_loss: 1.0632 - val_accuracy: 0.6790\n",
            "Epoch 18/30\n",
            "63/63 [==============================] - 8s 129ms/step - loss: 0.1621 - accuracy: 0.9380 - val_loss: 0.8116 - val_accuracy: 0.7510\n",
            "Epoch 19/30\n",
            "63/63 [==============================] - 8s 126ms/step - loss: 0.1536 - accuracy: 0.9415 - val_loss: 0.9125 - val_accuracy: 0.7330\n",
            "Epoch 20/30\n",
            "63/63 [==============================] - 9s 141ms/step - loss: 0.1334 - accuracy: 0.9530 - val_loss: 0.8751 - val_accuracy: 0.7600\n",
            "Epoch 21/30\n",
            "63/63 [==============================] - 8s 128ms/step - loss: 0.1228 - accuracy: 0.9520 - val_loss: 0.9889 - val_accuracy: 0.7290\n",
            "Epoch 22/30\n",
            "63/63 [==============================] - 8s 126ms/step - loss: 0.0994 - accuracy: 0.9605 - val_loss: 0.9913 - val_accuracy: 0.7560\n",
            "Epoch 23/30\n",
            "63/63 [==============================] - 8s 126ms/step - loss: 0.0937 - accuracy: 0.9610 - val_loss: 1.2688 - val_accuracy: 0.7180\n",
            "Epoch 24/30\n",
            "63/63 [==============================] - 8s 127ms/step - loss: 0.0790 - accuracy: 0.9710 - val_loss: 1.1180 - val_accuracy: 0.7380\n",
            "Epoch 25/30\n",
            "63/63 [==============================] - 8s 126ms/step - loss: 0.0794 - accuracy: 0.9745 - val_loss: 1.5021 - val_accuracy: 0.7280\n",
            "Epoch 26/30\n",
            "63/63 [==============================] - 8s 126ms/step - loss: 0.0955 - accuracy: 0.9710 - val_loss: 1.1256 - val_accuracy: 0.7490\n",
            "Epoch 27/30\n",
            "63/63 [==============================] - 8s 127ms/step - loss: 0.0677 - accuracy: 0.9765 - val_loss: 1.3353 - val_accuracy: 0.7480\n",
            "Epoch 28/30\n",
            "63/63 [==============================] - 8s 128ms/step - loss: 0.0671 - accuracy: 0.9755 - val_loss: 1.4095 - val_accuracy: 0.7460\n",
            "Epoch 29/30\n",
            "63/63 [==============================] - 8s 128ms/step - loss: 0.0640 - accuracy: 0.9770 - val_loss: 1.3294 - val_accuracy: 0.7570\n",
            "Epoch 30/30\n",
            "63/63 [==============================] - 8s 128ms/step - loss: 0.0644 - accuracy: 0.9795 - val_loss: 1.7199 - val_accuracy: 0.7240\n"
          ]
        }
      ],
      "source": [
        "callbacks = [\n",
        "    keras.callbacks.ModelCheckpoint(\n",
        "        filepath=\"convnet_from_scratch.keras\",\n",
        "        save_best_only=True,\n",
        "        monitor=\"val_loss\")\n",
        "]\n",
        "history = model.fit(\n",
        "    train_dataset,\n",
        "    epochs=30,\n",
        "    validation_data=validation_dataset,\n",
        "    callbacks=callbacks)"
      ]
    },
    {
      "cell_type": "code",
      "execution_count": null,
      "metadata": {
        "id": "nkfKPXioHwon",
        "colab": {
          "base_uri": "https://localhost:8080/",
          "height": 545
        },
        "outputId": "27e0a7ba-df09-41fc-98e0-3cb213924cd3"
      },
      "outputs": [
        {
          "output_type": "display_data",
          "data": {
            "text/plain": [
              "<Figure size 432x288 with 1 Axes>"
            ],
            "image/png": "[encoded data removed]"
          },
          "metadata": {
            "needs_background": "light"
          }
        },
        {
          "output_type": "display_data",
          "data": {
            "text/plain": [
              "<Figure size 432x288 with 1 Axes>"
            ],
            "image/png": "[encoded data removed]"
          },
          "metadata": {
            "needs_background": "light"
          }
        }
      ],
      "source": [
        "import matplotlib.pyplot as plt\n",
        "accuracy = history.history[\"accuracy\"]\n",
        "val_accuracy = history.history[\"val_accuracy\"]\n",
        "loss = history.history[\"loss\"]\n",
        "val_loss = history.history[\"val_loss\"]\n",
        "epochs = range(1, len(accuracy) + 1)\n",
        "plt.plot(epochs, accuracy, \"bo\", label=\"Training accuracy\")\n",
        "plt.plot(epochs, val_accuracy, \"b\", label=\"Validation accuracy\")\n",
        "plt.title(\"Training and validation accuracy\")\n",
        "plt.legend()\n",
        "plt.figure()\n",
        "plt.plot(epochs, loss, \"bo\", label=\"Training loss\")\n",
        "plt.plot(epochs, val_loss, \"b\", label=\"Validation loss\")\n",
        "plt.title(\"Training and validation loss\")\n",
        "plt.legend()\n",
        "plt.show()"
      ]
    },
    {
      "cell_type": "code",
      "source": [
        "test_model = keras.models.load_model(\"convnet_from_scratch.keras\")\n",
        "test_loss, test_acc = test_model.evaluate(test_dataset)\n",
        "print(f\"Test accuracy: {test_acc:.3f}\")"
      ],
      "metadata": {
        "id": "YdljzTypIrCg",
        "colab": {
          "base_uri": "https://localhost:8080/"
        },
        "outputId": "e888ec12-d8a3-4a04-8e15-7cca200ec966"
      },
      "execution_count": null,
      "outputs": [
        {
          "output_type": "stream",
          "name": "stdout",
          "text": [
            "32/32 [==============================] - 2s 49ms/step - loss: 0.5743 - accuracy: 0.7320\n",
            "Test accuracy: 0.732\n"
          ]
        }
      ]
    },
    {
      "cell_type": "markdown",
      "source": [
        "These two graphs are characterized by overfitting, and the accuracy of our training has been increasing until it is close to 100%. In terms of the validation set, although dropout has been used to delay overfitting, the model is prone to overfitting due to too few training samples, so we need to increase the training samples (data augmentation)."
      ],
      "metadata": {
        "id": "aOFa_JFCUipq"
      }
    },
    {
      "cell_type": "markdown",
      "source": [
        "### **6）**Data Augmentation"
      ],
      "metadata": {
        "id": "yL2UXli4V0DN"
      }
    },
    {
      "cell_type": "markdown",
      "source": [
        "#### Big Training Sample(Without Augmentation)"
      ],
      "metadata": {
        "id": "w4YnNCVKf3yW"
      }
    },
    {
      "cell_type": "code",
      "source": [
        "import os, shutil, pathlib\n",
        "\n",
        "original_dir = pathlib.Path(\"train\")\n",
        "new_base_dir = pathlib.Path(\"cats_vs_dogs_small\")\n",
        "\n",
        "def make_subset(subset_name, start_index, end_index):\n",
        "    for category in (\"cat\", \"dog\"):\n",
        "        dir = new_base_dir / subset_name / category\n",
        "        if os.path.exists(dir):\n",
        "         shutil.rmtree(dir)\n",
        "         os.mkdir(dir)\n",
        "        fnames = [f\"{category}.{i}.jpg\" for i in range(start_index, end_index)]\n",
        "        for fname in fnames:\n",
        "            shutil.copyfile(src=original_dir / fname,\n",
        "                            dst=dir / fname)\n",
        "\n",
        "make_subset(\"train\", start_index=0, end_index=3000)\n",
        "make_subset(\"validation\", start_index=3000, end_index=3500)\n",
        "make_subset(\"test\", start_index=3500, end_index=4000)"
      ],
      "metadata": {
        "id": "0TO94nvsV9XX"
      },
      "execution_count": null,
      "outputs": []
    },
    {
      "cell_type": "code",
      "source": [
        "from tensorflow import keras\n",
        "from tensorflow.keras import layers\n",
        "\n",
        "inputs = keras.Input(shape=(180, 180, 3))\n",
        "x = layers.Rescaling(1./255)(inputs)\n",
        "x = layers.Conv2D(filters=32, kernel_size=3, activation=\"relu\")(x)\n",
        "x = layers.MaxPooling2D(pool_size=2)(x)\n",
        "x = layers.Conv2D(filters=64, kernel_size=3, activation=\"relu\")(x)\n",
        "x = layers.MaxPooling2D(pool_size=2)(x)\n",
        "x = layers.Conv2D(filters=128, kernel_size=3, activation=\"relu\")(x)\n",
        "x = layers.MaxPooling2D(pool_size=2)(x)\n",
        "x = layers.Conv2D(filters=128, kernel_size=3, activation=\"relu\")(x)\n",
        "x = layers.MaxPooling2D(pool_size=2)(x)\n",
        "x = layers.Conv2D(filters=256, kernel_size=3, activation=\"relu\")(x)\n",
        "x = layers.Flatten()(x)\n",
        "x = layers.Dropout(0.5)(x)\n",
        "outputs = layers.Dense(1, activation=\"sigmoid\")(x)\n",
        "model = keras.Model(inputs=inputs, outputs=outputs)\n",
        "\n",
        "model.compile(loss=\"binary_crossentropy\",\n",
        "              optimizer=\"rmsprop\",\n",
        "              metrics=[\"accuracy\"])"
      ],
      "metadata": {
        "id": "3E0pTDLrc4FI"
      },
      "execution_count": null,
      "outputs": []
    },
    {
      "cell_type": "code",
      "source": [
        "from tensorflow.keras.utils import image_dataset_from_directory\n",
        "\n",
        "train_dataset = image_dataset_from_directory(\n",
        "    new_base_dir / \"train\",\n",
        "    image_size=(180, 180),\n",
        "    batch_size=32)\n",
        "validation_dataset = image_dataset_from_directory(\n",
        "    new_base_dir / \"validation\",\n",
        "    image_size=(180, 180),\n",
        "    batch_size=32)\n",
        "test_dataset = image_dataset_from_directory(\n",
        "    new_base_dir / \"test\",\n",
        "    image_size=(180, 180),\n",
        "    batch_size=32)"
      ],
      "metadata": {
        "id": "wxKnPK-udpyY",
        "colab": {
          "base_uri": "https://localhost:8080/"
        },
        "outputId": "391ed1fe-9fbd-40a9-f6e9-18313ed37d20"
      },
      "execution_count": null,
      "outputs": [
        {
          "output_type": "stream",
          "name": "stdout",
          "text": [
            "Found 6000 files belonging to 2 classes.\n",
            "Found 1000 files belonging to 2 classes.\n",
            "Found 1000 files belonging to 2 classes.\n"
          ]
        }
      ]
    },
    {
      "cell_type": "code",
      "source": [
        "for data_batch, labels_batch in train_dataset:\n",
        "    print(\"data batch shape:\", data_batch.shape)\n",
        "    print(\"labels batch shape:\", labels_batch.shape)\n",
        "    break"
      ],
      "metadata": {
        "id": "Qsxy2yU_duQs",
        "colab": {
          "base_uri": "https://localhost:8080/"
        },
        "outputId": "326109b1-dfc4-4761-b244-dbdf4a101cbf"
      },
      "execution_count": null,
      "outputs": [
        {
          "output_type": "stream",
          "name": "stdout",
          "text": [
            "data batch shape: (32, 180, 180, 3)\n",
            "labels batch shape: (32,)\n"
          ]
        }
      ]
    },
    {
      "cell_type": "code",
      "source": [
        "callbacks = [\n",
        "    keras.callbacks.ModelCheckpoint(\n",
        "        filepath=\"convnet_from_scratch_big_sample.keras\",\n",
        "        save_best_only=True,\n",
        "        monitor=\"val_loss\")\n",
        "]\n",
        "history = model.fit(\n",
        "    train_dataset,\n",
        "    epochs=30,\n",
        "    validation_data=validation_dataset,\n",
        "    callbacks=callbacks)"
      ],
      "metadata": {
        "id": "OBeZik3rd1Da",
        "colab": {
          "base_uri": "https://localhost:8080/"
        },
        "outputId": "48a1086e-6b07-42f3-aea7-a0b3f0a191f6"
      },
      "execution_count": null,
      "outputs": [
        {
          "output_type": "stream",
          "name": "stdout",
          "text": [
            "Epoch 1/30\n",
            "188/188 [==============================] - 22s 108ms/step - loss: 0.6951 - accuracy: 0.5467 - val_loss: 0.7474 - val_accuracy: 0.5270\n",
            "Epoch 2/30\n",
            "188/188 [==============================] - 21s 108ms/step - loss: 0.6643 - accuracy: 0.6245 - val_loss: 0.6024 - val_accuracy: 0.6660\n",
            "Epoch 3/30\n",
            "188/188 [==============================] - 21s 108ms/step - loss: 0.6014 - accuracy: 0.6868 - val_loss: 0.5915 - val_accuracy: 0.6710\n",
            "Epoch 4/30\n",
            "188/188 [==============================] - 21s 108ms/step - loss: 0.5441 - accuracy: 0.7180 - val_loss: 0.5266 - val_accuracy: 0.7270\n",
            "Epoch 5/30\n",
            "188/188 [==============================] - 21s 108ms/step - loss: 0.4811 - accuracy: 0.7720 - val_loss: 0.4581 - val_accuracy: 0.7880\n",
            "Epoch 6/30\n",
            "188/188 [==============================] - 21s 108ms/step - loss: 0.4408 - accuracy: 0.8000 - val_loss: 0.5440 - val_accuracy: 0.7690\n",
            "Epoch 7/30\n",
            "188/188 [==============================] - 21s 108ms/step - loss: 0.3946 - accuracy: 0.8228 - val_loss: 0.4929 - val_accuracy: 0.7620\n",
            "Epoch 8/30\n",
            "188/188 [==============================] - 21s 108ms/step - loss: 0.3451 - accuracy: 0.8487 - val_loss: 0.4200 - val_accuracy: 0.8360\n",
            "Epoch 9/30\n",
            "188/188 [==============================] - 21s 108ms/step - loss: 0.3028 - accuracy: 0.8713 - val_loss: 0.5441 - val_accuracy: 0.7680\n",
            "Epoch 10/30\n",
            "188/188 [==============================] - 21s 108ms/step - loss: 0.2556 - accuracy: 0.8918 - val_loss: 0.3906 - val_accuracy: 0.8510\n",
            "Epoch 11/30\n",
            "188/188 [==============================] - 21s 108ms/step - loss: 0.2159 - accuracy: 0.9127 - val_loss: 0.5066 - val_accuracy: 0.8000\n",
            "Epoch 12/30\n",
            "188/188 [==============================] - 21s 108ms/step - loss: 0.1742 - accuracy: 0.9307 - val_loss: 0.5059 - val_accuracy: 0.8240\n",
            "Epoch 13/30\n",
            "188/188 [==============================] - 21s 108ms/step - loss: 0.1504 - accuracy: 0.9425 - val_loss: 0.5829 - val_accuracy: 0.8370\n",
            "Epoch 14/30\n",
            "188/188 [==============================] - 21s 108ms/step - loss: 0.1484 - accuracy: 0.9452 - val_loss: 0.7500 - val_accuracy: 0.8360\n",
            "Epoch 15/30\n",
            "188/188 [==============================] - 21s 108ms/step - loss: 0.1068 - accuracy: 0.9573 - val_loss: 1.1553 - val_accuracy: 0.7870\n",
            "Epoch 16/30\n",
            "188/188 [==============================] - 21s 108ms/step - loss: 0.1066 - accuracy: 0.9618 - val_loss: 0.6323 - val_accuracy: 0.8190\n",
            "Epoch 17/30\n",
            "188/188 [==============================] - 21s 108ms/step - loss: 0.0899 - accuracy: 0.9685 - val_loss: 0.8676 - val_accuracy: 0.8450\n",
            "Epoch 18/30\n",
            "188/188 [==============================] - 21s 108ms/step - loss: 0.0899 - accuracy: 0.9687 - val_loss: 0.9871 - val_accuracy: 0.8100\n",
            "Epoch 19/30\n",
            "188/188 [==============================] - 21s 108ms/step - loss: 0.0861 - accuracy: 0.9700 - val_loss: 1.1181 - val_accuracy: 0.8040\n",
            "Epoch 20/30\n",
            "188/188 [==============================] - 21s 108ms/step - loss: 0.0883 - accuracy: 0.9708 - val_loss: 0.7999 - val_accuracy: 0.8180\n",
            "Epoch 21/30\n",
            "188/188 [==============================] - 21s 108ms/step - loss: 0.0807 - accuracy: 0.9722 - val_loss: 0.8726 - val_accuracy: 0.8220\n",
            "Epoch 22/30\n",
            "188/188 [==============================] - 21s 108ms/step - loss: 0.0860 - accuracy: 0.9715 - val_loss: 0.7789 - val_accuracy: 0.8450\n",
            "Epoch 23/30\n",
            "188/188 [==============================] - 21s 108ms/step - loss: 0.0638 - accuracy: 0.9767 - val_loss: 1.0538 - val_accuracy: 0.8270\n",
            "Epoch 24/30\n",
            "188/188 [==============================] - 21s 109ms/step - loss: 0.0727 - accuracy: 0.9753 - val_loss: 1.0171 - val_accuracy: 0.8390\n",
            "Epoch 25/30\n",
            "188/188 [==============================] - 21s 108ms/step - loss: 0.0745 - accuracy: 0.9760 - val_loss: 1.0857 - val_accuracy: 0.8440\n",
            "Epoch 26/30\n",
            "188/188 [==============================] - 21s 108ms/step - loss: 0.0668 - accuracy: 0.9803 - val_loss: 0.9944 - val_accuracy: 0.8260\n",
            "Epoch 27/30\n",
            "188/188 [==============================] - 21s 108ms/step - loss: 0.0681 - accuracy: 0.9802 - val_loss: 0.7660 - val_accuracy: 0.8350\n",
            "Epoch 28/30\n",
            "188/188 [==============================] - 21s 108ms/step - loss: 0.0629 - accuracy: 0.9815 - val_loss: 1.0702 - val_accuracy: 0.8400\n",
            "Epoch 29/30\n",
            "188/188 [==============================] - 20s 107ms/step - loss: 0.0716 - accuracy: 0.9790 - val_loss: 1.2642 - val_accuracy: 0.8180\n",
            "Epoch 30/30\n",
            "188/188 [==============================] - 20s 107ms/step - loss: 0.0618 - accuracy: 0.9807 - val_loss: 1.0810 - val_accuracy: 0.8290\n"
          ]
        }
      ]
    },
    {
      "cell_type": "code",
      "source": [
        "import matplotlib.pyplot as plt\n",
        "accuracy = history.history[\"accuracy\"]\n",
        "val_accuracy = history.history[\"val_accuracy\"]\n",
        "loss = history.history[\"loss\"]\n",
        "val_loss = history.history[\"val_loss\"]\n",
        "epochs = range(1, len(accuracy) + 1)\n",
        "plt.plot(epochs, accuracy, \"bo\", label=\"Training accuracy\")\n",
        "plt.plot(epochs, val_accuracy, \"b\", label=\"Validation accuracy\")\n",
        "plt.title(\"Training and validation accuracy\")\n",
        "plt.legend()\n",
        "plt.figure()\n",
        "plt.plot(epochs, loss, \"bo\", label=\"Training loss\")\n",
        "plt.plot(epochs, val_loss, \"b\", label=\"Validation loss\")\n",
        "plt.title(\"Training and validation loss\")\n",
        "plt.legend()\n",
        "plt.show()"
      ],
      "metadata": {
        "id": "pkHHmau2fdy5",
        "colab": {
          "base_uri": "https://localhost:8080/",
          "height": 545
        },
        "outputId": "d6ecb725-0bc1-4d32-dad1-7397379e85b0"
      },
      "execution_count": null,
      "outputs": [
        {
          "output_type": "display_data",
          "data": {
            "text/plain": [
              "<Figure size 432x288 with 1 Axes>"
            ],
            "image/png": "[encoded data removed]"
          },
          "metadata": {
            "needs_background": "light"
          }
        },
        {
          "output_type": "display_data",
          "data": {
            "text/plain": [
              "<Figure size 432x288 with 1 Axes>"
            ],
            "image/png": "[encoded data removed]"
          },
          "metadata": {
            "needs_background": "light"
          }
        }
      ]
    },
    {
      "cell_type": "code",
      "source": [
        "test_model = keras.models.load_model(\"convnet_from_scratch_big_sample.keras\")\n",
        "test_loss, test_acc = test_model.evaluate(test_dataset)\n",
        "print(f\"Test accuracy: {test_acc:.3f}\")"
      ],
      "metadata": {
        "id": "j9MumpIVfjAK",
        "colab": {
          "base_uri": "https://localhost:8080/"
        },
        "outputId": "220a26b4-94bc-4b67-ba75-07e379b3c3e2"
      },
      "execution_count": null,
      "outputs": [
        {
          "output_type": "stream",
          "name": "stdout",
          "text": [
            "32/32 [==============================] - 2s 47ms/step - loss: 0.4886 - accuracy: 0.8120\n",
            "Test accuracy: 0.812\n"
          ]
        }
      ]
    },
    {
      "cell_type": "markdown",
      "source": [
        "We increased the size of the training set, trained the original model, and found that the degree of overfitting was reduced. And the prediction accuracy has been greatly improved."
      ],
      "metadata": {
        "id": "SFJN-kKHgQYl"
      }
    },
    {
      "cell_type": "markdown",
      "source": [
        "#### With Data Augmentation"
      ],
      "metadata": {
        "id": "e4yadEyck9O7"
      }
    },
    {
      "cell_type": "code",
      "source": [
        "import os, shutil, pathlib\n",
        "\n",
        "original_dir = pathlib.Path(\"train\")\n",
        "new_base_dir = pathlib.Path(\"cats_vs_dogs_small\")\n",
        "\n",
        "def make_subset(subset_name, start_index, end_index):\n",
        "    for category in (\"cat\", \"dog\"):\n",
        "        dir = new_base_dir / subset_name / category\n",
        "        if os.path.exists(dir):\n",
        "         shutil.rmtree(dir)\n",
        "         os.mkdir(dir)\n",
        "        fnames = [f\"{category}.{i}.jpg\" for i in range(start_index, end_index)]\n",
        "        for fname in fnames:\n",
        "            shutil.copyfile(src=original_dir / fname,\n",
        "                            dst=dir / fname)\n",
        "\n",
        "make_subset(\"train\", start_index=0, end_index=1000)\n",
        "make_subset(\"validation\", start_index=1000, end_index=1500)\n",
        "make_subset(\"test\", start_index=1500, end_index=2000)"
      ],
      "metadata": {
        "id": "6ckEjyNElFDG"
      },
      "execution_count": null,
      "outputs": []
    },
    {
      "cell_type": "code",
      "source": [
        "data_augmentation = keras.Sequential(\n",
        "    [\n",
        "        layers.RandomFlip(\"horizontal\"),\n",
        "        layers.RandomRotation(0.1),\n",
        "        layers.RandomZoom(0.2),\n",
        "    ]\n",
        ")"
      ],
      "metadata": {
        "id": "5NIiYiPClZIl"
      },
      "execution_count": null,
      "outputs": []
    },
    {
      "cell_type": "code",
      "source": [
        "from tensorflow import keras\n",
        "from tensorflow.keras import layers\n",
        "\n",
        "inputs = keras.Input(shape=(180, 180, 3))\n",
        "x = layers.Rescaling(1./255)(inputs)\n",
        "x = data_augmentation(inputs)\n",
        "x = layers.Conv2D(filters=32, kernel_size=3, activation=\"relu\")(x)\n",
        "x = layers.MaxPooling2D(pool_size=2)(x)\n",
        "x = layers.Conv2D(filters=64, kernel_size=3, activation=\"relu\")(x)\n",
        "x = layers.MaxPooling2D(pool_size=2)(x)\n",
        "x = layers.Conv2D(filters=128, kernel_size=3, activation=\"relu\")(x)\n",
        "x = layers.MaxPooling2D(pool_size=2)(x)\n",
        "x = layers.Conv2D(filters=128, kernel_size=3, activation=\"relu\")(x)\n",
        "x = layers.MaxPooling2D(pool_size=2)(x)\n",
        "x = layers.Conv2D(filters=256, kernel_size=3, activation=\"relu\")(x)\n",
        "x = layers.Flatten()(x)\n",
        "x = layers.Dropout(0.5)(x)\n",
        "outputs = layers.Dense(1, activation=\"sigmoid\")(x)\n",
        "model = keras.Model(inputs=inputs, outputs=outputs)\n",
        "\n",
        "model.compile(loss=\"binary_crossentropy\",\n",
        "              optimizer=\"rmsprop\",\n",
        "              metrics=[\"accuracy\"])"
      ],
      "metadata": {
        "id": "W-F2H7Ldl1ZA"
      },
      "execution_count": null,
      "outputs": []
    },
    {
      "cell_type": "code",
      "source": [
        "from tensorflow.keras.utils import image_dataset_from_directory\n",
        "\n",
        "train_dataset = image_dataset_from_directory(\n",
        "    new_base_dir / \"train\",\n",
        "    image_size=(180, 180),\n",
        "    batch_size=32)\n",
        "validation_dataset = image_dataset_from_directory(\n",
        "    new_base_dir / \"validation\",\n",
        "    image_size=(180, 180),\n",
        "    batch_size=32)\n",
        "test_dataset = image_dataset_from_directory(\n",
        "    new_base_dir / \"test\",\n",
        "    image_size=(180, 180),\n",
        "    batch_size=32)"
      ],
      "metadata": {
        "id": "8_3U7eDTl3FR",
        "colab": {
          "base_uri": "https://localhost:8080/"
        },
        "outputId": "ed18c40c-b78f-420b-b7bc-816b24470611"
      },
      "execution_count": null,
      "outputs": [
        {
          "output_type": "stream",
          "name": "stdout",
          "text": [
            "Found 2000 files belonging to 2 classes.\n",
            "Found 1000 files belonging to 2 classes.\n",
            "Found 1000 files belonging to 2 classes.\n"
          ]
        }
      ]
    },
    {
      "cell_type": "code",
      "source": [
        "callbacks = [\n",
        "    keras.callbacks.ModelCheckpoint(\n",
        "        filepath=\"convnet_from_scratch_with_augmentation.keras\",\n",
        "        save_best_only=True,\n",
        "        monitor=\"val_loss\")\n",
        "]\n",
        "history = model.fit(\n",
        "    train_dataset,\n",
        "    epochs=100,\n",
        "    validation_data=validation_dataset,\n",
        "    callbacks=callbacks)"
      ],
      "metadata": {
        "id": "dUeo1d5vmEl-",
        "colab": {
          "base_uri": "https://localhost:8080/"
        },
        "outputId": "f1738a07-1b34-4dc9-bced-1d19c58a5b23"
      },
      "execution_count": null,
      "outputs": [
        {
          "output_type": "stream",
          "name": "stdout",
          "text": [
            "Epoch 1/100\n",
            "63/63 [==============================] - 11s 137ms/step - loss: 7.7571 - accuracy: 0.4960 - val_loss: 0.6851 - val_accuracy: 0.5550\n",
            "Epoch 2/100\n",
            "63/63 [==============================] - 9s 133ms/step - loss: 0.7316 - accuracy: 0.5155 - val_loss: 0.6864 - val_accuracy: 0.5190\n",
            "Epoch 3/100\n",
            "63/63 [==============================] - 9s 135ms/step - loss: 0.7348 - accuracy: 0.5130 - val_loss: 0.6697 - val_accuracy: 0.5990\n",
            "Epoch 4/100\n",
            "63/63 [==============================] - 9s 136ms/step - loss: 0.6858 - accuracy: 0.5735 - val_loss: 0.7056 - val_accuracy: 0.5210\n",
            "Epoch 5/100\n",
            "63/63 [==============================] - 9s 134ms/step - loss: 0.6861 - accuracy: 0.5690 - val_loss: 0.7359 - val_accuracy: 0.5500\n",
            "Epoch 6/100\n",
            "63/63 [==============================] - 9s 134ms/step - loss: 0.7022 - accuracy: 0.6045 - val_loss: 0.6620 - val_accuracy: 0.6300\n",
            "Epoch 7/100\n",
            "63/63 [==============================] - 9s 133ms/step - loss: 0.6607 - accuracy: 0.6195 - val_loss: 0.6825 - val_accuracy: 0.5580\n",
            "Epoch 8/100\n",
            "63/63 [==============================] - 9s 133ms/step - loss: 0.6846 - accuracy: 0.5900 - val_loss: 0.6601 - val_accuracy: 0.6170\n",
            "Epoch 9/100\n",
            "63/63 [==============================] - 9s 133ms/step - loss: 0.6840 - accuracy: 0.5795 - val_loss: 0.8944 - val_accuracy: 0.5090\n",
            "Epoch 10/100\n",
            "63/63 [==============================] - 9s 133ms/step - loss: 0.6878 - accuracy: 0.5965 - val_loss: 0.8673 - val_accuracy: 0.5550\n",
            "Epoch 11/100\n",
            "63/63 [==============================] - 9s 134ms/step - loss: 0.6692 - accuracy: 0.6195 - val_loss: 0.6344 - val_accuracy: 0.6390\n",
            "Epoch 12/100\n",
            "63/63 [==============================] - 9s 132ms/step - loss: 0.6800 - accuracy: 0.6305 - val_loss: 0.6463 - val_accuracy: 0.6230\n",
            "Epoch 13/100\n",
            "63/63 [==============================] - 9s 133ms/step - loss: 0.6472 - accuracy: 0.6595 - val_loss: 0.7042 - val_accuracy: 0.5580\n",
            "Epoch 14/100\n",
            "63/63 [==============================] - 9s 134ms/step - loss: 0.6550 - accuracy: 0.6255 - val_loss: 0.6691 - val_accuracy: 0.6120\n",
            "Epoch 15/100\n",
            "63/63 [==============================] - 9s 135ms/step - loss: 0.6594 - accuracy: 0.6255 - val_loss: 0.7472 - val_accuracy: 0.6100\n",
            "Epoch 16/100\n",
            "63/63 [==============================] - 9s 134ms/step - loss: 0.6472 - accuracy: 0.6585 - val_loss: 0.6484 - val_accuracy: 0.6390\n",
            "Epoch 17/100\n",
            "63/63 [==============================] - 9s 135ms/step - loss: 0.6283 - accuracy: 0.6540 - val_loss: 0.6115 - val_accuracy: 0.6770\n",
            "Epoch 18/100\n",
            "63/63 [==============================] - 9s 134ms/step - loss: 0.6601 - accuracy: 0.6585 - val_loss: 0.8458 - val_accuracy: 0.6180\n",
            "Epoch 19/100\n",
            "63/63 [==============================] - 9s 135ms/step - loss: 0.6316 - accuracy: 0.6770 - val_loss: 0.6343 - val_accuracy: 0.6850\n",
            "Epoch 20/100\n",
            "63/63 [==============================] - 9s 134ms/step - loss: 0.6156 - accuracy: 0.6720 - val_loss: 0.6364 - val_accuracy: 0.6430\n",
            "Epoch 21/100\n",
            "63/63 [==============================] - 9s 135ms/step - loss: 0.6600 - accuracy: 0.6780 - val_loss: 0.5976 - val_accuracy: 0.7040\n",
            "Epoch 22/100\n",
            "63/63 [==============================] - 9s 135ms/step - loss: 0.6115 - accuracy: 0.6765 - val_loss: 0.5786 - val_accuracy: 0.7010\n",
            "Epoch 23/100\n",
            "63/63 [==============================] - 9s 136ms/step - loss: 0.6084 - accuracy: 0.6825 - val_loss: 0.6071 - val_accuracy: 0.7030\n",
            "Epoch 24/100\n",
            "63/63 [==============================] - 9s 135ms/step - loss: 0.6015 - accuracy: 0.6725 - val_loss: 0.8269 - val_accuracy: 0.6490\n",
            "Epoch 25/100\n",
            "63/63 [==============================] - 9s 134ms/step - loss: 0.6036 - accuracy: 0.6750 - val_loss: 0.5572 - val_accuracy: 0.7470\n",
            "Epoch 26/100\n",
            "63/63 [==============================] - 9s 134ms/step - loss: 0.5965 - accuracy: 0.7015 - val_loss: 0.6152 - val_accuracy: 0.6810\n",
            "Epoch 27/100\n",
            "63/63 [==============================] - 9s 134ms/step - loss: 0.5694 - accuracy: 0.7175 - val_loss: 0.8184 - val_accuracy: 0.6280\n",
            "Epoch 28/100\n",
            "63/63 [==============================] - 9s 134ms/step - loss: 0.5773 - accuracy: 0.7065 - val_loss: 0.5639 - val_accuracy: 0.7190\n",
            "Epoch 29/100\n",
            "63/63 [==============================] - 9s 134ms/step - loss: 0.5575 - accuracy: 0.7245 - val_loss: 0.6024 - val_accuracy: 0.6720\n",
            "Epoch 30/100\n",
            "63/63 [==============================] - 9s 135ms/step - loss: 0.5576 - accuracy: 0.7245 - val_loss: 0.5434 - val_accuracy: 0.7590\n",
            "Epoch 31/100\n",
            "63/63 [==============================] - 9s 134ms/step - loss: 0.5663 - accuracy: 0.7175 - val_loss: 0.5062 - val_accuracy: 0.7650\n",
            "Epoch 32/100\n",
            "63/63 [==============================] - 9s 134ms/step - loss: 0.5675 - accuracy: 0.7265 - val_loss: 0.7498 - val_accuracy: 0.6930\n",
            "Epoch 33/100\n",
            "63/63 [==============================] - 9s 134ms/step - loss: 0.5923 - accuracy: 0.7115 - val_loss: 0.6911 - val_accuracy: 0.6780\n",
            "Epoch 34/100\n",
            "63/63 [==============================] - 9s 134ms/step - loss: 0.5466 - accuracy: 0.7270 - val_loss: 1.8634 - val_accuracy: 0.6140\n",
            "Epoch 35/100\n",
            "63/63 [==============================] - 9s 134ms/step - loss: 0.5707 - accuracy: 0.7395 - val_loss: 0.5792 - val_accuracy: 0.7400\n",
            "Epoch 36/100\n",
            "63/63 [==============================] - 9s 134ms/step - loss: 0.5524 - accuracy: 0.7275 - val_loss: 0.5988 - val_accuracy: 0.7680\n",
            "Epoch 37/100\n",
            "63/63 [==============================] - 9s 136ms/step - loss: 0.5152 - accuracy: 0.7530 - val_loss: 0.6637 - val_accuracy: 0.7160\n",
            "Epoch 38/100\n",
            "63/63 [==============================] - 9s 134ms/step - loss: 0.5419 - accuracy: 0.7425 - val_loss: 0.5545 - val_accuracy: 0.7540\n",
            "Epoch 39/100\n",
            "63/63 [==============================] - 9s 134ms/step - loss: 0.5208 - accuracy: 0.7500 - val_loss: 0.7286 - val_accuracy: 0.6570\n",
            "Epoch 40/100\n",
            "63/63 [==============================] - 9s 133ms/step - loss: 0.5378 - accuracy: 0.7350 - val_loss: 0.5381 - val_accuracy: 0.7730\n",
            "Epoch 41/100\n",
            "63/63 [==============================] - 9s 133ms/step - loss: 0.5188 - accuracy: 0.7615 - val_loss: 0.6167 - val_accuracy: 0.7610\n",
            "Epoch 42/100\n",
            "63/63 [==============================] - 9s 134ms/step - loss: 0.5505 - accuracy: 0.7390 - val_loss: 1.3450 - val_accuracy: 0.6450\n",
            "Epoch 43/100\n",
            "63/63 [==============================] - 9s 134ms/step - loss: 0.5276 - accuracy: 0.7500 - val_loss: 0.4785 - val_accuracy: 0.7880\n",
            "Epoch 44/100\n",
            "63/63 [==============================] - 9s 133ms/step - loss: 0.4957 - accuracy: 0.7680 - val_loss: 0.5552 - val_accuracy: 0.7740\n",
            "Epoch 45/100\n",
            "63/63 [==============================] - 9s 133ms/step - loss: 0.5022 - accuracy: 0.7680 - val_loss: 0.4837 - val_accuracy: 0.7860\n",
            "Epoch 46/100\n",
            "63/63 [==============================] - 9s 134ms/step - loss: 0.5131 - accuracy: 0.7620 - val_loss: 0.5238 - val_accuracy: 0.7630\n",
            "Epoch 47/100\n",
            "63/63 [==============================] - 9s 134ms/step - loss: 0.4890 - accuracy: 0.7685 - val_loss: 0.7389 - val_accuracy: 0.7000\n",
            "Epoch 48/100\n",
            "63/63 [==============================] - 9s 134ms/step - loss: 0.5044 - accuracy: 0.7535 - val_loss: 0.5815 - val_accuracy: 0.7580\n",
            "Epoch 49/100\n",
            "63/63 [==============================] - 9s 134ms/step - loss: 0.4847 - accuracy: 0.7700 - val_loss: 0.6411 - val_accuracy: 0.7780\n",
            "Epoch 50/100\n",
            "63/63 [==============================] - 9s 133ms/step - loss: 0.4697 - accuracy: 0.7785 - val_loss: 0.5172 - val_accuracy: 0.7950\n",
            "Epoch 51/100\n",
            "63/63 [==============================] - 9s 133ms/step - loss: 0.4814 - accuracy: 0.7685 - val_loss: 0.5248 - val_accuracy: 0.7800\n",
            "Epoch 52/100\n",
            "63/63 [==============================] - 9s 132ms/step - loss: 0.4722 - accuracy: 0.7885 - val_loss: 0.7054 - val_accuracy: 0.7580\n",
            "Epoch 53/100\n",
            "63/63 [==============================] - 9s 133ms/step - loss: 0.4910 - accuracy: 0.7695 - val_loss: 0.9323 - val_accuracy: 0.6670\n",
            "Epoch 54/100\n",
            "63/63 [==============================] - 9s 132ms/step - loss: 0.6512 - accuracy: 0.7705 - val_loss: 0.6435 - val_accuracy: 0.7500\n",
            "Epoch 55/100\n",
            "63/63 [==============================] - 9s 135ms/step - loss: 0.4862 - accuracy: 0.7920 - val_loss: 0.5521 - val_accuracy: 0.7730\n",
            "Epoch 56/100\n",
            "63/63 [==============================] - 9s 134ms/step - loss: 0.4637 - accuracy: 0.7900 - val_loss: 0.5616 - val_accuracy: 0.7250\n",
            "Epoch 57/100\n",
            "63/63 [==============================] - 9s 134ms/step - loss: 0.5576 - accuracy: 0.7540 - val_loss: 0.5850 - val_accuracy: 0.7740\n",
            "Epoch 58/100\n",
            "63/63 [==============================] - 9s 135ms/step - loss: 0.4850 - accuracy: 0.7770 - val_loss: 0.4711 - val_accuracy: 0.7940\n",
            "Epoch 59/100\n",
            "63/63 [==============================] - 9s 134ms/step - loss: 0.4769 - accuracy: 0.7795 - val_loss: 0.5319 - val_accuracy: 0.7630\n",
            "Epoch 60/100\n",
            "63/63 [==============================] - 9s 133ms/step - loss: 0.4711 - accuracy: 0.7790 - val_loss: 0.7954 - val_accuracy: 0.7630\n",
            "Epoch 61/100\n",
            "63/63 [==============================] - 9s 134ms/step - loss: 0.4864 - accuracy: 0.7885 - val_loss: 0.4841 - val_accuracy: 0.7980\n",
            "Epoch 62/100\n",
            "63/63 [==============================] - 9s 134ms/step - loss: 0.4896 - accuracy: 0.7805 - val_loss: 0.5300 - val_accuracy: 0.7840\n",
            "Epoch 63/100\n",
            "63/63 [==============================] - 9s 132ms/step - loss: 0.5305 - accuracy: 0.7685 - val_loss: 0.5130 - val_accuracy: 0.7700\n",
            "Epoch 64/100\n",
            "63/63 [==============================] - 9s 133ms/step - loss: 0.4673 - accuracy: 0.7900 - val_loss: 0.6413 - val_accuracy: 0.7430\n",
            "Epoch 65/100\n",
            "63/63 [==============================] - 9s 134ms/step - loss: 0.4559 - accuracy: 0.7975 - val_loss: 0.5462 - val_accuracy: 0.7980\n",
            "Epoch 66/100\n",
            "63/63 [==============================] - 9s 134ms/step - loss: 0.4577 - accuracy: 0.7960 - val_loss: 0.4935 - val_accuracy: 0.8080\n",
            "Epoch 67/100\n",
            "63/63 [==============================] - 9s 134ms/step - loss: 0.5057 - accuracy: 0.7860 - val_loss: 0.5507 - val_accuracy: 0.7810\n",
            "Epoch 68/100\n",
            "63/63 [==============================] - 9s 135ms/step - loss: 0.4756 - accuracy: 0.7940 - val_loss: 0.4701 - val_accuracy: 0.8090\n",
            "Epoch 69/100\n",
            "63/63 [==============================] - 9s 134ms/step - loss: 0.4545 - accuracy: 0.8040 - val_loss: 0.4961 - val_accuracy: 0.7980\n",
            "Epoch 70/100\n",
            "63/63 [==============================] - 9s 134ms/step - loss: 0.4569 - accuracy: 0.7990 - val_loss: 0.5754 - val_accuracy: 0.7510\n",
            "Epoch 71/100\n",
            "63/63 [==============================] - 9s 134ms/step - loss: 0.4637 - accuracy: 0.7960 - val_loss: 0.4733 - val_accuracy: 0.8010\n",
            "Epoch 72/100\n",
            "63/63 [==============================] - 9s 134ms/step - loss: 0.4675 - accuracy: 0.7895 - val_loss: 0.5028 - val_accuracy: 0.7790\n",
            "Epoch 73/100\n",
            "63/63 [==============================] - 9s 133ms/step - loss: 0.4825 - accuracy: 0.8020 - val_loss: 0.8271 - val_accuracy: 0.7460\n",
            "Epoch 74/100\n",
            "63/63 [==============================] - 9s 133ms/step - loss: 0.4675 - accuracy: 0.7885 - val_loss: 0.6396 - val_accuracy: 0.7460\n",
            "Epoch 75/100\n",
            "63/63 [==============================] - 9s 133ms/step - loss: 0.4897 - accuracy: 0.7815 - val_loss: 0.5771 - val_accuracy: 0.7920\n",
            "Epoch 76/100\n",
            "63/63 [==============================] - 9s 133ms/step - loss: 0.4672 - accuracy: 0.7940 - val_loss: 0.5812 - val_accuracy: 0.7550\n",
            "Epoch 77/100\n",
            "63/63 [==============================] - 9s 133ms/step - loss: 0.4542 - accuracy: 0.8100 - val_loss: 0.6102 - val_accuracy: 0.7660\n",
            "Epoch 78/100\n",
            "63/63 [==============================] - 9s 134ms/step - loss: 0.4629 - accuracy: 0.8065 - val_loss: 0.6612 - val_accuracy: 0.7770\n",
            "Epoch 79/100\n",
            "63/63 [==============================] - 9s 133ms/step - loss: 0.4557 - accuracy: 0.8045 - val_loss: 0.7599 - val_accuracy: 0.7770\n",
            "Epoch 80/100\n",
            "63/63 [==============================] - 9s 133ms/step - loss: 0.4786 - accuracy: 0.7885 - val_loss: 0.5223 - val_accuracy: 0.8050\n",
            "Epoch 81/100\n",
            "63/63 [==============================] - 9s 133ms/step - loss: 0.4575 - accuracy: 0.8040 - val_loss: 0.6546 - val_accuracy: 0.7840\n",
            "Epoch 82/100\n",
            "63/63 [==============================] - 9s 133ms/step - loss: 0.4574 - accuracy: 0.8040 - val_loss: 0.5892 - val_accuracy: 0.7870\n",
            "Epoch 83/100\n",
            "63/63 [==============================] - 9s 134ms/step - loss: 0.4694 - accuracy: 0.7915 - val_loss: 0.7028 - val_accuracy: 0.7780\n",
            "Epoch 84/100\n",
            "63/63 [==============================] - 9s 135ms/step - loss: 0.4791 - accuracy: 0.7945 - val_loss: 0.8491 - val_accuracy: 0.7690\n",
            "Epoch 85/100\n",
            "63/63 [==============================] - 9s 133ms/step - loss: 0.4537 - accuracy: 0.8085 - val_loss: 0.6123 - val_accuracy: 0.7870\n",
            "Epoch 86/100\n",
            "63/63 [==============================] - 9s 134ms/step - loss: 0.4557 - accuracy: 0.7955 - val_loss: 0.6115 - val_accuracy: 0.7950\n",
            "Epoch 87/100\n",
            "63/63 [==============================] - 9s 134ms/step - loss: 0.4495 - accuracy: 0.8025 - val_loss: 0.5912 - val_accuracy: 0.8020\n",
            "Epoch 88/100\n",
            "63/63 [==============================] - 9s 136ms/step - loss: 0.4174 - accuracy: 0.8225 - val_loss: 0.4618 - val_accuracy: 0.8240\n",
            "Epoch 89/100\n",
            "63/63 [==============================] - 9s 135ms/step - loss: 0.4374 - accuracy: 0.8065 - val_loss: 0.6324 - val_accuracy: 0.7790\n",
            "Epoch 90/100\n",
            "63/63 [==============================] - 9s 135ms/step - loss: 0.4283 - accuracy: 0.8135 - val_loss: 0.5721 - val_accuracy: 0.7880\n",
            "Epoch 91/100\n",
            "63/63 [==============================] - 9s 133ms/step - loss: 0.4485 - accuracy: 0.8095 - val_loss: 0.6869 - val_accuracy: 0.7760\n",
            "Epoch 92/100\n",
            "63/63 [==============================] - 9s 134ms/step - loss: 0.4267 - accuracy: 0.8115 - val_loss: 0.5959 - val_accuracy: 0.7830\n",
            "Epoch 93/100\n",
            "63/63 [==============================] - 9s 134ms/step - loss: 0.4661 - accuracy: 0.8035 - val_loss: 0.5112 - val_accuracy: 0.8000\n",
            "Epoch 94/100\n",
            "63/63 [==============================] - 9s 134ms/step - loss: 0.4677 - accuracy: 0.8035 - val_loss: 1.1965 - val_accuracy: 0.7770\n",
            "Epoch 95/100\n",
            "63/63 [==============================] - 9s 134ms/step - loss: 0.4411 - accuracy: 0.8190 - val_loss: 0.7428 - val_accuracy: 0.7830\n",
            "Epoch 96/100\n",
            "63/63 [==============================] - 9s 133ms/step - loss: 0.5813 - accuracy: 0.7965 - val_loss: 0.8059 - val_accuracy: 0.8060\n",
            "Epoch 97/100\n",
            "63/63 [==============================] - 9s 134ms/step - loss: 0.5052 - accuracy: 0.7850 - val_loss: 0.6902 - val_accuracy: 0.7480\n",
            "Epoch 98/100\n",
            "63/63 [==============================] - 9s 135ms/step - loss: 0.4279 - accuracy: 0.8105 - val_loss: 1.1919 - val_accuracy: 0.7890\n",
            "Epoch 99/100\n",
            "63/63 [==============================] - 9s 134ms/step - loss: 0.4682 - accuracy: 0.8120 - val_loss: 0.6005 - val_accuracy: 0.7750\n",
            "Epoch 100/100\n",
            "63/63 [==============================] - 9s 134ms/step - loss: 0.4633 - accuracy: 0.8075 - val_loss: 1.3162 - val_accuracy: 0.7160\n"
          ]
        }
      ]
    },
    {
      "cell_type": "code",
      "source": [
        "test_model = keras.models.load_model(\n",
        "    \"convnet_from_scratch_with_augmentation.keras\")\n",
        "test_loss, test_acc = test_model.evaluate(test_dataset)\n",
        "print(f\"Test accuracy: {test_acc:.3f}\")"
      ],
      "metadata": {
        "id": "PtUziGSImLB4",
        "colab": {
          "base_uri": "https://localhost:8080/"
        },
        "outputId": "b9328466-9493-45cd-bb9d-1f400fad9bc0"
      },
      "execution_count": null,
      "outputs": [
        {
          "output_type": "stream",
          "name": "stdout",
          "text": [
            "32/32 [==============================] - 2s 48ms/step - loss: 0.8238 - accuracy: 0.7680\n",
            "Test accuracy: 0.768\n"
          ]
        }
      ]
    },
    {
      "cell_type": "markdown",
      "source": [
        "#### With Big Training Sample and Data Augmentation"
      ],
      "metadata": {
        "id": "5rwM-2Ql4z6g"
      }
    },
    {
      "cell_type": "code",
      "source": [
        "import os, shutil, pathlib\n",
        "\n",
        "original_dir = pathlib.Path(\"train\")\n",
        "new_base_dir = pathlib.Path(\"cats_vs_dogs_small\")\n",
        "\n",
        "def make_subset(subset_name, start_index, end_index):\n",
        "    for category in (\"cat\", \"dog\"):\n",
        "        dir = new_base_dir / subset_name / category\n",
        "        if os.path.exists(dir):\n",
        "         shutil.rmtree(dir)\n",
        "         os.mkdir(dir)\n",
        "        fnames = [f\"{category}.{i}.jpg\" for i in range(start_index, end_index)]\n",
        "        for fname in fnames:\n",
        "            shutil.copyfile(src=original_dir / fname,\n",
        "                            dst=dir / fname)\n",
        "\n",
        "make_subset(\"train\", start_index=0, end_index=3000)\n",
        "make_subset(\"validation\", start_index=3000, end_index=3500)\n",
        "make_subset(\"test\", start_index=3500, end_index=4000)"
      ],
      "metadata": {
        "id": "WgDgBFXk4y3l"
      },
      "execution_count": 8,
      "outputs": []
    },
    {
      "cell_type": "code",
      "source": [
        "data_augmentation = keras.Sequential(\n",
        "    [\n",
        "        layers.RandomFlip(\"horizontal\"),\n",
        "        layers.RandomRotation(0.1),\n",
        "        layers.RandomZoom(0.2),\n",
        "    ]\n",
        ")"
      ],
      "metadata": {
        "id": "ksXoEjaM5L7t"
      },
      "execution_count": 9,
      "outputs": []
    },
    {
      "cell_type": "code",
      "source": [
        "from tensorflow import keras\n",
        "from tensorflow.keras import layers\n",
        "\n",
        "inputs = keras.Input(shape=(180, 180, 3))\n",
        "x = layers.Rescaling(1./255)(inputs)\n",
        "x = data_augmentation(inputs)\n",
        "x = layers.Conv2D(filters=32, kernel_size=3, activation=\"relu\")(x)\n",
        "x = layers.MaxPooling2D(pool_size=2)(x)\n",
        "x = layers.Conv2D(filters=64, kernel_size=3, activation=\"relu\")(x)\n",
        "x = layers.MaxPooling2D(pool_size=2)(x)\n",
        "x = layers.Conv2D(filters=128, kernel_size=3, activation=\"relu\")(x)\n",
        "x = layers.MaxPooling2D(pool_size=2)(x)\n",
        "x = layers.Conv2D(filters=128, kernel_size=3, activation=\"relu\")(x)\n",
        "x = layers.MaxPooling2D(pool_size=2)(x)\n",
        "x = layers.Conv2D(filters=256, kernel_size=3, activation=\"relu\")(x)\n",
        "x = layers.Flatten()(x)\n",
        "x = layers.Dropout(0.5)(x)\n",
        "outputs = layers.Dense(1, activation=\"sigmoid\")(x)\n",
        "model = keras.Model(inputs=inputs, outputs=outputs)\n",
        "\n",
        "model.compile(loss=\"binary_crossentropy\",\n",
        "              optimizer=\"rmsprop\",\n",
        "              metrics=[\"accuracy\"])"
      ],
      "metadata": {
        "id": "suFeJBOD5cA1"
      },
      "execution_count": 10,
      "outputs": []
    },
    {
      "cell_type": "code",
      "source": [
        "from tensorflow.keras.utils import image_dataset_from_directory\n",
        "\n",
        "train_dataset = image_dataset_from_directory(\n",
        "    new_base_dir / \"train\",\n",
        "    image_size=(180, 180),\n",
        "    batch_size=32)\n",
        "validation_dataset = image_dataset_from_directory(\n",
        "    new_base_dir / \"validation\",\n",
        "    image_size=(180, 180),\n",
        "    batch_size=32)\n",
        "test_dataset = image_dataset_from_directory(\n",
        "    new_base_dir / \"test\",\n",
        "    image_size=(180, 180),\n",
        "    batch_size=32)"
      ],
      "metadata": {
        "colab": {
          "base_uri": "https://localhost:8080/"
        },
        "outputId": "bf98b873-a7f8-485f-e937-05fdc0f90565",
        "id": "h3iXKfzQ5hd4"
      },
      "execution_count": 12,
      "outputs": [
        {
          "output_type": "stream",
          "name": "stdout",
          "text": [
            "Found 6000 files belonging to 2 classes.\n",
            "Found 1000 files belonging to 2 classes.\n",
            "Found 1000 files belonging to 2 classes.\n"
          ]
        }
      ]
    },
    {
      "cell_type": "code",
      "source": [
        "callbacks = [\n",
        "    keras.callbacks.ModelCheckpoint(\n",
        "        filepath=\"convnet_from_scratch_with_augmentation_big_sample.keras\",\n",
        "        save_best_only=True,\n",
        "        monitor=\"val_loss\")\n",
        "]\n",
        "history = model.fit(\n",
        "    train_dataset,\n",
        "    epochs=60,\n",
        "    validation_data=validation_dataset,\n",
        "    callbacks=callbacks)"
      ],
      "metadata": {
        "colab": {
          "base_uri": "https://localhost:8080/"
        },
        "id": "qAsrWSct5lNo",
        "outputId": "a2f7975d-dc8b-4c03-af4c-93ab691eba57"
      },
      "execution_count": 13,
      "outputs": [
        {
          "output_type": "stream",
          "name": "stdout",
          "text": [
            "Epoch 1/60\n",
            "188/188 [==============================] - 31s 99ms/step - loss: 3.0406 - accuracy: 0.5172 - val_loss: 0.6812 - val_accuracy: 0.5520\n",
            "Epoch 2/60\n",
            "188/188 [==============================] - 19s 98ms/step - loss: 0.6967 - accuracy: 0.5733 - val_loss: 0.6562 - val_accuracy: 0.6190\n",
            "Epoch 3/60\n",
            "188/188 [==============================] - 18s 95ms/step - loss: 0.6643 - accuracy: 0.6168 - val_loss: 0.6199 - val_accuracy: 0.6600\n",
            "Epoch 4/60\n",
            "188/188 [==============================] - 18s 96ms/step - loss: 0.6615 - accuracy: 0.6360 - val_loss: 0.6309 - val_accuracy: 0.6480\n",
            "Epoch 5/60\n",
            "188/188 [==============================] - 18s 96ms/step - loss: 0.6416 - accuracy: 0.6535 - val_loss: 0.6052 - val_accuracy: 0.6690\n",
            "Epoch 6/60\n",
            "188/188 [==============================] - 18s 95ms/step - loss: 0.6304 - accuracy: 0.6613 - val_loss: 0.5602 - val_accuracy: 0.7160\n",
            "Epoch 7/60\n",
            "188/188 [==============================] - 18s 95ms/step - loss: 0.6139 - accuracy: 0.6820 - val_loss: 0.5592 - val_accuracy: 0.7290\n",
            "Epoch 8/60\n",
            "188/188 [==============================] - 18s 95ms/step - loss: 0.6043 - accuracy: 0.6945 - val_loss: 0.5580 - val_accuracy: 0.7270\n",
            "Epoch 9/60\n",
            "188/188 [==============================] - 18s 94ms/step - loss: 0.5773 - accuracy: 0.7130 - val_loss: 0.5380 - val_accuracy: 0.7510\n",
            "Epoch 10/60\n",
            "188/188 [==============================] - 18s 94ms/step - loss: 0.5697 - accuracy: 0.7182 - val_loss: 0.5703 - val_accuracy: 0.6960\n",
            "Epoch 11/60\n",
            "188/188 [==============================] - 18s 94ms/step - loss: 0.5713 - accuracy: 0.7217 - val_loss: 0.4901 - val_accuracy: 0.7780\n",
            "Epoch 12/60\n",
            "188/188 [==============================] - 18s 94ms/step - loss: 0.5492 - accuracy: 0.7385 - val_loss: 0.7147 - val_accuracy: 0.6780\n",
            "Epoch 13/60\n",
            "188/188 [==============================] - 18s 94ms/step - loss: 0.5362 - accuracy: 0.7438 - val_loss: 0.4886 - val_accuracy: 0.7910\n",
            "Epoch 14/60\n",
            "188/188 [==============================] - 18s 94ms/step - loss: 0.5320 - accuracy: 0.7465 - val_loss: 0.6320 - val_accuracy: 0.7070\n",
            "Epoch 15/60\n",
            "188/188 [==============================] - 18s 94ms/step - loss: 0.5360 - accuracy: 0.7350 - val_loss: 0.4800 - val_accuracy: 0.7830\n",
            "Epoch 16/60\n",
            "188/188 [==============================] - 18s 94ms/step - loss: 0.5226 - accuracy: 0.7540 - val_loss: 0.4444 - val_accuracy: 0.8020\n",
            "Epoch 17/60\n",
            "188/188 [==============================] - 18s 95ms/step - loss: 0.5110 - accuracy: 0.7595 - val_loss: 0.4064 - val_accuracy: 0.8100\n",
            "Epoch 18/60\n",
            "188/188 [==============================] - 18s 94ms/step - loss: 0.5021 - accuracy: 0.7650 - val_loss: 0.4826 - val_accuracy: 0.7770\n",
            "Epoch 19/60\n",
            "188/188 [==============================] - 18s 94ms/step - loss: 0.5095 - accuracy: 0.7623 - val_loss: 0.6584 - val_accuracy: 0.7080\n",
            "Epoch 20/60\n",
            "188/188 [==============================] - 18s 94ms/step - loss: 0.4899 - accuracy: 0.7637 - val_loss: 0.3599 - val_accuracy: 0.8530\n",
            "Epoch 21/60\n",
            "188/188 [==============================] - 18s 94ms/step - loss: 0.4930 - accuracy: 0.7762 - val_loss: 0.4261 - val_accuracy: 0.8140\n",
            "Epoch 22/60\n",
            "188/188 [==============================] - 18s 94ms/step - loss: 0.4912 - accuracy: 0.7750 - val_loss: 0.9678 - val_accuracy: 0.7070\n",
            "Epoch 23/60\n",
            "188/188 [==============================] - 18s 94ms/step - loss: 0.4788 - accuracy: 0.7817 - val_loss: 0.4035 - val_accuracy: 0.8180\n",
            "Epoch 24/60\n",
            "188/188 [==============================] - 18s 94ms/step - loss: 0.4766 - accuracy: 0.7867 - val_loss: 0.3820 - val_accuracy: 0.8240\n",
            "Epoch 25/60\n",
            "188/188 [==============================] - 18s 94ms/step - loss: 0.4535 - accuracy: 0.7918 - val_loss: 0.3316 - val_accuracy: 0.8570\n",
            "Epoch 26/60\n",
            "188/188 [==============================] - 18s 95ms/step - loss: 0.4735 - accuracy: 0.7905 - val_loss: 0.5153 - val_accuracy: 0.7120\n",
            "Epoch 27/60\n",
            "188/188 [==============================] - 18s 94ms/step - loss: 0.4828 - accuracy: 0.7878 - val_loss: 0.3251 - val_accuracy: 0.8450\n",
            "Epoch 28/60\n",
            "188/188 [==============================] - 18s 94ms/step - loss: 0.4593 - accuracy: 0.7897 - val_loss: 0.3305 - val_accuracy: 0.8510\n",
            "Epoch 29/60\n",
            "188/188 [==============================] - 18s 95ms/step - loss: 0.4764 - accuracy: 0.7935 - val_loss: 0.4881 - val_accuracy: 0.8330\n",
            "Epoch 30/60\n",
            "188/188 [==============================] - 18s 96ms/step - loss: 0.4594 - accuracy: 0.7980 - val_loss: 0.4198 - val_accuracy: 0.8100\n",
            "Epoch 31/60\n",
            "188/188 [==============================] - 18s 95ms/step - loss: 0.4648 - accuracy: 0.7903 - val_loss: 0.4440 - val_accuracy: 0.8380\n",
            "Epoch 32/60\n",
            "188/188 [==============================] - 18s 95ms/step - loss: 0.4613 - accuracy: 0.7877 - val_loss: 0.5221 - val_accuracy: 0.7220\n",
            "Epoch 33/60\n",
            "188/188 [==============================] - 18s 96ms/step - loss: 0.4472 - accuracy: 0.8042 - val_loss: 0.4730 - val_accuracy: 0.8300\n",
            "Epoch 34/60\n",
            "188/188 [==============================] - 18s 95ms/step - loss: 0.4532 - accuracy: 0.7938 - val_loss: 0.5427 - val_accuracy: 0.7920\n",
            "Epoch 35/60\n",
            "188/188 [==============================] - 18s 95ms/step - loss: 0.4268 - accuracy: 0.8162 - val_loss: 0.6213 - val_accuracy: 0.8010\n",
            "Epoch 36/60\n",
            "188/188 [==============================] - 18s 95ms/step - loss: 0.4418 - accuracy: 0.8037 - val_loss: 1.0833 - val_accuracy: 0.7070\n",
            "Epoch 37/60\n",
            "188/188 [==============================] - 18s 95ms/step - loss: 0.4561 - accuracy: 0.8023 - val_loss: 0.3965 - val_accuracy: 0.8250\n",
            "Epoch 38/60\n",
            "188/188 [==============================] - 18s 95ms/step - loss: 0.4512 - accuracy: 0.7988 - val_loss: 0.4123 - val_accuracy: 0.8220\n",
            "Epoch 39/60\n",
            "188/188 [==============================] - 18s 95ms/step - loss: 0.4636 - accuracy: 0.7922 - val_loss: 0.3233 - val_accuracy: 0.8620\n",
            "Epoch 40/60\n",
            "188/188 [==============================] - 18s 95ms/step - loss: 0.4768 - accuracy: 0.7937 - val_loss: 0.3330 - val_accuracy: 0.8440\n",
            "Epoch 41/60\n",
            "188/188 [==============================] - 18s 95ms/step - loss: 0.4521 - accuracy: 0.7905 - val_loss: 0.5318 - val_accuracy: 0.8270\n",
            "Epoch 42/60\n",
            "188/188 [==============================] - 18s 95ms/step - loss: 0.4714 - accuracy: 0.7967 - val_loss: 0.3281 - val_accuracy: 0.8500\n",
            "Epoch 43/60\n",
            "188/188 [==============================] - 18s 95ms/step - loss: 0.4500 - accuracy: 0.8077 - val_loss: 0.4812 - val_accuracy: 0.7960\n",
            "Epoch 44/60\n",
            "188/188 [==============================] - 18s 95ms/step - loss: 0.4792 - accuracy: 0.7883 - val_loss: 0.3534 - val_accuracy: 0.8530\n",
            "Epoch 45/60\n",
            "188/188 [==============================] - 18s 95ms/step - loss: 0.4467 - accuracy: 0.8015 - val_loss: 0.4087 - val_accuracy: 0.8140\n",
            "Epoch 46/60\n",
            "188/188 [==============================] - 18s 95ms/step - loss: 0.4938 - accuracy: 0.7770 - val_loss: 0.5718 - val_accuracy: 0.8290\n",
            "Epoch 47/60\n",
            "188/188 [==============================] - 18s 95ms/step - loss: 0.4837 - accuracy: 0.7927 - val_loss: 0.5178 - val_accuracy: 0.8190\n",
            "Epoch 48/60\n",
            "188/188 [==============================] - 18s 95ms/step - loss: 0.5111 - accuracy: 0.7770 - val_loss: 0.4211 - val_accuracy: 0.8360\n",
            "Epoch 49/60\n",
            "188/188 [==============================] - 18s 95ms/step - loss: 0.4837 - accuracy: 0.7902 - val_loss: 0.3727 - val_accuracy: 0.8500\n",
            "Epoch 50/60\n",
            "188/188 [==============================] - 18s 95ms/step - loss: 0.4675 - accuracy: 0.7923 - val_loss: 0.3800 - val_accuracy: 0.8420\n",
            "Epoch 51/60\n",
            "188/188 [==============================] - 18s 95ms/step - loss: 0.4864 - accuracy: 0.7838 - val_loss: 0.4905 - val_accuracy: 0.8150\n",
            "Epoch 52/60\n",
            "188/188 [==============================] - 18s 96ms/step - loss: 0.6099 - accuracy: 0.7398 - val_loss: 0.4508 - val_accuracy: 0.7950\n",
            "Epoch 53/60\n",
            "188/188 [==============================] - 18s 94ms/step - loss: 0.5723 - accuracy: 0.7525 - val_loss: 0.5190 - val_accuracy: 0.7490\n",
            "Epoch 54/60\n",
            "188/188 [==============================] - 18s 95ms/step - loss: 0.5463 - accuracy: 0.7525 - val_loss: 0.4911 - val_accuracy: 0.7610\n",
            "Epoch 55/60\n",
            "188/188 [==============================] - 18s 95ms/step - loss: 0.5524 - accuracy: 0.7405 - val_loss: 0.5319 - val_accuracy: 0.7260\n",
            "Epoch 56/60\n",
            "188/188 [==============================] - 18s 95ms/step - loss: 0.6108 - accuracy: 0.7187 - val_loss: 0.4466 - val_accuracy: 0.8050\n",
            "Epoch 57/60\n",
            "188/188 [==============================] - 18s 95ms/step - loss: 0.6700 - accuracy: 0.7233 - val_loss: 0.5691 - val_accuracy: 0.7130\n",
            "Epoch 58/60\n",
            "188/188 [==============================] - 18s 95ms/step - loss: 0.5676 - accuracy: 0.7360 - val_loss: 0.5591 - val_accuracy: 0.7320\n",
            "Epoch 59/60\n",
            "188/188 [==============================] - 18s 95ms/step - loss: 0.5495 - accuracy: 0.7447 - val_loss: 0.5305 - val_accuracy: 0.6970\n",
            "Epoch 60/60\n",
            "188/188 [==============================] - 18s 94ms/step - loss: 0.5458 - accuracy: 0.7448 - val_loss: 0.4572 - val_accuracy: 0.7740\n"
          ]
        }
      ]
    },
    {
      "cell_type": "code",
      "source": [
        "test_model = keras.models.load_model(\n",
        "    \"convnet_from_scratch_with_augmentation_big_sample.keras\")\n",
        "test_loss, test_acc = test_model.evaluate(test_dataset)\n",
        "print(f\"Test accuracy: {test_acc:.3f}\")"
      ],
      "metadata": {
        "id": "2CyIj1Mr5xos",
        "colab": {
          "base_uri": "https://localhost:8080/"
        },
        "outputId": "28f36a27-129c-4524-efe2-553118927148"
      },
      "execution_count": 14,
      "outputs": [
        {
          "output_type": "stream",
          "name": "stdout",
          "text": [
            "32/32 [==============================] - 2s 47ms/step - loss: 0.4169 - accuracy: 0.8320\n",
            "Test accuracy: 0.832\n"
          ]
        }
      ]
    },
    {
      "cell_type": "markdown",
      "source": [
        "From the above, data augmentation and directly increasing the training set model will reduce overfitting and improve regularization and the performance of the model on the training set. Jointly increasing the sample size and data augmentation will further weaken the overfitting and make the model perform better on the test set."
      ],
      "metadata": {
        "id": "rZwoI6gls6zF"
      }
    },
    {
      "cell_type": "markdown",
      "source": [
        "##2 Using a Pretrained Convnet"
      ],
      "metadata": {
        "id": "ZmD-yUoStyx5"
      }
    },
    {
      "cell_type": "markdown",
      "source": [
        "### 1）With no Data Augmentation and no big sample size"
      ],
      "metadata": {
        "id": "Xh_SBruMvd30"
      }
    },
    {
      "cell_type": "code",
      "source": [
        "import os, shutil, pathlib\n",
        "\n",
        "original_dir = pathlib.Path(\"train\")\n",
        "new_base_dir = pathlib.Path(\"cats_vs_dogs_small\")\n",
        "\n",
        "def make_subset(subset_name, start_index, end_index):\n",
        "    for category in (\"cat\", \"dog\"):\n",
        "        dir = new_base_dir / subset_name / category\n",
        "        if os.path.exists(dir):\n",
        "         shutil.rmtree(dir)\n",
        "         os.mkdir(dir)\n",
        "        fnames = [f\"{category}.{i}.jpg\" for i in range(start_index, end_index)]\n",
        "        for fname in fnames:\n",
        "            shutil.copyfile(src=original_dir / fname,\n",
        "                            dst=dir / fname)\n",
        "\n",
        "make_subset(\"train\", start_index=0, end_index=1000)\n",
        "make_subset(\"validation\", start_index=1000, end_index=1500)\n",
        "make_subset(\"test\", start_index=1500, end_index=2000)"
      ],
      "metadata": {
        "id": "A04L69W-t4eN"
      },
      "execution_count": 15,
      "outputs": []
    },
    {
      "cell_type": "code",
      "source": [
        "from tensorflow.keras.utils import image_dataset_from_directory\n",
        "\n",
        "train_dataset = image_dataset_from_directory(\n",
        "    new_base_dir / \"train\",\n",
        "    image_size=(180, 180),\n",
        "    batch_size=32)\n",
        "validation_dataset = image_dataset_from_directory(\n",
        "    new_base_dir / \"validation\",\n",
        "    image_size=(180, 180),\n",
        "    batch_size=32)\n",
        "test_dataset = image_dataset_from_directory(\n",
        "    new_base_dir / \"test\",\n",
        "    image_size=(180, 180),\n",
        "    batch_size=32)"
      ],
      "metadata": {
        "id": "QzpSrsw84jI4",
        "colab": {
          "base_uri": "https://localhost:8080/"
        },
        "outputId": "f0b440c9-ecc9-481e-f79b-4948b162c8fd"
      },
      "execution_count": 16,
      "outputs": [
        {
          "output_type": "stream",
          "name": "stdout",
          "text": [
            "Found 2000 files belonging to 2 classes.\n",
            "Found 1000 files belonging to 2 classes.\n",
            "Found 1000 files belonging to 2 classes.\n"
          ]
        }
      ]
    },
    {
      "cell_type": "markdown",
      "source": [
        "#### Using VGG16 "
      ],
      "metadata": {
        "id": "1w3Uidqivwhn"
      }
    },
    {
      "cell_type": "code",
      "source": [
        "conv_base = keras.applications.vgg16.VGG16(\n",
        "    weights=\"imagenet\",\n",
        "    include_top=False,\n",
        "    input_shape=(180, 180, 3))"
      ],
      "metadata": {
        "id": "U0fMxxwevr7y",
        "colab": {
          "base_uri": "https://localhost:8080/"
        },
        "outputId": "f616edac-8e1a-431e-fb5a-e7d21dd6d463"
      },
      "execution_count": 17,
      "outputs": [
        {
          "output_type": "stream",
          "name": "stdout",
          "text": [
            "Downloading data from https://storage.googleapis.com/tensorflow/keras-applications/vgg16/vgg16_weights_tf_dim_ordering_tf_kernels_notop.h5\n",
            "58892288/58889256 [==============================] - 1s 0us/step\n",
            "58900480/58889256 [==============================] - 1s 0us/step\n"
          ]
        }
      ]
    },
    {
      "cell_type": "code",
      "source": [
        "import numpy as np\n",
        "\n",
        "def get_features_and_labels(dataset):\n",
        "    all_features = []\n",
        "    all_labels = []\n",
        "    for images, labels in dataset:\n",
        "        preprocessed_images = keras.applications.vgg16.preprocess_input(images)\n",
        "        features = conv_base.predict(preprocessed_images)\n",
        "        all_features.append(features)\n",
        "        all_labels.append(labels)\n",
        "    return np.concatenate(all_features), np.concatenate(all_labels)\n",
        "\n",
        "train_features, train_labels =  get_features_and_labels(train_dataset)\n",
        "val_features, val_labels =  get_features_and_labels(validation_dataset)\n",
        "test_features, test_labels =  get_features_and_labels(test_dataset)"
      ],
      "metadata": {
        "id": "7m30WeOJwFqA"
      },
      "execution_count": 18,
      "outputs": []
    },
    {
      "cell_type": "code",
      "execution_count": 19,
      "metadata": {
        "id": "gWMIqr8JdATV",
        "colab": {
          "base_uri": "https://localhost:8080/"
        },
        "outputId": "066380b7-0640-4c83-f4e0-eb6203ad54ea"
      },
      "outputs": [
        {
          "output_type": "stream",
          "name": "stdout",
          "text": [
            "Epoch 1/20\n",
            "63/63 [==============================] - 1s 12ms/step - loss: 18.4427 - accuracy: 0.9175 - val_loss: 4.4860 - val_accuracy: 0.9680\n",
            "Epoch 2/20\n",
            "63/63 [==============================] - 1s 10ms/step - loss: 2.9273 - accuracy: 0.9800 - val_loss: 3.5017 - val_accuracy: 0.9760\n",
            "Epoch 3/20\n",
            "63/63 [==============================] - 1s 9ms/step - loss: 2.8086 - accuracy: 0.9815 - val_loss: 6.0408 - val_accuracy: 0.9670\n",
            "Epoch 4/20\n",
            "63/63 [==============================] - 1s 9ms/step - loss: 1.4756 - accuracy: 0.9875 - val_loss: 6.5703 - val_accuracy: 0.9730\n",
            "Epoch 5/20\n",
            "63/63 [==============================] - 1s 9ms/step - loss: 0.6252 - accuracy: 0.9940 - val_loss: 9.8879 - val_accuracy: 0.9570\n",
            "Epoch 6/20\n",
            "63/63 [==============================] - 1s 9ms/step - loss: 0.5262 - accuracy: 0.9950 - val_loss: 5.3019 - val_accuracy: 0.9730\n",
            "Epoch 7/20\n",
            "63/63 [==============================] - 1s 8ms/step - loss: 0.2030 - accuracy: 0.9975 - val_loss: 5.8839 - val_accuracy: 0.9700\n",
            "Epoch 8/20\n",
            "63/63 [==============================] - 1s 9ms/step - loss: 0.1234 - accuracy: 0.9980 - val_loss: 5.3183 - val_accuracy: 0.9760\n",
            "Epoch 9/20\n",
            "63/63 [==============================] - 1s 9ms/step - loss: 0.7492 - accuracy: 0.9935 - val_loss: 6.4068 - val_accuracy: 0.9740\n",
            "Epoch 10/20\n",
            "63/63 [==============================] - 1s 9ms/step - loss: 0.6031 - accuracy: 0.9950 - val_loss: 5.3828 - val_accuracy: 0.9770\n",
            "Epoch 11/20\n",
            "63/63 [==============================] - 1s 9ms/step - loss: 0.9159 - accuracy: 0.9945 - val_loss: 5.2562 - val_accuracy: 0.9760\n",
            "Epoch 12/20\n",
            "63/63 [==============================] - 1s 9ms/step - loss: 0.1377 - accuracy: 0.9980 - val_loss: 7.7561 - val_accuracy: 0.9730\n",
            "Epoch 13/20\n",
            "63/63 [==============================] - 1s 10ms/step - loss: 0.2373 - accuracy: 0.9985 - val_loss: 5.5519 - val_accuracy: 0.9770\n",
            "Epoch 14/20\n",
            "63/63 [==============================] - 1s 9ms/step - loss: 0.0387 - accuracy: 0.9995 - val_loss: 7.5868 - val_accuracy: 0.9710\n",
            "Epoch 15/20\n",
            "63/63 [==============================] - 1s 10ms/step - loss: 0.1064 - accuracy: 0.9985 - val_loss: 4.6762 - val_accuracy: 0.9800\n",
            "Epoch 16/20\n",
            "63/63 [==============================] - 1s 10ms/step - loss: 0.0558 - accuracy: 0.9985 - val_loss: 6.2976 - val_accuracy: 0.9720\n",
            "Epoch 17/20\n",
            "63/63 [==============================] - 1s 10ms/step - loss: 0.1709 - accuracy: 0.9985 - val_loss: 4.9084 - val_accuracy: 0.9780\n",
            "Epoch 18/20\n",
            "63/63 [==============================] - 1s 10ms/step - loss: 0.0000e+00 - accuracy: 1.0000 - val_loss: 4.9084 - val_accuracy: 0.9780\n",
            "Epoch 19/20\n",
            "63/63 [==============================] - 1s 10ms/step - loss: 0.0901 - accuracy: 0.9980 - val_loss: 5.2311 - val_accuracy: 0.9760\n",
            "Epoch 20/20\n",
            "63/63 [==============================] - 1s 9ms/step - loss: 1.1848e-31 - accuracy: 1.0000 - val_loss: 5.2311 - val_accuracy: 0.9760\n"
          ]
        }
      ],
      "source": [
        "inputs = keras.Input(shape=(5, 5, 512))\n",
        "x = layers.Flatten()(inputs)\n",
        "x = layers.Dense(256)(x)\n",
        "x = layers.Dropout(0.5)(x)\n",
        "outputs = layers.Dense(1, activation=\"sigmoid\")(x)\n",
        "model = keras.Model(inputs, outputs)\n",
        "model.compile(loss=\"binary_crossentropy\",\n",
        "              optimizer=\"rmsprop\",\n",
        "              metrics=[\"accuracy\"])\n",
        "\n",
        "callbacks = [\n",
        "    keras.callbacks.ModelCheckpoint(\n",
        "      filepath=\"feature_extraction.keras\",\n",
        "      save_best_only=True,\n",
        "      monitor=\"val_loss\")\n",
        "]\n",
        "history = model.fit(\n",
        "    train_features, train_labels,\n",
        "    epochs=20,\n",
        "    validation_data=(val_features, val_labels),\n",
        "    callbacks=callbacks)"
      ]
    },
    {
      "cell_type": "code",
      "source": [
        "import matplotlib.pyplot as plt\n",
        "acc = history.history[\"accuracy\"]\n",
        "val_acc = history.history[\"val_accuracy\"]\n",
        "loss = history.history[\"loss\"]\n",
        "val_loss = history.history[\"val_loss\"]\n",
        "epochs = range(1, len(acc) + 1)\n",
        "plt.plot(epochs, acc, \"bo\", label=\"Training accuracy\")\n",
        "plt.plot(epochs, val_acc, \"b\", label=\"Validation accuracy\")\n",
        "plt.title(\"Training and validation accuracy\")\n",
        "plt.legend()\n",
        "plt.figure()\n",
        "plt.plot(epochs, loss, \"bo\", label=\"Training loss\")\n",
        "plt.plot(epochs, val_loss, \"b\", label=\"Validation loss\")\n",
        "plt.title(\"Training and validation loss\")\n",
        "plt.legend()\n",
        "plt.show()"
      ],
      "metadata": {
        "id": "7OhYF4gSxtl7",
        "colab": {
          "base_uri": "https://localhost:8080/",
          "height": 545
        },
        "outputId": "ba8c0ff7-3f4c-47da-fc56-bb9b57a27f3e"
      },
      "execution_count": 20,
      "outputs": [
        {
          "output_type": "display_data",
          "data": {
            "text/plain": [
              "<Figure size 432x288 with 1 Axes>"
            ],
            "image/png": "[encoded data removed]"
          },
          "metadata": {
            "needs_background": "light"
          }
        },
        {
          "output_type": "display_data",
          "data": {
            "text/plain": [
              "<Figure size 432x288 with 1 Axes>"
            ],
            "image/png": "[encoded data removed]"
          },
          "metadata": {
            "needs_background": "light"
          }
        }
      ]
    },
    {
      "cell_type": "markdown",
      "source": [
        "The results show high accuracy on the validation set, compared to the model from scratch. But it seems to be overfitting very quickly, although Dropout is also used."
      ],
      "metadata": {
        "id": "epnHfDKzymu8"
      }
    },
    {
      "cell_type": "markdown",
      "source": [
        "###2) With Data Augumentation"
      ],
      "metadata": {
        "id": "PDGTP88Z1Pf2"
      }
    },
    {
      "cell_type": "code",
      "execution_count": 21,
      "metadata": {
        "id": "SSRgv-_g0a8U"
      },
      "outputs": [],
      "source": [
        "conv_base  = keras.applications.vgg16.VGG16(\n",
        "    weights=\"imagenet\",\n",
        "    include_top=False)\n",
        "conv_base.trainable = False"
      ]
    },
    {
      "cell_type": "code",
      "execution_count": 22,
      "metadata": {
        "id": "iD4eR2y50a8U",
        "colab": {
          "base_uri": "https://localhost:8080/"
        },
        "outputId": "f831f56a-8464-4ec5-ee6e-07479704bc0b"
      },
      "outputs": [
        {
          "output_type": "stream",
          "name": "stdout",
          "text": [
            "This is the number of trainable weights after freezing the conv base: 0\n"
          ]
        }
      ],
      "source": [
        "conv_base.trainable = False\n",
        "print(\"This is the number of trainable weights \"\n",
        "      \"after freezing the conv base:\", len(conv_base.trainable_weights))"
      ]
    },
    {
      "cell_type": "code",
      "source": [
        "data_augmentation = keras.Sequential(\n",
        "    [\n",
        "        layers.RandomFlip(\"horizontal\"),\n",
        "        layers.RandomRotation(0.1),\n",
        "        layers.RandomZoom(0.2),\n",
        "    ]\n",
        ")\n",
        "\n",
        "inputs = keras.Input(shape=(180, 180, 3))\n",
        "x = data_augmentation(inputs)\n",
        "x = keras.applications.vgg16.preprocess_input(x)\n",
        "x = conv_base(x)\n",
        "x = layers.Flatten()(x)\n",
        "x = layers.Dense(512)(x)\n",
        "x = layers.Dropout(0.5)(x)\n",
        "outputs = layers.Dense(1, activation=\"sigmoid\")(x)\n",
        "model = keras.Model(inputs, outputs)\n",
        "model.compile(loss=\"binary_crossentropy\",\n",
        "              optimizer=\"rmsprop\",\n",
        "              metrics=[\"accuracy\"])"
      ],
      "metadata": {
        "id": "bhyxtEZs-BfB"
      },
      "execution_count": 23,
      "outputs": []
    },
    {
      "cell_type": "code",
      "source": [
        "callbacks = [\n",
        "    keras.callbacks.ModelCheckpoint(\n",
        "        filepath=\"feature_extraction_with_data_augmentation.keras\",\n",
        "        save_best_only=True,\n",
        "        monitor=\"val_loss\")\n",
        "]\n",
        "history = model.fit(\n",
        "    train_dataset,\n",
        "    epochs=50,\n",
        "    validation_data=validation_dataset,\n",
        "    callbacks=callbacks)"
      ],
      "metadata": {
        "id": "kLb2IAa6-Myc",
        "colab": {
          "base_uri": "https://localhost:8080/"
        },
        "outputId": "b56c9136-286e-4b2f-be80-bb4210cafd79"
      },
      "execution_count": 24,
      "outputs": [
        {
          "output_type": "stream",
          "name": "stdout",
          "text": [
            "Epoch 1/50\n",
            "63/63 [==============================] - 24s 353ms/step - loss: 24.0650 - accuracy: 0.8995 - val_loss: 5.3240 - val_accuracy: 0.9720\n",
            "Epoch 2/50\n",
            "63/63 [==============================] - 22s 350ms/step - loss: 10.7105 - accuracy: 0.9380 - val_loss: 4.2910 - val_accuracy: 0.9760\n",
            "Epoch 3/50\n",
            "63/63 [==============================] - 22s 345ms/step - loss: 7.4948 - accuracy: 0.9535 - val_loss: 7.1961 - val_accuracy: 0.9690\n",
            "Epoch 4/50\n",
            "63/63 [==============================] - 22s 345ms/step - loss: 7.3509 - accuracy: 0.9565 - val_loss: 12.5983 - val_accuracy: 0.9540\n",
            "Epoch 5/50\n",
            "63/63 [==============================] - 22s 345ms/step - loss: 4.2452 - accuracy: 0.9680 - val_loss: 6.5708 - val_accuracy: 0.9730\n",
            "Epoch 6/50\n",
            "63/63 [==============================] - 22s 345ms/step - loss: 3.0664 - accuracy: 0.9735 - val_loss: 4.9833 - val_accuracy: 0.9750\n",
            "Epoch 7/50\n",
            "63/63 [==============================] - 22s 346ms/step - loss: 5.9693 - accuracy: 0.9630 - val_loss: 5.6040 - val_accuracy: 0.9750\n",
            "Epoch 8/50\n",
            "63/63 [==============================] - 22s 345ms/step - loss: 3.5356 - accuracy: 0.9755 - val_loss: 4.2989 - val_accuracy: 0.9770\n",
            "Epoch 9/50\n",
            "63/63 [==============================] - 22s 351ms/step - loss: 3.0096 - accuracy: 0.9775 - val_loss: 4.1943 - val_accuracy: 0.9780\n",
            "Epoch 10/50\n",
            "63/63 [==============================] - 22s 345ms/step - loss: 3.9271 - accuracy: 0.9710 - val_loss: 4.7515 - val_accuracy: 0.9750\n",
            "Epoch 11/50\n",
            "63/63 [==============================] - 22s 345ms/step - loss: 2.9648 - accuracy: 0.9740 - val_loss: 8.0609 - val_accuracy: 0.9630\n",
            "Epoch 12/50\n",
            "63/63 [==============================] - 22s 346ms/step - loss: 2.5938 - accuracy: 0.9785 - val_loss: 4.3874 - val_accuracy: 0.9730\n",
            "Epoch 13/50\n",
            "63/63 [==============================] - 22s 345ms/step - loss: 3.1963 - accuracy: 0.9740 - val_loss: 4.4133 - val_accuracy: 0.9760\n",
            "Epoch 14/50\n",
            "63/63 [==============================] - 22s 344ms/step - loss: 2.3198 - accuracy: 0.9810 - val_loss: 6.5587 - val_accuracy: 0.9640\n",
            "Epoch 15/50\n",
            "63/63 [==============================] - 22s 350ms/step - loss: 2.1469 - accuracy: 0.9800 - val_loss: 3.7588 - val_accuracy: 0.9760\n",
            "Epoch 16/50\n",
            "63/63 [==============================] - 22s 345ms/step - loss: 1.8970 - accuracy: 0.9800 - val_loss: 5.0028 - val_accuracy: 0.9750\n",
            "Epoch 17/50\n",
            "63/63 [==============================] - 22s 350ms/step - loss: 3.0001 - accuracy: 0.9765 - val_loss: 3.0041 - val_accuracy: 0.9790\n",
            "Epoch 18/50\n",
            "63/63 [==============================] - 22s 345ms/step - loss: 2.0671 - accuracy: 0.9790 - val_loss: 3.7320 - val_accuracy: 0.9790\n",
            "Epoch 19/50\n",
            "63/63 [==============================] - 22s 345ms/step - loss: 1.9357 - accuracy: 0.9810 - val_loss: 3.9765 - val_accuracy: 0.9740\n",
            "Epoch 20/50\n",
            "63/63 [==============================] - 22s 350ms/step - loss: 2.3145 - accuracy: 0.9805 - val_loss: 2.8314 - val_accuracy: 0.9770\n",
            "Epoch 21/50\n",
            "63/63 [==============================] - 22s 345ms/step - loss: 0.8476 - accuracy: 0.9870 - val_loss: 3.2644 - val_accuracy: 0.9760\n",
            "Epoch 22/50\n",
            "63/63 [==============================] - 22s 345ms/step - loss: 1.6919 - accuracy: 0.9830 - val_loss: 4.1583 - val_accuracy: 0.9780\n",
            "Epoch 23/50\n",
            "63/63 [==============================] - 22s 344ms/step - loss: 1.4707 - accuracy: 0.9815 - val_loss: 4.1715 - val_accuracy: 0.9750\n",
            "Epoch 24/50\n",
            "63/63 [==============================] - 22s 344ms/step - loss: 1.5224 - accuracy: 0.9820 - val_loss: 3.4040 - val_accuracy: 0.9770\n",
            "Epoch 25/50\n",
            "63/63 [==============================] - 22s 344ms/step - loss: 1.7713 - accuracy: 0.9820 - val_loss: 4.6694 - val_accuracy: 0.9780\n",
            "Epoch 26/50\n",
            "63/63 [==============================] - 22s 344ms/step - loss: 1.2762 - accuracy: 0.9880 - val_loss: 4.4195 - val_accuracy: 0.9750\n",
            "Epoch 27/50\n",
            "63/63 [==============================] - 22s 344ms/step - loss: 2.0675 - accuracy: 0.9800 - val_loss: 3.8075 - val_accuracy: 0.9810\n",
            "Epoch 28/50\n",
            "63/63 [==============================] - 22s 345ms/step - loss: 1.6089 - accuracy: 0.9840 - val_loss: 5.5406 - val_accuracy: 0.9720\n",
            "Epoch 29/50\n",
            "63/63 [==============================] - 22s 345ms/step - loss: 1.4867 - accuracy: 0.9860 - val_loss: 3.1131 - val_accuracy: 0.9800\n",
            "Epoch 30/50\n",
            "63/63 [==============================] - 22s 346ms/step - loss: 0.8758 - accuracy: 0.9855 - val_loss: 3.8206 - val_accuracy: 0.9820\n",
            "Epoch 31/50\n",
            "63/63 [==============================] - 22s 346ms/step - loss: 1.8028 - accuracy: 0.9840 - val_loss: 4.1704 - val_accuracy: 0.9810\n",
            "Epoch 32/50\n",
            "63/63 [==============================] - 22s 346ms/step - loss: 1.2897 - accuracy: 0.9890 - val_loss: 4.6646 - val_accuracy: 0.9800\n",
            "Epoch 33/50\n",
            "63/63 [==============================] - 22s 345ms/step - loss: 1.6192 - accuracy: 0.9810 - val_loss: 3.2452 - val_accuracy: 0.9820\n",
            "Epoch 34/50\n",
            "63/63 [==============================] - 22s 345ms/step - loss: 1.0881 - accuracy: 0.9875 - val_loss: 3.9496 - val_accuracy: 0.9750\n",
            "Epoch 35/50\n",
            "63/63 [==============================] - 22s 345ms/step - loss: 0.7744 - accuracy: 0.9905 - val_loss: 3.6920 - val_accuracy: 0.9770\n",
            "Epoch 36/50\n",
            "63/63 [==============================] - 22s 345ms/step - loss: 1.3709 - accuracy: 0.9890 - val_loss: 3.5356 - val_accuracy: 0.9810\n",
            "Epoch 37/50\n",
            "63/63 [==============================] - 22s 346ms/step - loss: 1.4163 - accuracy: 0.9880 - val_loss: 5.1147 - val_accuracy: 0.9780\n",
            "Epoch 38/50\n",
            "63/63 [==============================] - 22s 346ms/step - loss: 1.5076 - accuracy: 0.9865 - val_loss: 5.3570 - val_accuracy: 0.9790\n",
            "Epoch 39/50\n",
            "63/63 [==============================] - 22s 344ms/step - loss: 1.2348 - accuracy: 0.9860 - val_loss: 3.2034 - val_accuracy: 0.9830\n",
            "Epoch 40/50\n",
            "63/63 [==============================] - 22s 344ms/step - loss: 0.9862 - accuracy: 0.9885 - val_loss: 4.3969 - val_accuracy: 0.9770\n",
            "Epoch 41/50\n",
            "63/63 [==============================] - 22s 344ms/step - loss: 1.4497 - accuracy: 0.9875 - val_loss: 4.0063 - val_accuracy: 0.9840\n",
            "Epoch 42/50\n",
            "63/63 [==============================] - 22s 345ms/step - loss: 1.8036 - accuracy: 0.9825 - val_loss: 3.2824 - val_accuracy: 0.9810\n",
            "Epoch 43/50\n",
            "63/63 [==============================] - 22s 344ms/step - loss: 0.5945 - accuracy: 0.9905 - val_loss: 3.5202 - val_accuracy: 0.9760\n",
            "Epoch 44/50\n",
            "63/63 [==============================] - 22s 345ms/step - loss: 1.2231 - accuracy: 0.9870 - val_loss: 3.9786 - val_accuracy: 0.9800\n",
            "Epoch 45/50\n",
            "63/63 [==============================] - 22s 344ms/step - loss: 0.9510 - accuracy: 0.9870 - val_loss: 4.3079 - val_accuracy: 0.9800\n",
            "Epoch 46/50\n",
            "63/63 [==============================] - 22s 346ms/step - loss: 1.3782 - accuracy: 0.9845 - val_loss: 4.9733 - val_accuracy: 0.9750\n",
            "Epoch 47/50\n",
            "63/63 [==============================] - 22s 345ms/step - loss: 0.9239 - accuracy: 0.9905 - val_loss: 5.3680 - val_accuracy: 0.9760\n",
            "Epoch 48/50\n",
            "63/63 [==============================] - 22s 345ms/step - loss: 1.0997 - accuracy: 0.9875 - val_loss: 4.2030 - val_accuracy: 0.9770\n",
            "Epoch 49/50\n",
            "63/63 [==============================] - 22s 344ms/step - loss: 0.8628 - accuracy: 0.9890 - val_loss: 4.8881 - val_accuracy: 0.9760\n",
            "Epoch 50/50\n",
            "63/63 [==============================] - 22s 344ms/step - loss: 0.8213 - accuracy: 0.9875 - val_loss: 5.1152 - val_accuracy: 0.9770\n"
          ]
        }
      ]
    },
    {
      "cell_type": "code",
      "execution_count": 25,
      "metadata": {
        "id": "X7BEYvIT0a8V",
        "colab": {
          "base_uri": "https://localhost:8080/"
        },
        "outputId": "ac975270-dab2-42f1-be1e-3c0a80319d45"
      },
      "outputs": [
        {
          "output_type": "stream",
          "name": "stdout",
          "text": [
            "32/32 [==============================] - 8s 216ms/step - loss: 3.3631 - accuracy: 0.9730\n",
            "Test accuracy: 0.973\n"
          ]
        }
      ],
      "source": [
        "test_model = keras.models.load_model(\n",
        "    \"feature_extraction_with_data_augmentation.keras\")\n",
        "test_loss, test_acc = test_model.evaluate(test_dataset)\n",
        "print(f\"Test accuracy: {test_acc:.3f}\")"
      ]
    },
    {
      "cell_type": "markdown",
      "source": [
        "The accuracy on the test set is close to 97.5%, which is much better than the model trained from scratch."
      ],
      "metadata": {
        "id": "jY8JAKVDuaye"
      }
    },
    {
      "cell_type": "markdown",
      "source": [
        "#### Fine Tuning"
      ],
      "metadata": {
        "id": "-M-y7_sIu91b"
      }
    },
    {
      "cell_type": "code",
      "source": [
        "conv_base.trainable = True\n",
        "for layer in conv_base.layers[:-4]:\n",
        "    layer.trainable = False"
      ],
      "metadata": {
        "id": "0AED0aRLvA_M"
      },
      "execution_count": 26,
      "outputs": []
    },
    {
      "cell_type": "code",
      "source": [
        "model.compile(loss=\"binary_crossentropy\",\n",
        "              optimizer=keras.optimizers.RMSprop(learning_rate=1e-5),\n",
        "              metrics=[\"accuracy\"])\n",
        "\n",
        "callbacks = [\n",
        "    keras.callbacks.ModelCheckpoint(\n",
        "        filepath=\"fine_tuning.keras\",\n",
        "        save_best_only=True,\n",
        "        monitor=\"val_loss\")\n",
        "]\n",
        "history = model.fit(\n",
        "    train_dataset,\n",
        "    epochs=30,\n",
        "    validation_data=validation_dataset,\n",
        "    callbacks=callbacks)"
      ],
      "metadata": {
        "id": "k-ZWUBBRvaHI",
        "colab": {
          "base_uri": "https://localhost:8080/"
        },
        "outputId": "465d719c-a4e2-4825-dc41-f4d9ab62c733"
      },
      "execution_count": 27,
      "outputs": [
        {
          "output_type": "stream",
          "name": "stdout",
          "text": [
            "Epoch 1/30\n",
            "63/63 [==============================] - 26s 383ms/step - loss: 0.6987 - accuracy: 0.9930 - val_loss: 4.5614 - val_accuracy: 0.9780\n",
            "Epoch 2/30\n",
            "63/63 [==============================] - 24s 379ms/step - loss: 0.8586 - accuracy: 0.9895 - val_loss: 3.9634 - val_accuracy: 0.9810\n",
            "Epoch 3/30\n",
            "63/63 [==============================] - 24s 373ms/step - loss: 0.6386 - accuracy: 0.9915 - val_loss: 4.6233 - val_accuracy: 0.9820\n",
            "Epoch 4/30\n",
            "63/63 [==============================] - 24s 380ms/step - loss: 1.0260 - accuracy: 0.9880 - val_loss: 3.8693 - val_accuracy: 0.9800\n",
            "Epoch 5/30\n",
            "63/63 [==============================] - 24s 373ms/step - loss: 0.7464 - accuracy: 0.9915 - val_loss: 5.0549 - val_accuracy: 0.9770\n",
            "Epoch 6/30\n",
            "63/63 [==============================] - 24s 374ms/step - loss: 0.6146 - accuracy: 0.9915 - val_loss: 5.7505 - val_accuracy: 0.9770\n",
            "Epoch 7/30\n",
            "63/63 [==============================] - 24s 372ms/step - loss: 0.4947 - accuracy: 0.9915 - val_loss: 4.7588 - val_accuracy: 0.9810\n",
            "Epoch 8/30\n",
            "63/63 [==============================] - 24s 372ms/step - loss: 0.4300 - accuracy: 0.9935 - val_loss: 4.9170 - val_accuracy: 0.9800\n",
            "Epoch 9/30\n",
            "63/63 [==============================] - 24s 372ms/step - loss: 0.5114 - accuracy: 0.9930 - val_loss: 4.5011 - val_accuracy: 0.9770\n",
            "Epoch 10/30\n",
            "63/63 [==============================] - 24s 374ms/step - loss: 0.3195 - accuracy: 0.9930 - val_loss: 4.0779 - val_accuracy: 0.9820\n",
            "Epoch 11/30\n",
            "63/63 [==============================] - 24s 374ms/step - loss: 0.4261 - accuracy: 0.9950 - val_loss: 4.5269 - val_accuracy: 0.9790\n",
            "Epoch 12/30\n",
            "63/63 [==============================] - 24s 376ms/step - loss: 0.5318 - accuracy: 0.9930 - val_loss: 3.9855 - val_accuracy: 0.9790\n",
            "Epoch 13/30\n",
            "63/63 [==============================] - 24s 381ms/step - loss: 0.4056 - accuracy: 0.9945 - val_loss: 3.8111 - val_accuracy: 0.9790\n",
            "Epoch 14/30\n",
            "63/63 [==============================] - 24s 375ms/step - loss: 0.2447 - accuracy: 0.9965 - val_loss: 4.6213 - val_accuracy: 0.9720\n",
            "Epoch 15/30\n",
            "63/63 [==============================] - 24s 374ms/step - loss: 0.3920 - accuracy: 0.9930 - val_loss: 4.3497 - val_accuracy: 0.9790\n",
            "Epoch 16/30\n",
            "63/63 [==============================] - 24s 373ms/step - loss: 0.2722 - accuracy: 0.9965 - val_loss: 4.1068 - val_accuracy: 0.9790\n",
            "Epoch 17/30\n",
            "63/63 [==============================] - 24s 373ms/step - loss: 0.4792 - accuracy: 0.9935 - val_loss: 4.0149 - val_accuracy: 0.9800\n",
            "Epoch 18/30\n",
            "63/63 [==============================] - 24s 379ms/step - loss: 0.1344 - accuracy: 0.9965 - val_loss: 3.4757 - val_accuracy: 0.9800\n",
            "Epoch 19/30\n",
            "63/63 [==============================] - 24s 379ms/step - loss: 0.2446 - accuracy: 0.9960 - val_loss: 3.4701 - val_accuracy: 0.9830\n",
            "Epoch 20/30\n",
            "63/63 [==============================] - 24s 375ms/step - loss: 0.4477 - accuracy: 0.9940 - val_loss: 3.6590 - val_accuracy: 0.9840\n",
            "Epoch 21/30\n",
            "63/63 [==============================] - 24s 380ms/step - loss: 0.2389 - accuracy: 0.9965 - val_loss: 2.8054 - val_accuracy: 0.9850\n",
            "Epoch 22/30\n",
            "63/63 [==============================] - 24s 374ms/step - loss: 0.4308 - accuracy: 0.9950 - val_loss: 4.2633 - val_accuracy: 0.9780\n",
            "Epoch 23/30\n",
            "63/63 [==============================] - 24s 373ms/step - loss: 0.2451 - accuracy: 0.9940 - val_loss: 3.9629 - val_accuracy: 0.9790\n",
            "Epoch 24/30\n",
            "63/63 [==============================] - 24s 373ms/step - loss: 0.2000 - accuracy: 0.9970 - val_loss: 3.3241 - val_accuracy: 0.9840\n",
            "Epoch 25/30\n",
            "63/63 [==============================] - 24s 373ms/step - loss: 0.2925 - accuracy: 0.9970 - val_loss: 5.1900 - val_accuracy: 0.9780\n",
            "Epoch 26/30\n",
            "63/63 [==============================] - 24s 373ms/step - loss: 0.4596 - accuracy: 0.9935 - val_loss: 4.0886 - val_accuracy: 0.9830\n",
            "Epoch 27/30\n",
            "63/63 [==============================] - 24s 373ms/step - loss: 0.2243 - accuracy: 0.9980 - val_loss: 3.3069 - val_accuracy: 0.9800\n",
            "Epoch 28/30\n",
            "63/63 [==============================] - 24s 373ms/step - loss: 0.0871 - accuracy: 0.9965 - val_loss: 3.4137 - val_accuracy: 0.9830\n",
            "Epoch 29/30\n",
            "63/63 [==============================] - 24s 374ms/step - loss: 0.3377 - accuracy: 0.9965 - val_loss: 3.1313 - val_accuracy: 0.9810\n",
            "Epoch 30/30\n",
            "63/63 [==============================] - 24s 374ms/step - loss: 0.3553 - accuracy: 0.9955 - val_loss: 3.7281 - val_accuracy: 0.9810\n"
          ]
        }
      ]
    },
    {
      "cell_type": "code",
      "source": [
        "model = keras.models.load_model(\"fine_tuning.keras\")\n",
        "test_loss, test_acc = model.evaluate(test_dataset)\n",
        "print(f\"Test accuracy: {test_acc:.3f}\")"
      ],
      "metadata": {
        "id": "ImmyXOgOvdtz",
        "colab": {
          "base_uri": "https://localhost:8080/"
        },
        "outputId": "1b8e3df9-fd4e-46ff-d2d2-7654dcc2c5b6"
      },
      "execution_count": 28,
      "outputs": [
        {
          "output_type": "stream",
          "name": "stdout",
          "text": [
            "32/32 [==============================] - 8s 216ms/step - loss: 3.3909 - accuracy: 0.9760\n",
            "Test accuracy: 0.976\n"
          ]
        }
      ]
    },
    {
      "cell_type": "markdown",
      "source": [
        "## Summary"
      ],
      "metadata": {
        "id": "bePL49cZw478"
      }
    },
    {
      "cell_type": "markdown",
      "source": [
        "With these two different ways of building few-shot models, I found that Convolutional Neural Networks have a strong ability to learn or fit. When the training sample size is small, the more complex the model, the easier it is to overfit. Increasing the training sample size (data augmentation) can effectively reduce overfitting. If the accuracy of the validation set and test set cannot be effectively improved after increasing the effective sample size of the small sample training set, we may use other models trained with large samples and make slight improvements under this model to reduce overfitting and improve prediction accuracy."
      ],
      "metadata": {
        "id": "Ppoxj2fVw8o3"
      }
    },
    {
      "cell_type": "markdown",
      "source": [
        "# Idea of Final Project"
      ],
      "metadata": {
        "id": "k_aT4dM5wyhG"
      }
    },
    {
      "cell_type": "markdown",
      "source": [
        "At first, I still wanted to use a time series model for stock or index forecasting. If the results are not ideal, I will choose fraud detection as the content of my final project."
      ],
      "metadata": {
        "id": "bqN0nC2Uw2Y-"
      }
    }
  ]
}