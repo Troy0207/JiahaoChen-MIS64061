{
  "cells": [
    {
      "cell_type": "markdown",
      "metadata": {
        "id": "view-in-github",
        "colab_type": "text"
      },
      "source": [
        "<a href=\"https://colab.research.google.com/github/Troy0207/JiahaoChen-MIS64061/blob/main/Assignment_1.ipynb\" target=\"_parent\"><img src=\"https://colab.research.google.com/assets/colab-badge.svg\" alt=\"Open In Colab\"/></a>"
      ]
    },
    {
      "cell_type": "code",
      "execution_count": 1,
      "metadata": {
        "colab": {
          "base_uri": "https://localhost:8080/",
          "height": 35
        },
        "id": "IxA5rsKh_-Sd",
        "outputId": "a089b1c0-9602-499b-d1f9-cee573138ebd"
      },
      "outputs": [
        {
          "output_type": "execute_result",
          "data": {
            "application/vnd.google.colaboratory.intrinsic+json": {
              "type": "string"
            },
            "text/plain": [
              "'2.8.0'"
            ]
          },
          "metadata": {},
          "execution_count": 1
        }
      ],
      "source": [
        "import keras\n",
        "keras.__version__"
      ]
    },
    {
      "cell_type": "markdown",
      "metadata": {
        "id": "uS27s6XbESUQ"
      },
      "source": [
        "# IMDB Dataset"
      ]
    },
    {
      "cell_type": "code",
      "execution_count": 2,
      "metadata": {
        "id": "iShYlx3SFKHs",
        "colab": {
          "base_uri": "https://localhost:8080/"
        },
        "outputId": "7e5f36f6-84e7-428c-cf4c-f26512332d9a"
      },
      "outputs": [
        {
          "output_type": "stream",
          "name": "stdout",
          "text": [
            "Downloading data from https://storage.googleapis.com/tensorflow/tf-keras-datasets/imdb.npz\n",
            "17465344/17464789 [==============================] - 0s 0us/step\n",
            "17473536/17464789 [==============================] - 0s 0us/step\n"
          ]
        }
      ],
      "source": [
        "from keras.datasets import imdb\n",
        "\n",
        "(train_data, train_labels), (test_data, test_labels) = imdb.load_data(num_words=10000)"
      ]
    },
    {
      "cell_type": "markdown",
      "metadata": {
        "id": "NsHdKppkFc96"
      },
      "source": [
        "We will use the 10,000 most frequently occurring words in the training data. Rare words will be discarded. This allows us to work with vector data of manageable size."
      ]
    },
    {
      "cell_type": "code",
      "execution_count": 3,
      "metadata": {
        "colab": {
          "base_uri": "https://localhost:8080/"
        },
        "id": "5Q9CuvqDFzNy",
        "outputId": "2e4563e3-4d82-4050-f52e-456a3722d775"
      },
      "outputs": [
        {
          "output_type": "execute_result",
          "data": {
            "text/plain": [
              "[1,\n",
              " 14,\n",
              " 22,\n",
              " 16,\n",
              " 43,\n",
              " 530,\n",
              " 973,\n",
              " 1622,\n",
              " 1385,\n",
              " 65,\n",
              " 458,\n",
              " 4468,\n",
              " 66,\n",
              " 3941,\n",
              " 4,\n",
              " 173,\n",
              " 36,\n",
              " 256,\n",
              " 5,\n",
              " 25,\n",
              " 100,\n",
              " 43,\n",
              " 838,\n",
              " 112,\n",
              " 50,\n",
              " 670,\n",
              " 2,\n",
              " 9,\n",
              " 35,\n",
              " 480,\n",
              " 284,\n",
              " 5,\n",
              " 150,\n",
              " 4,\n",
              " 172,\n",
              " 112,\n",
              " 167,\n",
              " 2,\n",
              " 336,\n",
              " 385,\n",
              " 39,\n",
              " 4,\n",
              " 172,\n",
              " 4536,\n",
              " 1111,\n",
              " 17,\n",
              " 546,\n",
              " 38,\n",
              " 13,\n",
              " 447,\n",
              " 4,\n",
              " 192,\n",
              " 50,\n",
              " 16,\n",
              " 6,\n",
              " 147,\n",
              " 2025,\n",
              " 19,\n",
              " 14,\n",
              " 22,\n",
              " 4,\n",
              " 1920,\n",
              " 4613,\n",
              " 469,\n",
              " 4,\n",
              " 22,\n",
              " 71,\n",
              " 87,\n",
              " 12,\n",
              " 16,\n",
              " 43,\n",
              " 530,\n",
              " 38,\n",
              " 76,\n",
              " 15,\n",
              " 13,\n",
              " 1247,\n",
              " 4,\n",
              " 22,\n",
              " 17,\n",
              " 515,\n",
              " 17,\n",
              " 12,\n",
              " 16,\n",
              " 626,\n",
              " 18,\n",
              " 2,\n",
              " 5,\n",
              " 62,\n",
              " 386,\n",
              " 12,\n",
              " 8,\n",
              " 316,\n",
              " 8,\n",
              " 106,\n",
              " 5,\n",
              " 4,\n",
              " 2223,\n",
              " 5244,\n",
              " 16,\n",
              " 480,\n",
              " 66,\n",
              " 3785,\n",
              " 33,\n",
              " 4,\n",
              " 130,\n",
              " 12,\n",
              " 16,\n",
              " 38,\n",
              " 619,\n",
              " 5,\n",
              " 25,\n",
              " 124,\n",
              " 51,\n",
              " 36,\n",
              " 135,\n",
              " 48,\n",
              " 25,\n",
              " 1415,\n",
              " 33,\n",
              " 6,\n",
              " 22,\n",
              " 12,\n",
              " 215,\n",
              " 28,\n",
              " 77,\n",
              " 52,\n",
              " 5,\n",
              " 14,\n",
              " 407,\n",
              " 16,\n",
              " 82,\n",
              " 2,\n",
              " 8,\n",
              " 4,\n",
              " 107,\n",
              " 117,\n",
              " 5952,\n",
              " 15,\n",
              " 256,\n",
              " 4,\n",
              " 2,\n",
              " 7,\n",
              " 3766,\n",
              " 5,\n",
              " 723,\n",
              " 36,\n",
              " 71,\n",
              " 43,\n",
              " 530,\n",
              " 476,\n",
              " 26,\n",
              " 400,\n",
              " 317,\n",
              " 46,\n",
              " 7,\n",
              " 4,\n",
              " 2,\n",
              " 1029,\n",
              " 13,\n",
              " 104,\n",
              " 88,\n",
              " 4,\n",
              " 381,\n",
              " 15,\n",
              " 297,\n",
              " 98,\n",
              " 32,\n",
              " 2071,\n",
              " 56,\n",
              " 26,\n",
              " 141,\n",
              " 6,\n",
              " 194,\n",
              " 7486,\n",
              " 18,\n",
              " 4,\n",
              " 226,\n",
              " 22,\n",
              " 21,\n",
              " 134,\n",
              " 476,\n",
              " 26,\n",
              " 480,\n",
              " 5,\n",
              " 144,\n",
              " 30,\n",
              " 5535,\n",
              " 18,\n",
              " 51,\n",
              " 36,\n",
              " 28,\n",
              " 224,\n",
              " 92,\n",
              " 25,\n",
              " 104,\n",
              " 4,\n",
              " 226,\n",
              " 65,\n",
              " 16,\n",
              " 38,\n",
              " 1334,\n",
              " 88,\n",
              " 12,\n",
              " 16,\n",
              " 283,\n",
              " 5,\n",
              " 16,\n",
              " 4472,\n",
              " 113,\n",
              " 103,\n",
              " 32,\n",
              " 15,\n",
              " 16,\n",
              " 5345,\n",
              " 19,\n",
              " 178,\n",
              " 32]"
            ]
          },
          "metadata": {},
          "execution_count": 3
        }
      ],
      "source": [
        "train_data[0]"
      ]
    },
    {
      "cell_type": "code",
      "execution_count": 4,
      "metadata": {
        "colab": {
          "base_uri": "https://localhost:8080/"
        },
        "id": "cPzW-bqDGarb",
        "outputId": "b3e26aca-83ef-4cec-b581-43d280f44490"
      },
      "outputs": [
        {
          "output_type": "execute_result",
          "data": {
            "text/plain": [
              "1"
            ]
          },
          "metadata": {},
          "execution_count": 4
        }
      ],
      "source": [
        "train_labels[0]"
      ]
    },
    {
      "cell_type": "code",
      "execution_count": 5,
      "metadata": {
        "colab": {
          "base_uri": "https://localhost:8080/"
        },
        "id": "jjZhfrGdGr8c",
        "outputId": "5c82a56d-10fb-4008-9842-0f17fa4c6db9"
      },
      "outputs": [
        {
          "output_type": "execute_result",
          "data": {
            "text/plain": [
              "9999"
            ]
          },
          "metadata": {},
          "execution_count": 5
        }
      ],
      "source": [
        "max([max(sequence) for sequence in train_data])"
      ]
    },
    {
      "cell_type": "markdown",
      "metadata": {
        "id": "MWvktoJeG4y5"
      },
      "source": [
        "# Preparing the data"
      ]
    },
    {
      "cell_type": "markdown",
      "metadata": {
        "id": "bUnhAtHyHFiv"
      },
      "source": [
        "Vectorize our data (one-hot-encode)"
      ]
    },
    {
      "cell_type": "code",
      "execution_count": 6,
      "metadata": {
        "colab": {
          "base_uri": "https://localhost:8080/"
        },
        "id": "ALFtIfMbG8Zm",
        "outputId": "76593597-c0ca-4855-849a-08864dc8301f"
      },
      "outputs": [
        {
          "output_type": "execute_result",
          "data": {
            "text/plain": [
              "array([0., 1., 1., ..., 0., 0., 0.])"
            ]
          },
          "metadata": {},
          "execution_count": 6
        }
      ],
      "source": [
        "import numpy as np\n",
        "\n",
        "def vectorize_sequences(sequences, dimension=10000):\n",
        "    # Create an all-zero matrix of shape (len(sequences), dimension)\n",
        "    results = np.zeros((len(sequences), dimension))\n",
        "    for i, sequence in enumerate(sequences):\n",
        "        results[i, sequence] = 1.  # set specific indices of results[i] to 1s\n",
        "    return results\n",
        "\n",
        "# Our vectorized training data\n",
        "x_train = vectorize_sequences(train_data)\n",
        "# Our vectorized test data\n",
        "x_test = vectorize_sequences(test_data)\n",
        "x_train[0]"
      ]
    },
    {
      "cell_type": "markdown",
      "metadata": {
        "id": "13NNYH-xI7CK"
      },
      "source": [
        "Vectorize our labels"
      ]
    },
    {
      "cell_type": "code",
      "execution_count": 7,
      "metadata": {
        "id": "F5SRWpXXJD6I"
      },
      "outputs": [],
      "source": [
        "# Our vectorized labels\n",
        "y_train = np.asarray(train_labels).astype('float32')\n",
        "y_test = np.asarray(test_labels).astype('float32')"
      ]
    },
    {
      "cell_type": "markdown",
      "metadata": {
        "id": "rvTRrBlFyJ3H"
      },
      "source": [
        "# Original Model"
      ]
    },
    {
      "cell_type": "code",
      "execution_count": null,
      "metadata": {
        "colab": {
          "base_uri": "https://localhost:8080/"
        },
        "id": "TeX-hfnbyP2H",
        "outputId": "26253257-ee36-4484-8c61-1c0eb88f56ef"
      },
      "outputs": [
        {
          "output_type": "stream",
          "name": "stdout",
          "text": [
            "Epoch 1/10\n",
            "30/30 [==============================] - 2s 48ms/step - loss: 0.5418 - accuracy: 0.7881 - val_loss: 0.4268 - val_accuracy: 0.8554\n",
            "Epoch 2/10\n",
            "30/30 [==============================] - 1s 35ms/step - loss: 0.3374 - accuracy: 0.9015 - val_loss: 0.3211 - val_accuracy: 0.8867\n",
            "Epoch 3/10\n",
            "30/30 [==============================] - 1s 35ms/step - loss: 0.2473 - accuracy: 0.9209 - val_loss: 0.2954 - val_accuracy: 0.8854\n",
            "Epoch 4/10\n",
            "30/30 [==============================] - 1s 39ms/step - loss: 0.1928 - accuracy: 0.9399 - val_loss: 0.2776 - val_accuracy: 0.8882\n",
            "Epoch 5/10\n",
            "30/30 [==============================] - 1s 36ms/step - loss: 0.1567 - accuracy: 0.9491 - val_loss: 0.2738 - val_accuracy: 0.8912\n",
            "Epoch 6/10\n",
            "30/30 [==============================] - 1s 36ms/step - loss: 0.1271 - accuracy: 0.9613 - val_loss: 0.3016 - val_accuracy: 0.8840\n",
            "Epoch 7/10\n",
            "30/30 [==============================] - 1s 35ms/step - loss: 0.1048 - accuracy: 0.9693 - val_loss: 0.3002 - val_accuracy: 0.8859\n",
            "Epoch 8/10\n",
            "30/30 [==============================] - 1s 35ms/step - loss: 0.0871 - accuracy: 0.9751 - val_loss: 0.3353 - val_accuracy: 0.8782\n",
            "Epoch 9/10\n",
            "30/30 [==============================] - 1s 35ms/step - loss: 0.0708 - accuracy: 0.9800 - val_loss: 0.3396 - val_accuracy: 0.8827\n",
            "Epoch 10/10\n",
            "30/30 [==============================] - 1s 35ms/step - loss: 0.0558 - accuracy: 0.9870 - val_loss: 0.3723 - val_accuracy: 0.8805\n"
          ]
        }
      ],
      "source": [
        "from keras import models\n",
        "from keras import layers\n",
        "\n",
        "model = models.Sequential()\n",
        "model.add(layers.Dense(16, activation='relu', input_shape=(10000,)))\n",
        "model.add(layers.Dense(16, activation='relu'))\n",
        "model.add(layers.Dense(1, activation='sigmoid'))\n",
        "model.compile(optimizer='rmsprop',\n",
        "              loss='binary_crossentropy',\n",
        "              metrics=['accuracy'])\n",
        "x_val = x_train[:10000]\n",
        "partial_x_train = x_train[10000:]\n",
        "\n",
        "y_val = y_train[:10000]\n",
        "partial_y_train = y_train[10000:]\n",
        "history = model.fit(partial_x_train,\n",
        "                    partial_y_train,\n",
        "                    epochs=10,\n",
        "                    batch_size=512,\n",
        "                    validation_data=(x_val, y_val))"
      ]
    },
    {
      "cell_type": "code",
      "execution_count": null,
      "metadata": {
        "colab": {
          "base_uri": "https://localhost:8080/",
          "height": 295
        },
        "id": "vKjmmRzu2f8T",
        "outputId": "18a50289-8f04-4cda-e59a-2aeb63eb5663"
      },
      "outputs": [
        {
          "output_type": "display_data",
          "data": {
            "image/png": "[encoded data removed]",
            "text/plain": [
              "<Figure size 432x288 with 1 Axes>"
            ]
          },
          "metadata": {
            "needs_background": "light"
          }
        }
      ],
      "source": [
        "import matplotlib.pyplot as plt\n",
        "\n",
        "loss = history.history['loss']\n",
        "val_loss = history.history['val_loss']\n",
        "\n",
        "epochs = range(1, len(loss) + 1)\n",
        "\n",
        "# \"bo\" is for \"blue dot\"\n",
        "plt.plot(epochs, loss, 'bo', label='Training loss')\n",
        "# b is for \"solid blue line\"\n",
        "plt.plot(epochs, val_loss, 'b', label='Validation loss')\n",
        "plt.title('Training and validation loss')\n",
        "plt.xlabel('Epochs')\n",
        "plt.ylabel('Loss')\n",
        "plt.legend()\n",
        "\n",
        "plt.show()"
      ]
    },
    {
      "cell_type": "code",
      "execution_count": null,
      "metadata": {
        "colab": {
          "base_uri": "https://localhost:8080/"
        },
        "id": "kCDmZTYe2tvh",
        "outputId": "46c9fb9b-44ba-4bce-b003-37a116e475c1"
      },
      "outputs": [
        {
          "output_type": "stream",
          "name": "stdout",
          "text": [
            "Epoch 1/3\n",
            "49/49 [==============================] - 2s 27ms/step - loss: 0.4436 - accuracy: 0.8180\n",
            "Epoch 2/3\n",
            "49/49 [==============================] - 1s 28ms/step - loss: 0.2571 - accuracy: 0.9108\n",
            "Epoch 3/3\n",
            "49/49 [==============================] - 1s 27ms/step - loss: 0.2011 - accuracy: 0.9283\n",
            "782/782 [==============================] - 2s 2ms/step - loss: 0.2826 - accuracy: 0.8871\n"
          ]
        },
        {
          "output_type": "execute_result",
          "data": {
            "text/plain": [
              "[0.28261563181877136, 0.8871200084686279]"
            ]
          },
          "metadata": {},
          "execution_count": 10
        }
      ],
      "source": [
        "model = models.Sequential()\n",
        "model.add(layers.Dense(16, activation='relu', input_shape=(10000,)))\n",
        "model.add(layers.Dense(16, activation='relu'))\n",
        "model.add(layers.Dense(1, activation='sigmoid'))\n",
        "\n",
        "model.compile(optimizer='rmsprop',\n",
        "              loss='binary_crossentropy',\n",
        "              metrics=['accuracy'])\n",
        "\n",
        "model.fit(x_train, y_train, epochs=3, batch_size=512)\n",
        "results = model.evaluate(x_test, y_test)\n",
        "results"
      ]
    },
    {
      "cell_type": "markdown",
      "metadata": {
        "id": "M8WjXeAtJWHU"
      },
      "source": [
        "# 1) Building three hidden layers"
      ]
    },
    {
      "cell_type": "code",
      "execution_count": null,
      "metadata": {
        "id": "2o1J7VsjLKWb"
      },
      "outputs": [],
      "source": [
        "\n",
        "\n",
        "model = models.Sequential()\n",
        "model.add(layers.Dense(16, activation='relu', input_shape=(10000,)))\n",
        "model.add(layers.Dense(16, activation='relu'))\n",
        "model.add(layers.Dense(16, activation='relu'))\n",
        "model.add(layers.Dense(1, activation='sigmoid'))"
      ]
    },
    {
      "cell_type": "markdown",
      "metadata": {
        "id": "nTXSUqIYL3Oj"
      },
      "source": [
        "Picking a loss function and an optimizer"
      ]
    },
    {
      "cell_type": "code",
      "execution_count": null,
      "metadata": {
        "id": "tZHGFEpTMAkk"
      },
      "outputs": [],
      "source": [
        "model.compile(optimizer='rmsprop',\n",
        "              loss='binary_crossentropy',\n",
        "              metrics=['accuracy'])"
      ]
    },
    {
      "cell_type": "code",
      "execution_count": null,
      "metadata": {
        "colab": {
          "base_uri": "https://localhost:8080/"
        },
        "id": "kBtlDsdMNwY4",
        "outputId": "a48f5696-3aa0-4cd9-8a04-3c4f97747e7f"
      },
      "outputs": [
        {
          "output_type": "stream",
          "name": "stdout",
          "text": [
            "Epoch 1/10\n",
            "30/30 [==============================] - 3s 60ms/step - loss: 0.5749 - accuracy: 0.7441 - val_loss: 0.4639 - val_accuracy: 0.8159\n",
            "Epoch 2/10\n",
            "30/30 [==============================] - 1s 44ms/step - loss: 0.3550 - accuracy: 0.8929 - val_loss: 0.3361 - val_accuracy: 0.8759\n",
            "Epoch 3/10\n",
            "30/30 [==============================] - 1s 45ms/step - loss: 0.2456 - accuracy: 0.9237 - val_loss: 0.3003 - val_accuracy: 0.8810\n",
            "Epoch 4/10\n",
            "30/30 [==============================] - 1s 45ms/step - loss: 0.1889 - accuracy: 0.9392 - val_loss: 0.2833 - val_accuracy: 0.8873\n",
            "Epoch 5/10\n",
            "30/30 [==============================] - 1s 44ms/step - loss: 0.1522 - accuracy: 0.9493 - val_loss: 0.3048 - val_accuracy: 0.8811\n",
            "Epoch 6/10\n",
            "30/30 [==============================] - 1s 44ms/step - loss: 0.1222 - accuracy: 0.9605 - val_loss: 0.3101 - val_accuracy: 0.8806\n",
            "Epoch 7/10\n",
            "30/30 [==============================] - 1s 44ms/step - loss: 0.0964 - accuracy: 0.9706 - val_loss: 0.4110 - val_accuracy: 0.8606\n",
            "Epoch 8/10\n",
            "30/30 [==============================] - 2s 60ms/step - loss: 0.0799 - accuracy: 0.9757 - val_loss: 0.3904 - val_accuracy: 0.8716\n",
            "Epoch 9/10\n",
            "30/30 [==============================] - 1s 44ms/step - loss: 0.0606 - accuracy: 0.9829 - val_loss: 0.3626 - val_accuracy: 0.8810\n",
            "Epoch 10/10\n",
            "30/30 [==============================] - 1s 44ms/step - loss: 0.0516 - accuracy: 0.9865 - val_loss: 0.3908 - val_accuracy: 0.8777\n"
          ]
        }
      ],
      "source": [
        "history1 = model.fit(partial_x_train,\n",
        "                    partial_y_train,\n",
        "                    epochs=10,\n",
        "                    batch_size=512,\n",
        "                    validation_data=(x_val, y_val))"
      ]
    },
    {
      "cell_type": "code",
      "execution_count": null,
      "metadata": {
        "colab": {
          "base_uri": "https://localhost:8080/"
        },
        "id": "6u_gaNpKQnCS",
        "outputId": "6a0682ea-ad7f-4292-e64e-7a9ddb8dcebb"
      },
      "outputs": [
        {
          "output_type": "execute_result",
          "data": {
            "text/plain": [
              "dict_keys(['loss', 'accuracy', 'val_loss', 'val_accuracy'])"
            ]
          },
          "metadata": {},
          "execution_count": 10
        }
      ],
      "source": [
        "history_dict1 = history1.history\n",
        "history_dict1.keys()"
      ]
    },
    {
      "cell_type": "code",
      "execution_count": null,
      "metadata": {
        "colab": {
          "base_uri": "https://localhost:8080/",
          "height": 295
        },
        "id": "_Ova2pxBQpEM",
        "outputId": "e0c9f8db-aaad-4f72-d330-0eab55ce91a3"
      },
      "outputs": [
        {
          "output_type": "display_data",
          "data": {
            "image/png": "[encoded data removed]",
            "text/plain": [
              "<Figure size 432x288 with 1 Axes>"
            ]
          },
          "metadata": {
            "needs_background": "light"
          }
        }
      ],
      "source": [
        "import matplotlib.pyplot as plt\n",
        "\n",
        "acc = history1.history['accuracy']\n",
        "val_acc = history1.history['val_accuracy']\n",
        "loss = history1.history['loss']\n",
        "val_loss = history1.history['val_loss']\n",
        "\n",
        "epochs = range(1, len(acc) + 1)\n",
        "\n",
        "# \"bo\" is for \"blue dot\"\n",
        "plt.plot(epochs, loss, 'bo', label='Training loss')\n",
        "# b is for \"solid blue line\"\n",
        "plt.plot(epochs, val_loss, 'b', label='Validation loss')\n",
        "plt.title('Training and validation loss')\n",
        "plt.xlabel('Epochs')\n",
        "plt.ylabel('Loss')\n",
        "plt.legend()\n",
        "\n",
        "plt.show()"
      ]
    },
    {
      "cell_type": "code",
      "execution_count": null,
      "metadata": {
        "colab": {
          "base_uri": "https://localhost:8080/",
          "height": 295
        },
        "id": "fShcl6MRQ2uy",
        "outputId": "2cfc0140-3ce1-40e7-a173-df8b644c202e"
      },
      "outputs": [
        {
          "output_type": "display_data",
          "data": {
            "image/png": "[encoded data removed]",
            "text/plain": [
              "<Figure size 432x288 with 1 Axes>"
            ]
          },
          "metadata": {
            "needs_background": "light"
          }
        }
      ],
      "source": [
        "\n",
        "val_loss = history.history['val_loss']\n",
        "val_loss1 = history1.history['val_loss']\n",
        "\n",
        "epochs = range(1, len(acc) + 1)\n",
        "\n",
        "# \"bo\" is for \"blue dot\"\n",
        "plt.plot(epochs, val_loss, 'bo', label='Oringnal loss')\n",
        "# b is for \"solid blue line\"\n",
        "plt.plot(epochs, val_loss1, 'b', label='New loss')\n",
        "plt.title('The Comparsion of validation loss')\n",
        "plt.xlabel('Epochs')\n",
        "plt.ylabel('Loss')\n",
        "plt.legend()\n",
        "\n",
        "plt.show()"
      ]
    },
    {
      "cell_type": "markdown",
      "metadata": {
        "id": "B-TU3OfEQ6dM"
      },
      "source": [
        "Based on the first graph, we can know that Epochs equal to 4 may be better to this model. Next to retrain the model to avoid overfitting.\n",
        "\n",
        "Based on the second graph, change of layers is little effect on model performance on validation set. But more layers may cause overfitting faster."
      ]
    },
    {
      "cell_type": "code",
      "execution_count": null,
      "metadata": {
        "colab": {
          "base_uri": "https://localhost:8080/"
        },
        "id": "J4vDMUu4RwJk",
        "outputId": "fd27b40f-69da-41ce-87c2-40e896a4d699"
      },
      "outputs": [
        {
          "output_type": "stream",
          "name": "stdout",
          "text": [
            "Epoch 1/4\n",
            "49/49 [==============================] - 4s 36ms/step - loss: 0.4752 - accuracy: 0.8122\n",
            "Epoch 2/4\n",
            "49/49 [==============================] - 2s 35ms/step - loss: 0.2612 - accuracy: 0.9074\n",
            "Epoch 3/4\n",
            "49/49 [==============================] - 2s 35ms/step - loss: 0.1990 - accuracy: 0.9278\n",
            "Epoch 4/4\n",
            "49/49 [==============================] - 2s 35ms/step - loss: 0.1672 - accuracy: 0.9401\n",
            "782/782 [==============================] - 2s 3ms/step - loss: 0.3020 - accuracy: 0.8816\n"
          ]
        }
      ],
      "source": [
        "model = models.Sequential()\n",
        "model.add(layers.Dense(16, activation='relu', input_shape=(10000,)))\n",
        "model.add(layers.Dense(16, activation='relu'))\n",
        "model.add(layers.Dense(16, activation='relu'))\n",
        "model.add(layers.Dense(1, activation='sigmoid'))\n",
        "\n",
        "model.compile(optimizer='rmsprop',\n",
        "              loss='binary_crossentropy',\n",
        "              metrics=['accuracy'])\n",
        "\n",
        "model.fit(x_train, y_train, epochs=4, batch_size=512)\n",
        "results = model.evaluate(x_test, y_test)"
      ]
    },
    {
      "cell_type": "code",
      "execution_count": null,
      "metadata": {
        "colab": {
          "base_uri": "https://localhost:8080/"
        },
        "id": "yZ2AcjOLSlDb",
        "outputId": "a4600eaa-27cd-4bfa-d404-8149cb717fd7"
      },
      "outputs": [
        {
          "output_type": "execute_result",
          "data": {
            "text/plain": [
              "[0.3020183742046356, 0.8816400170326233]"
            ]
          },
          "metadata": {},
          "execution_count": 19
        }
      ],
      "source": [
        "results"
      ]
    },
    {
      "cell_type": "markdown",
      "metadata": {
        "id": "5aCUEj2RTTA9"
      },
      "source": [
        "The accuarcy is 88.1% It might be lower than 2 layers. "
      ]
    },
    {
      "cell_type": "markdown",
      "metadata": {
        "id": "NwegKH57VFT8"
      },
      "source": [
        "# 2) Using 32 hidden units and 2 layers"
      ]
    },
    {
      "cell_type": "code",
      "execution_count": null,
      "metadata": {
        "colab": {
          "base_uri": "https://localhost:8080/"
        },
        "id": "YnuGsIqaVyDD",
        "outputId": "15e1f965-c695-44bd-f671-52f4ad45bffc"
      },
      "outputs": [
        {
          "output_type": "stream",
          "name": "stdout",
          "text": [
            "Epoch 1/10\n",
            "30/30 [==============================] - 4s 98ms/step - loss: 0.4980 - accuracy: 0.7750 - val_loss: 0.3565 - val_accuracy: 0.8693\n",
            "Epoch 2/10\n",
            "30/30 [==============================] - 2s 51ms/step - loss: 0.2746 - accuracy: 0.9071 - val_loss: 0.2916 - val_accuracy: 0.8872\n",
            "Epoch 3/10\n",
            "30/30 [==============================] - 2s 52ms/step - loss: 0.2013 - accuracy: 0.9283 - val_loss: 0.2750 - val_accuracy: 0.8915\n",
            "Epoch 4/10\n",
            "30/30 [==============================] - 2s 52ms/step - loss: 0.1542 - accuracy: 0.9479 - val_loss: 0.3135 - val_accuracy: 0.8804\n",
            "Epoch 5/10\n",
            "30/30 [==============================] - 2s 52ms/step - loss: 0.1208 - accuracy: 0.9596 - val_loss: 0.3258 - val_accuracy: 0.8738\n",
            "Epoch 6/10\n",
            "30/30 [==============================] - 2s 52ms/step - loss: 0.0910 - accuracy: 0.9729 - val_loss: 0.3408 - val_accuracy: 0.8824\n",
            "Epoch 7/10\n",
            "30/30 [==============================] - 2s 52ms/step - loss: 0.0751 - accuracy: 0.9765 - val_loss: 0.3658 - val_accuracy: 0.8791\n",
            "Epoch 8/10\n",
            "30/30 [==============================] - 2s 52ms/step - loss: 0.0580 - accuracy: 0.9818 - val_loss: 0.3892 - val_accuracy: 0.8783\n",
            "Epoch 9/10\n",
            "30/30 [==============================] - 2s 52ms/step - loss: 0.0429 - accuracy: 0.9889 - val_loss: 0.4097 - val_accuracy: 0.8777\n",
            "Epoch 10/10\n",
            "30/30 [==============================] - 2s 52ms/step - loss: 0.0315 - accuracy: 0.9929 - val_loss: 0.4548 - val_accuracy: 0.8708\n"
          ]
        },
        {
          "output_type": "execute_result",
          "data": {
            "text/plain": [
              "dict_keys(['loss', 'accuracy', 'val_loss', 'val_accuracy'])"
            ]
          },
          "metadata": {},
          "execution_count": 20
        }
      ],
      "source": [
        "\n",
        "\n",
        "model = models.Sequential()\n",
        "model.add(layers.Dense(32, activation='relu', input_shape=(10000,)))\n",
        "model.add(layers.Dense(32, activation='relu'))\n",
        "model.add(layers.Dense(1, activation='sigmoid'))\n",
        "model.compile(optimizer='rmsprop',\n",
        "              loss='binary_crossentropy',\n",
        "              metrics=['accuracy'])\n",
        "x_val = x_train[:10000]\n",
        "partial_x_train = x_train[10000:]\n",
        "\n",
        "y_val = y_train[:10000]\n",
        "partial_y_train = y_train[10000:]\n",
        "history2 = model.fit(partial_x_train,\n",
        "                    partial_y_train,\n",
        "                    epochs=10,\n",
        "                    batch_size=512,\n",
        "                    validation_data=(x_val, y_val))\n",
        "history2_dict = history2.history\n",
        "history2_dict.keys()\n"
      ]
    },
    {
      "cell_type": "code",
      "execution_count": null,
      "metadata": {
        "colab": {
          "base_uri": "https://localhost:8080/",
          "height": 295
        },
        "id": "z76PFBFNWr73",
        "outputId": "58521eff-deb5-4717-cb0f-42012790fd32"
      },
      "outputs": [
        {
          "output_type": "display_data",
          "data": {
            "image/png": "[encoded data removed]",
            "text/plain": [
              "<Figure size 432x288 with 1 Axes>"
            ]
          },
          "metadata": {
            "needs_background": "light"
          }
        }
      ],
      "source": [
        "import matplotlib.pyplot as plt\n",
        "\n",
        "acc = history2.history['accuracy']\n",
        "val_acc = history2.history['val_accuracy']\n",
        "loss = history2.history['loss']\n",
        "val_loss = history2.history['val_loss']\n",
        "\n",
        "epochs = range(1, len(acc) + 1)\n",
        "\n",
        "# \"bo\" is for \"blue dot\"\n",
        "plt.plot(epochs, loss, 'bo', label='Training loss')\n",
        "# b is for \"solid blue line\"\n",
        "plt.plot(epochs, val_loss, 'b', label='Validation loss')\n",
        "plt.title('Training and validation loss')\n",
        "plt.xlabel('Epochs')\n",
        "plt.ylabel('Loss')\n",
        "plt.legend()\n",
        "\n",
        "plt.show()"
      ]
    },
    {
      "cell_type": "code",
      "execution_count": null,
      "metadata": {
        "colab": {
          "base_uri": "https://localhost:8080/",
          "height": 295
        },
        "id": "MDmW68GOXBo_",
        "outputId": "e2ffa568-5361-42cc-d716-048cf3965bb7"
      },
      "outputs": [
        {
          "output_type": "display_data",
          "data": {
            "image/png": "[encoded data removed]",
            "text/plain": [
              "<Figure size 432x288 with 1 Axes>"
            ]
          },
          "metadata": {
            "needs_background": "light"
          }
        }
      ],
      "source": [
        "val_loss = history.history['val_loss']\n",
        "val_loss2 = history2.history['val_loss']\n",
        "\n",
        "epochs = range(1, len(acc) + 1)\n",
        "\n",
        "# \"bo\" is for \"blue dot\"\n",
        "plt.plot(epochs, val_loss, 'bo', label='Oringnal loss')\n",
        "# b is for \"solid blue line\"\n",
        "plt.plot(epochs, val_loss2, 'b', label='New loss')\n",
        "plt.title('The Comparsion of validation loss')\n",
        "plt.xlabel('Epochs')\n",
        "plt.ylabel('Loss')\n",
        "plt.legend()\n",
        "\n",
        "plt.show()"
      ]
    },
    {
      "cell_type": "markdown",
      "metadata": {
        "id": "2kn1JkxVXQX7"
      },
      "source": [
        "Based on the first graph, we can know that Epochs equal to 4 may be better to this model. Next to retrain the model to avoid overfitting.\n",
        "\n",
        "Based on the second graph, change of units is little effect on model performance on validation set."
      ]
    },
    {
      "cell_type": "code",
      "execution_count": null,
      "metadata": {
        "colab": {
          "base_uri": "https://localhost:8080/"
        },
        "id": "_PVQlGEKXY92",
        "outputId": "5cd36337-eed6-4b2f-f0bb-539a22076e84"
      },
      "outputs": [
        {
          "output_type": "stream",
          "name": "stdout",
          "text": [
            "Epoch 1/3\n",
            "49/49 [==============================] - 3s 45ms/step - loss: 0.4255 - accuracy: 0.8176\n",
            "Epoch 2/3\n",
            "49/49 [==============================] - 2s 41ms/step - loss: 0.2466 - accuracy: 0.9082\n",
            "Epoch 3/3\n",
            "49/49 [==============================] - 2s 42ms/step - loss: 0.1894 - accuracy: 0.9298\n",
            "782/782 [==============================] - 3s 3ms/step - loss: 0.2919 - accuracy: 0.8845\n"
          ]
        }
      ],
      "source": [
        "model = models.Sequential()\n",
        "model.add(layers.Dense(32, activation='relu', input_shape=(10000,)))\n",
        "model.add(layers.Dense(32, activation='relu'))\n",
        "model.add(layers.Dense(1, activation='sigmoid'))\n",
        "\n",
        "model.compile(optimizer='rmsprop',\n",
        "              loss='binary_crossentropy',\n",
        "              metrics=['accuracy'])\n",
        "\n",
        "model.fit(x_train, y_train, epochs=3, batch_size=512)\n",
        "results = model.evaluate(x_test, y_test)"
      ]
    },
    {
      "cell_type": "code",
      "execution_count": null,
      "metadata": {
        "colab": {
          "base_uri": "https://localhost:8080/"
        },
        "id": "NylxAWAsYsut",
        "outputId": "39709fcc-d0b5-4190-ec8a-b9d0ce2fd5f5"
      },
      "outputs": [
        {
          "output_type": "execute_result",
          "data": {
            "text/plain": [
              "[0.29193538427352905, 0.8844799995422363]"
            ]
          },
          "metadata": {},
          "execution_count": 31
        }
      ],
      "source": [
        "results"
      ]
    },
    {
      "cell_type": "markdown",
      "metadata": {
        "id": "R2u7EYrkZhTZ"
      },
      "source": [
        "The accuarcy is 88.4% It might be higher than 16 units and using 3 epochs."
      ]
    },
    {
      "cell_type": "markdown",
      "metadata": {
        "id": "jlLy_o8Hb5ts"
      },
      "source": [
        "# 3) Using MSE loss function"
      ]
    },
    {
      "cell_type": "code",
      "execution_count": null,
      "metadata": {
        "colab": {
          "base_uri": "https://localhost:8080/"
        },
        "id": "exvDm-5DctAJ",
        "outputId": "72ffb353-17a4-4a0a-872d-a04da357556e"
      },
      "outputs": [
        {
          "output_type": "stream",
          "name": "stdout",
          "text": [
            "Epoch 1/10\n",
            "30/30 [==============================] - 3s 71ms/step - loss: 0.1807 - accuracy: 0.7674 - val_loss: 0.1362 - val_accuracy: 0.8408\n",
            "Epoch 2/10\n",
            "30/30 [==============================] - 1s 49ms/step - loss: 0.0982 - accuracy: 0.9011 - val_loss: 0.1034 - val_accuracy: 0.8758\n",
            "Epoch 3/10\n",
            "30/30 [==============================] - 1s 36ms/step - loss: 0.0692 - accuracy: 0.9264 - val_loss: 0.0912 - val_accuracy: 0.8808\n",
            "Epoch 4/10\n",
            "30/30 [==============================] - 1s 36ms/step - loss: 0.0544 - accuracy: 0.9439 - val_loss: 0.0830 - val_accuracy: 0.8935\n",
            "Epoch 5/10\n",
            "30/30 [==============================] - 1s 36ms/step - loss: 0.0430 - accuracy: 0.9561 - val_loss: 0.0831 - val_accuracy: 0.8887\n",
            "Epoch 6/10\n",
            "30/30 [==============================] - 1s 38ms/step - loss: 0.0349 - accuracy: 0.9657 - val_loss: 0.0881 - val_accuracy: 0.8798\n",
            "Epoch 7/10\n",
            "30/30 [==============================] - 1s 36ms/step - loss: 0.0290 - accuracy: 0.9720 - val_loss: 0.0844 - val_accuracy: 0.8854\n",
            "Epoch 8/10\n",
            "30/30 [==============================] - 1s 37ms/step - loss: 0.0242 - accuracy: 0.9789 - val_loss: 0.0876 - val_accuracy: 0.8810\n",
            "Epoch 9/10\n",
            "30/30 [==============================] - 1s 37ms/step - loss: 0.0197 - accuracy: 0.9831 - val_loss: 0.0906 - val_accuracy: 0.8781\n",
            "Epoch 10/10\n",
            "30/30 [==============================] - 1s 37ms/step - loss: 0.0160 - accuracy: 0.9880 - val_loss: 0.0929 - val_accuracy: 0.8761\n"
          ]
        },
        {
          "output_type": "execute_result",
          "data": {
            "text/plain": [
              "dict_keys(['loss', 'accuracy', 'val_loss', 'val_accuracy'])"
            ]
          },
          "metadata": {},
          "execution_count": 11
        }
      ],
      "source": [
        "from keras import models\n",
        "from keras import layers\n",
        "\n",
        "model = models.Sequential()\n",
        "model.add(layers.Dense(16, activation='relu', input_shape=(10000,)))\n",
        "model.add(layers.Dense(16, activation='relu'))\n",
        "model.add(layers.Dense(1,activation='sigmoid'))\n",
        "model.compile(optimizer='rmsprop',\n",
        "              loss='MSE',\n",
        "              metrics=['accuracy'])\n",
        "x_val = x_train[:10000]\n",
        "partial_x_train = x_train[10000:]\n",
        "\n",
        "y_val = y_train[:10000]\n",
        "partial_y_train = y_train[10000:]\n",
        "history3 = model.fit(partial_x_train,\n",
        "                    partial_y_train,\n",
        "                    epochs=10,\n",
        "                    batch_size=512,\n",
        "                    validation_data=(x_val, y_val))\n",
        "history3_dict = history3.history\n",
        "history3_dict.keys()"
      ]
    },
    {
      "cell_type": "code",
      "execution_count": null,
      "metadata": {
        "colab": {
          "base_uri": "https://localhost:8080/",
          "height": 295
        },
        "id": "O7dUaiBOdiF2",
        "outputId": "55fd4237-baa9-4569-b93a-857d71b8603f"
      },
      "outputs": [
        {
          "output_type": "display_data",
          "data": {
            "image/png": "[encoded data removed]",
            "text/plain": [
              "<Figure size 432x288 with 1 Axes>"
            ]
          },
          "metadata": {
            "needs_background": "light"
          }
        }
      ],
      "source": [
        "import matplotlib.pyplot as plt\n",
        "\n",
        "acc = history3.history['accuracy']\n",
        "val_acc = history3.history['val_accuracy']\n",
        "loss = history3.history['loss']\n",
        "val_loss = history3.history['val_loss']\n",
        "\n",
        "epochs = range(1, len(acc) + 1)\n",
        "\n",
        "# \"bo\" is for \"blue dot\"\n",
        "plt.plot(epochs, loss, 'bo', label='Training loss')\n",
        "# b is for \"solid blue line\"\n",
        "plt.plot(epochs, val_loss, 'b', label='Validation loss')\n",
        "plt.title('Training and validation loss')\n",
        "plt.xlabel('Epochs')\n",
        "plt.ylabel('Loss')\n",
        "plt.legend()\n",
        "\n",
        "plt.show()"
      ]
    },
    {
      "cell_type": "code",
      "execution_count": null,
      "metadata": {
        "colab": {
          "base_uri": "https://localhost:8080/",
          "height": 295
        },
        "id": "rXj4x0Ivdtmy",
        "outputId": "008bbd43-9f36-48e2-b0e7-493d2ca74872"
      },
      "outputs": [
        {
          "output_type": "display_data",
          "data": {
            "image/png": "[encoded data removed]",
            "text/plain": [
              "<Figure size 432x288 with 1 Axes>"
            ]
          },
          "metadata": {
            "needs_background": "light"
          }
        }
      ],
      "source": [
        "val_loss = history.history['val_loss']\n",
        "val_loss3 = history3.history['val_loss']\n",
        "\n",
        "epochs = range(1, len(acc) + 1)\n",
        "\n",
        "# \"bo\" is for \"blue dot\"\n",
        "plt.plot(epochs, val_loss, 'bo', label='Oringnal loss')\n",
        "# b is for \"solid blue line\"\n",
        "plt.plot(epochs, val_loss3, 'b', label='New loss')\n",
        "plt.title('The Comparsion of validation loss')\n",
        "plt.xlabel('Epochs')\n",
        "plt.ylabel('Loss')\n",
        "plt.legend()\n",
        "\n",
        "plt.show()"
      ]
    },
    {
      "cell_type": "markdown",
      "metadata": {
        "id": "K-JcQV1Yewty"
      },
      "source": [
        "Based on the first graph, we can know that Epochs equal to 4 may be better to this model. Next to retrain the model to avoid overfitting.\n",
        "\n",
        "Based on the second graph, the loss in MSE is lower than Binary Classification. But adding epochs can't reduce or increase Validation loss, when using the MSE loss function."
      ]
    },
    {
      "cell_type": "code",
      "execution_count": null,
      "metadata": {
        "colab": {
          "base_uri": "https://localhost:8080/"
        },
        "id": "J2KwB1i7mSPp",
        "outputId": "bb8265a3-c91e-4868-df29-afed176b0ca9"
      },
      "outputs": [
        {
          "output_type": "stream",
          "name": "stdout",
          "text": [
            "Epoch 1/4\n",
            "49/49 [==============================] - 2s 28ms/step - loss: 0.1527 - accuracy: 0.8209\n",
            "Epoch 2/4\n",
            "49/49 [==============================] - 1s 28ms/step - loss: 0.0808 - accuracy: 0.9082\n",
            "Epoch 3/4\n",
            "49/49 [==============================] - 1s 28ms/step - loss: 0.0596 - accuracy: 0.9294\n",
            "Epoch 4/4\n",
            "49/49 [==============================] - 1s 27ms/step - loss: 0.0482 - accuracy: 0.9436\n",
            "782/782 [==============================] - 2s 2ms/step - loss: 0.0863 - accuracy: 0.8836\n"
          ]
        },
        {
          "output_type": "execute_result",
          "data": {
            "text/plain": [
              "[0.08628997951745987, 0.8836399912834167]"
            ]
          },
          "metadata": {},
          "execution_count": 14
        }
      ],
      "source": [
        "model = models.Sequential()\n",
        "model.add(layers.Dense(16, activation='relu', input_shape=(10000,)))\n",
        "model.add(layers.Dense(16, activation='relu'))\n",
        "model.add(layers.Dense(1, activation='sigmoid'))\n",
        "\n",
        "model.compile(optimizer='rmsprop',\n",
        "              loss='mse',\n",
        "              metrics=['accuracy'])\n",
        "\n",
        "model.fit(x_train, y_train, epochs=4, batch_size=512)\n",
        "results = model.evaluate(x_test, y_test)\n",
        "results"
      ]
    },
    {
      "cell_type": "markdown",
      "metadata": {
        "id": "L1_rgauJmjXO"
      },
      "source": [
        "The accuarcy is 88.3% It nearly equals to use the binary classification function."
      ]
    },
    {
      "cell_type": "markdown",
      "metadata": {
        "id": "Cpcua2ZUgl1M"
      },
      "source": [
        "# 4）Using tanh activation"
      ]
    },
    {
      "cell_type": "code",
      "execution_count": null,
      "metadata": {
        "colab": {
          "base_uri": "https://localhost:8080/"
        },
        "id": "cz-lArALgtyE",
        "outputId": "9d5a9ea5-a117-4ce6-e1b0-7f8416c0da79"
      },
      "outputs": [
        {
          "output_type": "stream",
          "name": "stdout",
          "text": [
            "Epoch 1/10\n",
            "30/30 [==============================] - 2s 61ms/step - loss: 0.5163 - accuracy: 0.7987 - val_loss: 0.3959 - val_accuracy: 0.8692\n",
            "Epoch 2/10\n",
            "30/30 [==============================] - 1s 45ms/step - loss: 0.3125 - accuracy: 0.9043 - val_loss: 0.3050 - val_accuracy: 0.8892\n",
            "Epoch 3/10\n",
            "30/30 [==============================] - 1s 45ms/step - loss: 0.2235 - accuracy: 0.9303 - val_loss: 0.2876 - val_accuracy: 0.8820\n",
            "Epoch 4/10\n",
            "30/30 [==============================] - 1s 44ms/step - loss: 0.1681 - accuracy: 0.9469 - val_loss: 0.2766 - val_accuracy: 0.8890\n",
            "Epoch 5/10\n",
            "30/30 [==============================] - 1s 45ms/step - loss: 0.1305 - accuracy: 0.9601 - val_loss: 0.2852 - val_accuracy: 0.8873\n",
            "Epoch 6/10\n",
            "30/30 [==============================] - 1s 44ms/step - loss: 0.1014 - accuracy: 0.9701 - val_loss: 0.3448 - val_accuracy: 0.8764\n",
            "Epoch 7/10\n",
            "30/30 [==============================] - 2s 56ms/step - loss: 0.0805 - accuracy: 0.9773 - val_loss: 0.3472 - val_accuracy: 0.8785\n",
            "Epoch 8/10\n",
            "30/30 [==============================] - 1s 44ms/step - loss: 0.0622 - accuracy: 0.9827 - val_loss: 0.3765 - val_accuracy: 0.8785\n",
            "Epoch 9/10\n",
            "30/30 [==============================] - 1s 43ms/step - loss: 0.0493 - accuracy: 0.9871 - val_loss: 0.4185 - val_accuracy: 0.8769\n",
            "Epoch 10/10\n",
            "30/30 [==============================] - 1s 44ms/step - loss: 0.0393 - accuracy: 0.9901 - val_loss: 0.4593 - val_accuracy: 0.8718\n"
          ]
        },
        {
          "output_type": "execute_result",
          "data": {
            "text/plain": [
              "dict_keys(['loss', 'accuracy', 'val_loss', 'val_accuracy'])"
            ]
          },
          "metadata": {},
          "execution_count": 11
        }
      ],
      "source": [
        "from keras import models\n",
        "from keras import layers\n",
        "\n",
        "model = models.Sequential()\n",
        "model.add(layers.Dense(16, activation='tanh', input_shape=(10000,)))\n",
        "model.add(layers.Dense(16, activation='tanh'))\n",
        "model.add(layers.Dense(1,activation='sigmoid'))\n",
        "model.compile(optimizer='rmsprop',\n",
        "              loss='binary_crossentropy',\n",
        "              metrics=['accuracy'])\n",
        "x_val = x_train[:10000]\n",
        "partial_x_train = x_train[10000:]\n",
        "\n",
        "y_val = y_train[:10000]\n",
        "partial_y_train = y_train[10000:]\n",
        "history4 = model.fit(partial_x_train,\n",
        "                    partial_y_train,\n",
        "                    epochs=10,\n",
        "                    batch_size=512,\n",
        "                    validation_data=(x_val, y_val))\n",
        "history4_dict = history4.history\n",
        "history4_dict.keys()"
      ]
    },
    {
      "cell_type": "code",
      "execution_count": null,
      "metadata": {
        "colab": {
          "base_uri": "https://localhost:8080/",
          "height": 295
        },
        "id": "-Uv8jW2ehUtR",
        "outputId": "d01b551f-ada6-4822-86bb-19e1c2a74e59"
      },
      "outputs": [
        {
          "output_type": "display_data",
          "data": {
            "image/png": "[encoded data removed]",
            "text/plain": [
              "<Figure size 432x288 with 1 Axes>"
            ]
          },
          "metadata": {
            "needs_background": "light"
          }
        }
      ],
      "source": [
        "import matplotlib.pyplot as plt\n",
        "\n",
        "acc = history4.history['accuracy']\n",
        "val_acc = history4.history['val_accuracy']\n",
        "loss = history4.history['loss']\n",
        "val_loss = history4.history['val_loss']\n",
        "\n",
        "epochs = range(1, len(acc) + 1)\n",
        "\n",
        "# \"bo\" is for \"blue dot\"\n",
        "plt.plot(epochs, loss, 'bo', label='Training loss')\n",
        "# b is for \"solid blue line\"\n",
        "plt.plot(epochs, val_loss, 'b', label='Validation loss')\n",
        "plt.title('Training and validation loss')\n",
        "plt.xlabel('Epochs')\n",
        "plt.ylabel('Loss')\n",
        "plt.legend()\n",
        "\n",
        "plt.show()"
      ]
    },
    {
      "cell_type": "code",
      "execution_count": null,
      "metadata": {
        "colab": {
          "base_uri": "https://localhost:8080/",
          "height": 295
        },
        "id": "RaX0B4cKhaCu",
        "outputId": "f04bd145-6d1c-436d-e66e-06ada9cf0cbf"
      },
      "outputs": [
        {
          "output_type": "display_data",
          "data": {
            "image/png": "[encoded data removed]",
            "text/plain": [
              "<Figure size 432x288 with 1 Axes>"
            ]
          },
          "metadata": {
            "needs_background": "light"
          }
        }
      ],
      "source": [
        "val_loss = history.history['val_loss']\n",
        "val_loss4 = history4.history['val_loss']\n",
        "\n",
        "epochs = range(1, len(acc) + 1)\n",
        "\n",
        "# \"bo\" is for \"blue dot\"\n",
        "plt.plot(epochs, val_loss, 'bo', label='Oringnal loss')\n",
        "# b is for \"solid blue line\"\n",
        "plt.plot(epochs, val_loss4, 'b', label='New loss')\n",
        "plt.title('The Comparsion of validation loss')\n",
        "plt.xlabel('Epochs')\n",
        "plt.ylabel('Loss')\n",
        "plt.legend()\n",
        "\n",
        "plt.show()"
      ]
    },
    {
      "cell_type": "markdown",
      "metadata": {
        "id": "uGlODT-IhjC9"
      },
      "source": [
        "Based on the first graph, we can know that Epochs equal to 4 may be better to this model. Next to retrain the model to avoid overfitting.\n",
        "\n",
        "Based on the second graph, change of activation is little effect on model performance on validation set."
      ]
    },
    {
      "cell_type": "code",
      "execution_count": null,
      "metadata": {
        "colab": {
          "base_uri": "https://localhost:8080/"
        },
        "id": "HqUvzX0ehmqf",
        "outputId": "cddb120a-316d-43e2-8ace-ec97147d901e"
      },
      "outputs": [
        {
          "output_type": "stream",
          "name": "stdout",
          "text": [
            "Epoch 1/4\n",
            "49/49 [==============================] - 2s 33ms/step - loss: 0.4248 - accuracy: 0.8234\n",
            "Epoch 2/4\n",
            "49/49 [==============================] - 2s 33ms/step - loss: 0.2341 - accuracy: 0.9139\n",
            "Epoch 3/4\n",
            "49/49 [==============================] - 2s 34ms/step - loss: 0.1805 - accuracy: 0.9327\n",
            "Epoch 4/4\n",
            "49/49 [==============================] - 2s 34ms/step - loss: 0.1476 - accuracy: 0.9470\n",
            "782/782 [==============================] - 2s 2ms/step - loss: 0.3380 - accuracy: 0.8711\n"
          ]
        }
      ],
      "source": [
        "model = models.Sequential()\n",
        "model.add(layers.Dense(16, activation='tanh', input_shape=(10000,)))\n",
        "model.add(layers.Dense(16, activation='tanh'))\n",
        "model.add(layers.Dense(1, activation='sigmoid'))\n",
        "\n",
        "model.compile(optimizer='rmsprop',\n",
        "              loss='binary_crossentropy',\n",
        "              metrics=['accuracy'])\n",
        "\n",
        "model.fit(x_train, y_train, epochs=4, batch_size=512)\n",
        "results = model.evaluate(x_test, y_test)"
      ]
    },
    {
      "cell_type": "code",
      "execution_count": null,
      "metadata": {
        "colab": {
          "base_uri": "https://localhost:8080/"
        },
        "id": "x-3aCJdYiv4U",
        "outputId": "62e508d7-7fa8-41bd-db7e-177c91d19236"
      },
      "outputs": [
        {
          "output_type": "execute_result",
          "data": {
            "text/plain": [
              "[0.3379589915275574, 0.8710799813270569]"
            ]
          },
          "metadata": {},
          "execution_count": 15
        }
      ],
      "source": [
        "results"
      ]
    },
    {
      "cell_type": "markdown",
      "metadata": {
        "id": "S_JOupJSi6k1"
      },
      "source": [
        "The accuarcy is 87.1% It might be lower than relu activation."
      ]
    },
    {
      "cell_type": "markdown",
      "metadata": {
        "id": "pyKcRfO1jFLR"
      },
      "source": [
        "# 5) Using regularzation to improve model"
      ]
    },
    {
      "cell_type": "code",
      "source": [
        "from keras import models\n",
        "from keras import layers\n",
        "model = models.Sequential()\n",
        "model.add(layers.Dense(16, activation='relu', input_shape=(10000,)))\n",
        "model.add(layers.Dense(16, activation='relu'))\n",
        "model.add(layers.Dense(1, activation='sigmoid'))\n",
        "model.compile(optimizer='rmsprop',\n",
        "              loss='binary_crossentropy',\n",
        "              metrics=['accuracy'])\n",
        "x_val = x_train[:10000]\n",
        "partial_x_train = x_train[10000:]\n",
        "\n",
        "y_val = y_train[:10000]\n",
        "partial_y_train = y_train[10000:]\n",
        "history = model.fit(partial_x_train,\n",
        "                    partial_y_train,\n",
        "                    epochs=20,\n",
        "                    batch_size=512,\n",
        "                    validation_data=(x_val, y_val))"
      ],
      "metadata": {
        "colab": {
          "base_uri": "https://localhost:8080/"
        },
        "id": "OPx-JdvxY4KY",
        "outputId": "23cadffc-84da-44d4-e77f-7550a0d030ec"
      },
      "execution_count": null,
      "outputs": [
        {
          "output_type": "stream",
          "name": "stdout",
          "text": [
            "Epoch 1/20\n",
            "30/30 [==============================] - 1s 27ms/step - loss: 0.5522 - accuracy: 0.7463 - val_loss: 0.4352 - val_accuracy: 0.8625\n",
            "Epoch 2/20\n",
            "30/30 [==============================] - 1s 20ms/step - loss: 0.3538 - accuracy: 0.8981 - val_loss: 0.3504 - val_accuracy: 0.8768\n",
            "Epoch 3/20\n",
            "30/30 [==============================] - 1s 21ms/step - loss: 0.2526 - accuracy: 0.9256 - val_loss: 0.3015 - val_accuracy: 0.8858\n",
            "Epoch 4/20\n",
            "30/30 [==============================] - 1s 20ms/step - loss: 0.1951 - accuracy: 0.9409 - val_loss: 0.3231 - val_accuracy: 0.8704\n",
            "Epoch 5/20\n",
            "30/30 [==============================] - 1s 20ms/step - loss: 0.1582 - accuracy: 0.9510 - val_loss: 0.2815 - val_accuracy: 0.8857\n",
            "Epoch 6/20\n",
            "30/30 [==============================] - 1s 19ms/step - loss: 0.1302 - accuracy: 0.9618 - val_loss: 0.3007 - val_accuracy: 0.8811\n",
            "Epoch 7/20\n",
            "30/30 [==============================] - 1s 20ms/step - loss: 0.1087 - accuracy: 0.9710 - val_loss: 0.3120 - val_accuracy: 0.8791\n",
            "Epoch 8/20\n",
            "30/30 [==============================] - 1s 21ms/step - loss: 0.0906 - accuracy: 0.9761 - val_loss: 0.3245 - val_accuracy: 0.8802\n",
            "Epoch 9/20\n",
            "30/30 [==============================] - 1s 20ms/step - loss: 0.0725 - accuracy: 0.9823 - val_loss: 0.4049 - val_accuracy: 0.8622\n",
            "Epoch 10/20\n",
            "30/30 [==============================] - 1s 20ms/step - loss: 0.0616 - accuracy: 0.9853 - val_loss: 0.3846 - val_accuracy: 0.8706\n",
            "Epoch 11/20\n",
            "30/30 [==============================] - 1s 20ms/step - loss: 0.0513 - accuracy: 0.9889 - val_loss: 0.3872 - val_accuracy: 0.8757\n",
            "Epoch 12/20\n",
            "30/30 [==============================] - 1s 19ms/step - loss: 0.0414 - accuracy: 0.9913 - val_loss: 0.4020 - val_accuracy: 0.8774\n",
            "Epoch 13/20\n",
            "30/30 [==============================] - 1s 19ms/step - loss: 0.0343 - accuracy: 0.9931 - val_loss: 0.4266 - val_accuracy: 0.8762\n",
            "Epoch 14/20\n",
            "30/30 [==============================] - 1s 20ms/step - loss: 0.0259 - accuracy: 0.9961 - val_loss: 0.4571 - val_accuracy: 0.8727\n",
            "Epoch 15/20\n",
            "30/30 [==============================] - 1s 19ms/step - loss: 0.0218 - accuracy: 0.9965 - val_loss: 0.5234 - val_accuracy: 0.8641\n",
            "Epoch 16/20\n",
            "30/30 [==============================] - 1s 19ms/step - loss: 0.0176 - accuracy: 0.9975 - val_loss: 0.5096 - val_accuracy: 0.8716\n",
            "Epoch 17/20\n",
            "30/30 [==============================] - 1s 20ms/step - loss: 0.0120 - accuracy: 0.9989 - val_loss: 0.5663 - val_accuracy: 0.8647\n",
            "Epoch 18/20\n",
            "30/30 [==============================] - 1s 19ms/step - loss: 0.0130 - accuracy: 0.9979 - val_loss: 0.5797 - val_accuracy: 0.8675\n",
            "Epoch 19/20\n",
            "30/30 [==============================] - 1s 20ms/step - loss: 0.0065 - accuracy: 0.9994 - val_loss: 0.6746 - val_accuracy: 0.8591\n",
            "Epoch 20/20\n",
            "30/30 [==============================] - 1s 20ms/step - loss: 0.0093 - accuracy: 0.9981 - val_loss: 0.6461 - val_accuracy: 0.8685\n"
          ]
        }
      ]
    },
    {
      "cell_type": "code",
      "execution_count": null,
      "metadata": {
        "id": "MJgqo2hLsAt-",
        "colab": {
          "base_uri": "https://localhost:8080/"
        },
        "outputId": "d8d780f7-2666-4211-afc8-f3394d1719ed"
      },
      "outputs": [
        {
          "output_type": "stream",
          "name": "stdout",
          "text": [
            "Epoch 1/20\n",
            "30/30 [==============================] - 1s 28ms/step - loss: 0.5408 - accuracy: 0.7933 - val_loss: 0.4244 - val_accuracy: 0.8683\n",
            "Epoch 2/20\n",
            "30/30 [==============================] - 1s 19ms/step - loss: 0.3511 - accuracy: 0.9013 - val_loss: 0.3498 - val_accuracy: 0.8897\n",
            "Epoch 3/20\n",
            "30/30 [==============================] - 1s 19ms/step - loss: 0.2784 - accuracy: 0.9246 - val_loss: 0.3361 - val_accuracy: 0.8838\n",
            "Epoch 4/20\n",
            "30/30 [==============================] - 1s 20ms/step - loss: 0.2484 - accuracy: 0.9302 - val_loss: 0.3475 - val_accuracy: 0.8783\n",
            "Epoch 5/20\n",
            "30/30 [==============================] - 1s 19ms/step - loss: 0.2271 - accuracy: 0.9414 - val_loss: 0.3288 - val_accuracy: 0.8867\n",
            "Epoch 6/20\n",
            "30/30 [==============================] - 1s 20ms/step - loss: 0.2125 - accuracy: 0.9467 - val_loss: 0.3341 - val_accuracy: 0.8867\n",
            "Epoch 7/20\n",
            "30/30 [==============================] - 1s 20ms/step - loss: 0.1999 - accuracy: 0.9517 - val_loss: 0.3424 - val_accuracy: 0.8862\n",
            "Epoch 8/20\n",
            "30/30 [==============================] - 1s 19ms/step - loss: 0.1897 - accuracy: 0.9572 - val_loss: 0.3745 - val_accuracy: 0.8780\n",
            "Epoch 9/20\n",
            "30/30 [==============================] - 1s 21ms/step - loss: 0.1825 - accuracy: 0.9606 - val_loss: 0.3765 - val_accuracy: 0.8795\n",
            "Epoch 10/20\n",
            "30/30 [==============================] - 1s 20ms/step - loss: 0.1835 - accuracy: 0.9591 - val_loss: 0.3683 - val_accuracy: 0.8794\n",
            "Epoch 11/20\n",
            "30/30 [==============================] - 1s 19ms/step - loss: 0.1719 - accuracy: 0.9630 - val_loss: 0.3759 - val_accuracy: 0.8779\n",
            "Epoch 12/20\n",
            "30/30 [==============================] - 1s 20ms/step - loss: 0.1646 - accuracy: 0.9679 - val_loss: 0.3894 - val_accuracy: 0.8743\n",
            "Epoch 13/20\n",
            "30/30 [==============================] - 1s 23ms/step - loss: 0.1613 - accuracy: 0.9679 - val_loss: 0.4026 - val_accuracy: 0.8711\n",
            "Epoch 14/20\n",
            "30/30 [==============================] - 1s 23ms/step - loss: 0.1562 - accuracy: 0.9705 - val_loss: 0.3992 - val_accuracy: 0.8765\n",
            "Epoch 15/20\n",
            "30/30 [==============================] - 1s 28ms/step - loss: 0.1502 - accuracy: 0.9733 - val_loss: 0.4148 - val_accuracy: 0.8719\n",
            "Epoch 16/20\n",
            "30/30 [==============================] - 1s 28ms/step - loss: 0.1545 - accuracy: 0.9695 - val_loss: 0.4334 - val_accuracy: 0.8720\n",
            "Epoch 17/20\n",
            "30/30 [==============================] - 1s 19ms/step - loss: 0.1491 - accuracy: 0.9716 - val_loss: 0.4199 - val_accuracy: 0.8724\n",
            "Epoch 18/20\n",
            "30/30 [==============================] - 1s 19ms/step - loss: 0.1465 - accuracy: 0.9741 - val_loss: 0.4339 - val_accuracy: 0.8709\n",
            "Epoch 19/20\n",
            "30/30 [==============================] - 1s 19ms/step - loss: 0.1408 - accuracy: 0.9761 - val_loss: 0.4377 - val_accuracy: 0.8703\n",
            "Epoch 20/20\n",
            "30/30 [==============================] - 1s 20ms/step - loss: 0.1411 - accuracy: 0.9765 - val_loss: 0.4936 - val_accuracy: 0.8563\n"
          ]
        }
      ],
      "source": [
        "from keras import regularizers\n",
        "\n",
        "model = models.Sequential()\n",
        "model.add(layers.Dense(16,kernel_regularizer=regularizers.l2(0.001), activation='relu', input_shape=(10000,)))\n",
        "model.add(layers.Dense(16,kernel_regularizer=regularizers.l2(0.001), activation='relu'))\n",
        "model.add(layers.Dense(1,activation='sigmoid'))\n",
        "model.compile(optimizer='rmsprop',\n",
        "              loss='binary_crossentropy',\n",
        "              metrics=['accuracy'])\n",
        "x_val = x_train[:10000]\n",
        "partial_x_train = x_train[10000:]\n",
        "\n",
        "y_val = y_train[:10000]\n",
        "partial_y_train = y_train[10000:]\n",
        "history5 = model.fit(partial_x_train,\n",
        "                    partial_y_train,\n",
        "                    epochs=20,\n",
        "                    batch_size=512,\n",
        "                    validation_data=(x_val, y_val))"
      ]
    },
    {
      "cell_type": "code",
      "execution_count": null,
      "metadata": {
        "colab": {
          "base_uri": "https://localhost:8080/",
          "height": 295
        },
        "id": "3j3-SMG-syRu",
        "outputId": "1ee45e37-026a-47a4-e1c4-0221fdf56636"
      },
      "outputs": [
        {
          "output_type": "display_data",
          "data": {
            "image/png": "[encoded data removed]",
            "text/plain": [
              "<Figure size 432x288 with 1 Axes>"
            ]
          },
          "metadata": {
            "needs_background": "light"
          }
        }
      ],
      "source": [
        "import matplotlib.pyplot as plt\n",
        "\n",
        "acc = history5.history['accuracy']\n",
        "val_loss = history.history['val_loss']\n",
        "val_loss5 = history5.history['val_loss']\n",
        "\n",
        "epochs = range(1, len(acc) + 1)\n",
        "\n",
        "# \"bo\" is for \"blue dot\"\n",
        "plt.plot(epochs, val_loss, 'bo', label='Oringnal loss')\n",
        "# b is for \"solid blue line\"\n",
        "plt.plot(epochs, val_loss5, 'b', label='New loss')\n",
        "plt.title('The Comparsion of validation loss')\n",
        "plt.xlabel('Epochs')\n",
        "plt.ylabel('Loss')\n",
        "plt.legend()\n",
        "\n",
        "plt.show()"
      ]
    },
    {
      "cell_type": "markdown",
      "source": [
        "# 6) Using Dropout to resist overfitting"
      ],
      "metadata": {
        "id": "YPfawCc4aLpq"
      }
    },
    {
      "cell_type": "code",
      "source": [
        "from keras import regularizers\n",
        "\n",
        "model = models.Sequential()\n",
        "model.add(layers.Dense(16,activation='relu', input_shape=(10000,)))\n",
        "model.add(layers.Dropout(0.6))\n",
        "model.add(layers.Dense(16,activation='relu'))\n",
        "model.add(layers.Dropout(0.6))\n",
        "model.add(layers.Dense(1,activation='sigmoid'))\n",
        "model.compile(optimizer='rmsprop',\n",
        "              loss='binary_crossentropy',\n",
        "              metrics=['accuracy'])\n",
        "x_val = x_train[:10000]\n",
        "partial_x_train = x_train[10000:]\n",
        "\n",
        "y_val = y_train[:10000]\n",
        "partial_y_train = y_train[10000:]\n",
        "history6 = model.fit(partial_x_train,\n",
        "                    partial_y_train,\n",
        "                    epochs=20,\n",
        "                    batch_size=512,\n",
        "                    validation_data=(x_val, y_val))"
      ],
      "metadata": {
        "colab": {
          "base_uri": "https://localhost:8080/"
        },
        "id": "-BPKbrUyaNae",
        "outputId": "063d7498-b7b5-4f61-8d33-fd59279597ef"
      },
      "execution_count": null,
      "outputs": [
        {
          "output_type": "stream",
          "name": "stdout",
          "text": [
            "Epoch 1/20\n",
            "30/30 [==============================] - 2s 45ms/step - loss: 0.6588 - accuracy: 0.6073 - val_loss: 0.6044 - val_accuracy: 0.8008\n",
            "Epoch 2/20\n",
            "30/30 [==============================] - 1s 25ms/step - loss: 0.5833 - accuracy: 0.7232 - val_loss: 0.5186 - val_accuracy: 0.8432\n",
            "Epoch 3/20\n",
            "30/30 [==============================] - 1s 24ms/step - loss: 0.5209 - accuracy: 0.7897 - val_loss: 0.4561 - val_accuracy: 0.8608\n",
            "Epoch 4/20\n",
            "30/30 [==============================] - 1s 24ms/step - loss: 0.4764 - accuracy: 0.8267 - val_loss: 0.4178 - val_accuracy: 0.8723\n",
            "Epoch 5/20\n",
            "30/30 [==============================] - 1s 25ms/step - loss: 0.4261 - accuracy: 0.8565 - val_loss: 0.3843 - val_accuracy: 0.8790\n",
            "Epoch 6/20\n",
            "30/30 [==============================] - 1s 25ms/step - loss: 0.3905 - accuracy: 0.8746 - val_loss: 0.3729 - val_accuracy: 0.8791\n",
            "Epoch 7/20\n",
            "30/30 [==============================] - 1s 24ms/step - loss: 0.3590 - accuracy: 0.8879 - val_loss: 0.3790 - val_accuracy: 0.8777\n",
            "Epoch 8/20\n",
            "30/30 [==============================] - 1s 24ms/step - loss: 0.3226 - accuracy: 0.9030 - val_loss: 0.3555 - val_accuracy: 0.8804\n",
            "Epoch 9/20\n",
            "30/30 [==============================] - 1s 25ms/step - loss: 0.3041 - accuracy: 0.9099 - val_loss: 0.3327 - val_accuracy: 0.8809\n",
            "Epoch 10/20\n",
            "30/30 [==============================] - 1s 24ms/step - loss: 0.2872 - accuracy: 0.9151 - val_loss: 0.3467 - val_accuracy: 0.8792\n",
            "Epoch 11/20\n",
            "30/30 [==============================] - 1s 23ms/step - loss: 0.2651 - accuracy: 0.9223 - val_loss: 0.3689 - val_accuracy: 0.8786\n",
            "Epoch 12/20\n",
            "30/30 [==============================] - 1s 25ms/step - loss: 0.2557 - accuracy: 0.9251 - val_loss: 0.3380 - val_accuracy: 0.8767\n",
            "Epoch 13/20\n",
            "30/30 [==============================] - 1s 23ms/step - loss: 0.2284 - accuracy: 0.9350 - val_loss: 0.3717 - val_accuracy: 0.8772\n",
            "Epoch 14/20\n",
            "30/30 [==============================] - 1s 24ms/step - loss: 0.2235 - accuracy: 0.9357 - val_loss: 0.3755 - val_accuracy: 0.8770\n",
            "Epoch 15/20\n",
            "30/30 [==============================] - 1s 30ms/step - loss: 0.2159 - accuracy: 0.9387 - val_loss: 0.3836 - val_accuracy: 0.8763\n",
            "Epoch 16/20\n",
            "30/30 [==============================] - 1s 24ms/step - loss: 0.2062 - accuracy: 0.9411 - val_loss: 0.4049 - val_accuracy: 0.8773\n",
            "Epoch 17/20\n",
            "30/30 [==============================] - 1s 24ms/step - loss: 0.1890 - accuracy: 0.9476 - val_loss: 0.4507 - val_accuracy: 0.8764\n",
            "Epoch 18/20\n",
            "30/30 [==============================] - 1s 24ms/step - loss: 0.1914 - accuracy: 0.9461 - val_loss: 0.4390 - val_accuracy: 0.8758\n",
            "Epoch 19/20\n",
            "30/30 [==============================] - 1s 24ms/step - loss: 0.1737 - accuracy: 0.9528 - val_loss: 0.5232 - val_accuracy: 0.8751\n",
            "Epoch 20/20\n",
            "30/30 [==============================] - 1s 24ms/step - loss: 0.1773 - accuracy: 0.9505 - val_loss: 0.4526 - val_accuracy: 0.8745\n"
          ]
        }
      ]
    },
    {
      "cell_type": "code",
      "source": [
        "import matplotlib.pyplot as plt\n",
        "\n",
        "acc = history6.history['accuracy']\n",
        "val_loss = history.history['val_loss']\n",
        "val_loss6 = history6.history['val_loss']\n",
        "\n",
        "epochs = range(1, len(acc) + 1)\n",
        "\n",
        "# \"bo\" is for \"blue dot\"\n",
        "plt.plot(epochs, val_loss, 'bo', label='Oringnal loss')\n",
        "# b is for \"solid blue line\"\n",
        "plt.plot(epochs, val_loss6, 'b', label='New loss')\n",
        "plt.title('The Comparsion of validation loss')\n",
        "plt.xlabel('Epochs')\n",
        "plt.ylabel('Loss')\n",
        "plt.legend()\n",
        "\n",
        "plt.show()"
      ],
      "metadata": {
        "colab": {
          "base_uri": "https://localhost:8080/",
          "height": 295
        },
        "id": "B-IVZ1LSbTuC",
        "outputId": "d7562821-1b4c-42de-894c-a08d35613b72"
      },
      "execution_count": null,
      "outputs": [
        {
          "output_type": "display_data",
          "data": {
            "image/png": "[encoded data removed]",
            "text/plain": [
              "<Figure size 432x288 with 1 Axes>"
            ]
          },
          "metadata": {
            "needs_background": "light"
          }
        }
      ]
    },
    {
      "cell_type": "markdown",
      "source": [
        "These two ways can simplify the model and resist overfitting efficiently"
      ],
      "metadata": {
        "id": "s8b_rYlec042"
      }
    },
    {
      "cell_type": "markdown",
      "source": [
        "# 7 Final Model"
      ],
      "metadata": {
        "id": "W8VJ77LJzkLD"
      }
    },
    {
      "cell_type": "code",
      "source": [
        "from keras import models\n",
        "from keras import layers\n",
        "model = models.Sequential()\n",
        "model.add(layers.Dense(16, activation='relu', input_shape=(10000,)))\n",
        "model.add(layers.Dense(16, activation='relu'))\n",
        "model.add(layers.Dense(1, activation='sigmoid'))\n",
        "model.compile(optimizer='rmsprop',\n",
        "              loss='binary_crossentropy',\n",
        "              metrics=['accuracy'])\n",
        "x_val = x_train[:10000]\n",
        "partial_x_train = x_train[10000:]\n",
        "\n",
        "y_val = y_train[:10000]\n",
        "partial_y_train = y_train[10000:]\n",
        "history = model.fit(partial_x_train,\n",
        "                    partial_y_train,\n",
        "                    epochs=30,\n",
        "                    batch_size=512,\n",
        "                    validation_data=(x_val, y_val))"
      ],
      "metadata": {
        "colab": {
          "base_uri": "https://localhost:8080/"
        },
        "id": "PbWtG9oNzpEV",
        "outputId": "58d7d4c3-410a-4daf-edf0-b7d477abc3ef"
      },
      "execution_count": 12,
      "outputs": [
        {
          "output_type": "stream",
          "name": "stdout",
          "text": [
            "Epoch 1/30\n",
            "30/30 [==============================] - 2s 49ms/step - loss: 0.5480 - accuracy: 0.7563 - val_loss: 0.4334 - val_accuracy: 0.8591\n",
            "Epoch 2/30\n",
            "30/30 [==============================] - 1s 36ms/step - loss: 0.3309 - accuracy: 0.9005 - val_loss: 0.3175 - val_accuracy: 0.8867\n",
            "Epoch 3/30\n",
            "30/30 [==============================] - 1s 38ms/step - loss: 0.2384 - accuracy: 0.9246 - val_loss: 0.2879 - val_accuracy: 0.8892\n",
            "Epoch 4/30\n",
            "30/30 [==============================] - 1s 37ms/step - loss: 0.1882 - accuracy: 0.9403 - val_loss: 0.2753 - val_accuracy: 0.8899\n",
            "Epoch 5/30\n",
            "30/30 [==============================] - 1s 36ms/step - loss: 0.1523 - accuracy: 0.9523 - val_loss: 0.2837 - val_accuracy: 0.8861\n",
            "Epoch 6/30\n",
            "30/30 [==============================] - 1s 37ms/step - loss: 0.1227 - accuracy: 0.9635 - val_loss: 0.3042 - val_accuracy: 0.8839\n",
            "Epoch 7/30\n",
            "30/30 [==============================] - 1s 37ms/step - loss: 0.1030 - accuracy: 0.9700 - val_loss: 0.3256 - val_accuracy: 0.8762\n",
            "Epoch 8/30\n",
            "30/30 [==============================] - 1s 37ms/step - loss: 0.0872 - accuracy: 0.9761 - val_loss: 0.3252 - val_accuracy: 0.8812\n",
            "Epoch 9/30\n",
            "30/30 [==============================] - 1s 36ms/step - loss: 0.0711 - accuracy: 0.9801 - val_loss: 0.3436 - val_accuracy: 0.8796\n",
            "Epoch 10/30\n",
            "30/30 [==============================] - 1s 36ms/step - loss: 0.0593 - accuracy: 0.9848 - val_loss: 0.3677 - val_accuracy: 0.8783\n",
            "Epoch 11/30\n",
            "30/30 [==============================] - 1s 36ms/step - loss: 0.0477 - accuracy: 0.9889 - val_loss: 0.3920 - val_accuracy: 0.8764\n",
            "Epoch 12/30\n",
            "30/30 [==============================] - 1s 41ms/step - loss: 0.0396 - accuracy: 0.9911 - val_loss: 0.4343 - val_accuracy: 0.8692\n",
            "Epoch 13/30\n",
            "30/30 [==============================] - 1s 37ms/step - loss: 0.0316 - accuracy: 0.9935 - val_loss: 0.4505 - val_accuracy: 0.8723\n",
            "Epoch 14/30\n",
            "30/30 [==============================] - 1s 37ms/step - loss: 0.0270 - accuracy: 0.9945 - val_loss: 0.4852 - val_accuracy: 0.8713\n",
            "Epoch 15/30\n",
            "30/30 [==============================] - 1s 37ms/step - loss: 0.0182 - accuracy: 0.9973 - val_loss: 0.5450 - val_accuracy: 0.8692\n",
            "Epoch 16/30\n",
            "30/30 [==============================] - 1s 36ms/step - loss: 0.0151 - accuracy: 0.9985 - val_loss: 0.5536 - val_accuracy: 0.8693\n",
            "Epoch 17/30\n",
            "30/30 [==============================] - 1s 40ms/step - loss: 0.0113 - accuracy: 0.9988 - val_loss: 0.5955 - val_accuracy: 0.8672\n",
            "Epoch 18/30\n",
            "30/30 [==============================] - 1s 37ms/step - loss: 0.0098 - accuracy: 0.9989 - val_loss: 0.6276 - val_accuracy: 0.8683\n",
            "Epoch 19/30\n",
            "30/30 [==============================] - 1s 36ms/step - loss: 0.0064 - accuracy: 0.9994 - val_loss: 0.6678 - val_accuracy: 0.8667\n",
            "Epoch 20/30\n",
            "30/30 [==============================] - 1s 36ms/step - loss: 0.0057 - accuracy: 0.9991 - val_loss: 0.7193 - val_accuracy: 0.8620\n",
            "Epoch 21/30\n",
            "30/30 [==============================] - 1s 37ms/step - loss: 0.0027 - accuracy: 0.9998 - val_loss: 0.7446 - val_accuracy: 0.8622\n",
            "Epoch 22/30\n",
            "30/30 [==============================] - 1s 39ms/step - loss: 0.0044 - accuracy: 0.9991 - val_loss: 0.7797 - val_accuracy: 0.8653\n",
            "Epoch 23/30\n",
            "30/30 [==============================] - 1s 37ms/step - loss: 0.0015 - accuracy: 0.9999 - val_loss: 0.8132 - val_accuracy: 0.8636\n",
            "Epoch 24/30\n",
            "30/30 [==============================] - 1s 39ms/step - loss: 0.0045 - accuracy: 0.9989 - val_loss: 0.8533 - val_accuracy: 0.8639\n",
            "Epoch 25/30\n",
            "30/30 [==============================] - 1s 36ms/step - loss: 8.1861e-04 - accuracy: 0.9999 - val_loss: 0.8726 - val_accuracy: 0.8634\n",
            "Epoch 26/30\n",
            "30/30 [==============================] - 1s 36ms/step - loss: 6.6565e-04 - accuracy: 0.9999 - val_loss: 0.9330 - val_accuracy: 0.8630\n",
            "Epoch 27/30\n",
            "30/30 [==============================] - 1s 36ms/step - loss: 0.0035 - accuracy: 0.9991 - val_loss: 0.9426 - val_accuracy: 0.8621\n",
            "Epoch 28/30\n",
            "30/30 [==============================] - 1s 36ms/step - loss: 3.8651e-04 - accuracy: 0.9999 - val_loss: 0.9623 - val_accuracy: 0.8617\n",
            "Epoch 29/30\n",
            "30/30 [==============================] - 1s 36ms/step - loss: 3.2840e-04 - accuracy: 0.9999 - val_loss: 0.9958 - val_accuracy: 0.8617\n",
            "Epoch 30/30\n",
            "30/30 [==============================] - 1s 37ms/step - loss: 0.0012 - accuracy: 0.9998 - val_loss: 1.0290 - val_accuracy: 0.8620\n"
          ]
        }
      ]
    },
    {
      "cell_type": "code",
      "source": [
        "from keras import regularizers\n",
        "\n",
        "model = models.Sequential()\n",
        "model.add(layers.Dense(32,activation='relu', input_shape=(10000,)))\n",
        "model.add(layers.Dropout(0.6))\n",
        "model.add(layers.Dense(16,activation='relu'))\n",
        "model.add(layers.Dropout(0.6))\n",
        "model.add(layers.Dense(1,activation='sigmoid'))\n",
        "model.compile(optimizer='rmsprop',\n",
        "              loss='binary_crossentropy',\n",
        "              metrics=['accuracy'])\n",
        "\n",
        "x_val = x_train[:10000]\n",
        "partial_x_train = x_train[10000:]\n",
        "\n",
        "y_val = y_train[:10000]\n",
        "partial_y_train = y_train[10000:]\n",
        "history7 = model.fit(partial_x_train,\n",
        "                    partial_y_train,\n",
        "                    epochs=30,\n",
        "                    batch_size=512,\n",
        "                    validation_data=(x_val, y_val))"
      ],
      "metadata": {
        "colab": {
          "base_uri": "https://localhost:8080/"
        },
        "id": "69L7--nazvJ5",
        "outputId": "d42030b9-c3a1-4f0a-b1c8-0d485124b019"
      },
      "execution_count": 38,
      "outputs": [
        {
          "output_type": "stream",
          "name": "stdout",
          "text": [
            "Epoch 1/30\n",
            "30/30 [==============================] - 2s 56ms/step - loss: 0.6283 - accuracy: 0.6388 - val_loss: 0.5013 - val_accuracy: 0.8425\n",
            "Epoch 2/30\n",
            "30/30 [==============================] - 1s 44ms/step - loss: 0.4913 - accuracy: 0.7754 - val_loss: 0.3689 - val_accuracy: 0.8777\n",
            "Epoch 3/30\n",
            "30/30 [==============================] - 1s 45ms/step - loss: 0.4042 - accuracy: 0.8372 - val_loss: 0.3107 - val_accuracy: 0.8856\n",
            "Epoch 4/30\n",
            "30/30 [==============================] - 1s 44ms/step - loss: 0.3387 - accuracy: 0.8654 - val_loss: 0.2908 - val_accuracy: 0.8831\n",
            "Epoch 5/30\n",
            "30/30 [==============================] - 1s 44ms/step - loss: 0.2969 - accuracy: 0.8922 - val_loss: 0.2761 - val_accuracy: 0.8925\n",
            "Epoch 6/30\n",
            "30/30 [==============================] - 1s 44ms/step - loss: 0.2625 - accuracy: 0.9060 - val_loss: 0.2908 - val_accuracy: 0.8799\n",
            "Epoch 7/30\n",
            "30/30 [==============================] - 1s 44ms/step - loss: 0.2276 - accuracy: 0.9225 - val_loss: 0.2812 - val_accuracy: 0.8913\n",
            "Epoch 8/30\n",
            "30/30 [==============================] - 1s 44ms/step - loss: 0.2129 - accuracy: 0.9291 - val_loss: 0.2921 - val_accuracy: 0.8939\n",
            "Epoch 9/30\n",
            "30/30 [==============================] - 1s 45ms/step - loss: 0.1859 - accuracy: 0.9387 - val_loss: 0.2992 - val_accuracy: 0.8935\n",
            "Epoch 10/30\n",
            "30/30 [==============================] - 1s 44ms/step - loss: 0.1705 - accuracy: 0.9425 - val_loss: 0.3278 - val_accuracy: 0.8897\n",
            "Epoch 11/30\n",
            "30/30 [==============================] - 1s 44ms/step - loss: 0.1498 - accuracy: 0.9514 - val_loss: 0.3381 - val_accuracy: 0.8894\n",
            "Epoch 12/30\n",
            "30/30 [==============================] - 1s 44ms/step - loss: 0.1407 - accuracy: 0.9563 - val_loss: 0.3675 - val_accuracy: 0.8902\n",
            "Epoch 13/30\n",
            "30/30 [==============================] - 1s 44ms/step - loss: 0.1321 - accuracy: 0.9566 - val_loss: 0.4029 - val_accuracy: 0.8899\n",
            "Epoch 14/30\n",
            "30/30 [==============================] - 1s 44ms/step - loss: 0.1193 - accuracy: 0.9600 - val_loss: 0.4121 - val_accuracy: 0.8888\n",
            "Epoch 15/30\n",
            "30/30 [==============================] - 1s 44ms/step - loss: 0.1168 - accuracy: 0.9627 - val_loss: 0.4220 - val_accuracy: 0.8902\n",
            "Epoch 16/30\n",
            "30/30 [==============================] - 1s 45ms/step - loss: 0.1068 - accuracy: 0.9655 - val_loss: 0.4435 - val_accuracy: 0.8893\n",
            "Epoch 17/30\n",
            "30/30 [==============================] - 1s 44ms/step - loss: 0.1027 - accuracy: 0.9669 - val_loss: 0.4763 - val_accuracy: 0.8883\n",
            "Epoch 18/30\n",
            "30/30 [==============================] - 1s 44ms/step - loss: 0.1004 - accuracy: 0.9670 - val_loss: 0.5871 - val_accuracy: 0.8736\n",
            "Epoch 19/30\n",
            "30/30 [==============================] - 1s 45ms/step - loss: 0.0950 - accuracy: 0.9707 - val_loss: 0.5215 - val_accuracy: 0.8865\n",
            "Epoch 20/30\n",
            "30/30 [==============================] - 1s 44ms/step - loss: 0.0978 - accuracy: 0.9686 - val_loss: 0.5109 - val_accuracy: 0.8864\n",
            "Epoch 21/30\n",
            "30/30 [==============================] - 1s 44ms/step - loss: 0.0878 - accuracy: 0.9727 - val_loss: 0.5737 - val_accuracy: 0.8848\n",
            "Epoch 22/30\n",
            "30/30 [==============================] - 1s 44ms/step - loss: 0.0882 - accuracy: 0.9716 - val_loss: 0.5499 - val_accuracy: 0.8841\n",
            "Epoch 23/30\n",
            "30/30 [==============================] - 1s 45ms/step - loss: 0.0854 - accuracy: 0.9732 - val_loss: 0.6229 - val_accuracy: 0.8877\n",
            "Epoch 24/30\n",
            "30/30 [==============================] - 1s 45ms/step - loss: 0.0789 - accuracy: 0.9750 - val_loss: 0.6239 - val_accuracy: 0.8851\n",
            "Epoch 25/30\n",
            "30/30 [==============================] - 1s 44ms/step - loss: 0.0821 - accuracy: 0.9745 - val_loss: 0.6583 - val_accuracy: 0.8854\n",
            "Epoch 26/30\n",
            "30/30 [==============================] - 1s 45ms/step - loss: 0.0817 - accuracy: 0.9741 - val_loss: 0.6125 - val_accuracy: 0.8824\n",
            "Epoch 27/30\n",
            "30/30 [==============================] - 1s 45ms/step - loss: 0.0811 - accuracy: 0.9743 - val_loss: 0.6628 - val_accuracy: 0.8853\n",
            "Epoch 28/30\n",
            "30/30 [==============================] - 1s 44ms/step - loss: 0.0713 - accuracy: 0.9751 - val_loss: 0.7304 - val_accuracy: 0.8855\n",
            "Epoch 29/30\n",
            "30/30 [==============================] - 1s 44ms/step - loss: 0.0800 - accuracy: 0.9747 - val_loss: 0.7139 - val_accuracy: 0.8837\n",
            "Epoch 30/30\n",
            "30/30 [==============================] - 1s 44ms/step - loss: 0.0752 - accuracy: 0.9762 - val_loss: 0.7494 - val_accuracy: 0.8859\n"
          ]
        }
      ]
    },
    {
      "cell_type": "code",
      "source": [
        "import matplotlib.pyplot as plt\n",
        "\n",
        "acc = history7.history['accuracy']\n",
        "val_loss = history.history['val_loss']\n",
        "val_loss7 = history7.history['val_loss']\n",
        "\n",
        "epochs = range(1, len(acc) + 1)\n",
        "\n",
        "# \"bo\" is for \"blue dot\"\n",
        "plt.plot(epochs, val_loss, 'bo', label='Oringnal loss')\n",
        "# b is for \"solid blue line\"\n",
        "plt.plot(epochs, val_loss7, 'b', label='New loss')\n",
        "plt.title('The Comparsion of validation loss')\n",
        "plt.xlabel('Epochs')\n",
        "plt.ylabel('Loss')\n",
        "plt.legend()\n",
        "\n",
        "plt.show()"
      ],
      "metadata": {
        "colab": {
          "base_uri": "https://localhost:8080/",
          "height": 295
        },
        "id": "FvT9TpjNz7AD",
        "outputId": "894ebbac-02a9-40d5-815f-d5ee7b32fbf6"
      },
      "execution_count": 39,
      "outputs": [
        {
          "output_type": "display_data",
          "data": {
            "image/png": "[encoded data removed]",
            "text/plain": [
              "<Figure size 432x288 with 1 Axes>"
            ]
          },
          "metadata": {
            "needs_background": "light"
          }
        }
      ]
    },
    {
      "cell_type": "markdown",
      "source": [
        "Based on the all discussion, the final model has the lower validation loss and be efficient to resist overfitting."
      ],
      "metadata": {
        "id": "31PIcMUgIlzn"
      }
    }
  ],
  "metadata": {
    "colab": {
      "collapsed_sections": [
        "rvTRrBlFyJ3H",
        "M8WjXeAtJWHU",
        "NwegKH57VFT8",
        "jlLy_o8Hb5ts",
        "Cpcua2ZUgl1M"
      ],
      "name": "Assignment 1.ipynb",
      "provenance": [],
      "authorship_tag": "ABX9TyMsCTCHiL5UFgb61X//l7pc",
      "include_colab_link": true
    },
    "kernelspec": {
      "display_name": "Python 3",
      "name": "python3"
    },
    "language_info": {
      "name": "python"
    }
  },
  "nbformat": 4,
  "nbformat_minor": 0
}